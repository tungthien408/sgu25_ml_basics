{
 "cells": [
  {
   "cell_type": "markdown",
   "id": "66450c52",
   "metadata": {},
   "source": [
    "# Diabetes - Descriptive Statistics"
   ]
  },
  {
   "cell_type": "markdown",
   "id": "0641da58",
   "metadata": {},
   "source": [
    "## Table of Contents\n",
    "\n",
    "1. [Diabetes - Descriptive Statistics](#diabetes---descriptive-statistics)\n",
    "2. [Importing necessary libraries](#importing-necessary-libraries)\n",
    "3. [Loading dataset](#loading-dataset)\n",
    "4. [Initial information about dataset](#initial-information-about-dataset)\n",
    "    - [Basic information](#basic-information)\n",
    "    - [Process null values](#process-null-values)\n",
    "        - [Check null values](#check-null-values)\n",
    "        - [Understanding dataset](#understanding-dataset)\n",
    "        - [Replace missing values](#replace-missing-values)\n",
    "    - [Process duplicate rows](#process-duplicate-rows)\n",
    "        - [Check duplicate rows](#check-duplicate-rows)\n",
    "5. [Descriptive statistics of numeric variables](#descriptive-statistics-of-numeric-variables)\n",
    "6. [The end](#the-end)"
   ]
  },
  {
   "cell_type": "markdown",
   "id": "3d3c4651",
   "metadata": {},
   "source": [
    "## Importing necessary libraries"
   ]
  },
  {
   "cell_type": "code",
   "execution_count": 73,
   "id": "838f3611",
   "metadata": {},
   "outputs": [],
   "source": [
    "import pandas as pd\n",
    "import numpy as np\n",
    "import matplotlib.pyplot as plt\n",
    "import seaborn as sns\n"
   ]
  },
  {
   "cell_type": "markdown",
   "id": "5cce0419",
   "metadata": {},
   "source": [
    "## Loading dataset"
   ]
  },
  {
   "cell_type": "code",
   "execution_count": 74,
   "id": "8a8c0018",
   "metadata": {},
   "outputs": [
    {
     "data": {
      "text/html": [
       "<div>\n",
       "<style scoped>\n",
       "    .dataframe tbody tr th:only-of-type {\n",
       "        vertical-align: middle;\n",
       "    }\n",
       "\n",
       "    .dataframe tbody tr th {\n",
       "        vertical-align: top;\n",
       "    }\n",
       "\n",
       "    .dataframe thead th {\n",
       "        text-align: right;\n",
       "    }\n",
       "</style>\n",
       "<table border=\"1\" class=\"dataframe\">\n",
       "  <thead>\n",
       "    <tr style=\"text-align: right;\">\n",
       "      <th></th>\n",
       "      <th>Pregnancies</th>\n",
       "      <th>Glucose</th>\n",
       "      <th>BloodPressure</th>\n",
       "      <th>SkinThickness</th>\n",
       "      <th>Insulin</th>\n",
       "      <th>BMI</th>\n",
       "      <th>DiabetesPedigreeFunction</th>\n",
       "      <th>Age</th>\n",
       "      <th>Outcome</th>\n",
       "    </tr>\n",
       "  </thead>\n",
       "  <tbody>\n",
       "    <tr>\n",
       "      <th>0</th>\n",
       "      <td>6</td>\n",
       "      <td>148</td>\n",
       "      <td>72</td>\n",
       "      <td>35</td>\n",
       "      <td>0</td>\n",
       "      <td>33.6</td>\n",
       "      <td>0.627</td>\n",
       "      <td>50</td>\n",
       "      <td>1</td>\n",
       "    </tr>\n",
       "    <tr>\n",
       "      <th>1</th>\n",
       "      <td>1</td>\n",
       "      <td>85</td>\n",
       "      <td>66</td>\n",
       "      <td>29</td>\n",
       "      <td>0</td>\n",
       "      <td>26.6</td>\n",
       "      <td>0.351</td>\n",
       "      <td>31</td>\n",
       "      <td>0</td>\n",
       "    </tr>\n",
       "    <tr>\n",
       "      <th>2</th>\n",
       "      <td>8</td>\n",
       "      <td>183</td>\n",
       "      <td>64</td>\n",
       "      <td>0</td>\n",
       "      <td>0</td>\n",
       "      <td>23.3</td>\n",
       "      <td>0.672</td>\n",
       "      <td>32</td>\n",
       "      <td>1</td>\n",
       "    </tr>\n",
       "    <tr>\n",
       "      <th>3</th>\n",
       "      <td>1</td>\n",
       "      <td>89</td>\n",
       "      <td>66</td>\n",
       "      <td>23</td>\n",
       "      <td>94</td>\n",
       "      <td>28.1</td>\n",
       "      <td>0.167</td>\n",
       "      <td>21</td>\n",
       "      <td>0</td>\n",
       "    </tr>\n",
       "    <tr>\n",
       "      <th>4</th>\n",
       "      <td>0</td>\n",
       "      <td>137</td>\n",
       "      <td>40</td>\n",
       "      <td>35</td>\n",
       "      <td>168</td>\n",
       "      <td>43.1</td>\n",
       "      <td>2.288</td>\n",
       "      <td>33</td>\n",
       "      <td>1</td>\n",
       "    </tr>\n",
       "  </tbody>\n",
       "</table>\n",
       "</div>"
      ],
      "text/plain": [
       "   Pregnancies  Glucose  BloodPressure  SkinThickness  Insulin   BMI  \\\n",
       "0            6      148             72             35        0  33.6   \n",
       "1            1       85             66             29        0  26.6   \n",
       "2            8      183             64              0        0  23.3   \n",
       "3            1       89             66             23       94  28.1   \n",
       "4            0      137             40             35      168  43.1   \n",
       "\n",
       "   DiabetesPedigreeFunction  Age  Outcome  \n",
       "0                     0.627   50        1  \n",
       "1                     0.351   31        0  \n",
       "2                     0.672   32        1  \n",
       "3                     0.167   21        0  \n",
       "4                     2.288   33        1  "
      ]
     },
     "execution_count": 74,
     "metadata": {},
     "output_type": "execute_result"
    }
   ],
   "source": [
    "columns = [\"Pregnancies\", \"Glucose\", \"BloodPressure\", \"SkinThickness\",\n",
    "           \"Insulin\", \"BMI\", \"DiabetesPedigreeFunction\", \"Age\", \"Outcome\"]\n",
    "diabetes = pd.read_csv('pima-indians-diabetes.csv', names=columns)\n",
    "df = diabetes.copy()\n",
    "df.head()"
   ]
  },
  {
   "cell_type": "markdown",
   "id": "0667f052",
   "metadata": {},
   "source": [
    "## Initial information about dataset"
   ]
  },
  {
   "cell_type": "markdown",
   "id": "76272109",
   "metadata": {},
   "source": [
    "### Basic information"
   ]
  },
  {
   "cell_type": "code",
   "execution_count": 75,
   "id": "52bf61e0",
   "metadata": {},
   "outputs": [
    {
     "name": "stdout",
     "output_type": "stream",
     "text": [
      "<class 'pandas.core.frame.DataFrame'>\n",
      "RangeIndex: 768 entries, 0 to 767\n",
      "Data columns (total 9 columns):\n",
      " #   Column                    Non-Null Count  Dtype  \n",
      "---  ------                    --------------  -----  \n",
      " 0   Pregnancies               768 non-null    int64  \n",
      " 1   Glucose                   768 non-null    int64  \n",
      " 2   BloodPressure             768 non-null    int64  \n",
      " 3   SkinThickness             768 non-null    int64  \n",
      " 4   Insulin                   768 non-null    int64  \n",
      " 5   BMI                       768 non-null    float64\n",
      " 6   DiabetesPedigreeFunction  768 non-null    float64\n",
      " 7   Age                       768 non-null    int64  \n",
      " 8   Outcome                   768 non-null    int64  \n",
      "dtypes: float64(2), int64(7)\n",
      "memory usage: 54.1 KB\n"
     ]
    }
   ],
   "source": [
    "df.info()"
   ]
  },
  {
   "cell_type": "markdown",
   "id": "8e6c451c",
   "metadata": {},
   "source": [
    "Base on the description included in the dataset file, there are 11 input variables and 1 output variable.\n",
    "\n",
    "#### Input variables:\n",
    "- **Pregnancies**: Number of times pregnant\n",
    "\n",
    "- **Glucose**: Plasma glucose concentration a 2 hours in an oral glucose tolerance test\n",
    "\n",
    "- **BloodPressure**: Diastolic blood pressure (mm Hg)\n",
    "\n",
    "- **SkinThickness**: Triceps skin fold thickness (mm)\n",
    "\n",
    "- **Insulin**: 2-Hour serum insulin (mu U/ml)\n",
    "\n",
    "- **BMI**: Body mass index (weight in kg/(height in m)^2)\n",
    "\n",
    "- **DiabetesPedigreeFunction (DPF)**: Diabetes pedigree function\n",
    "\n",
    "- **Age**: Age (years)\n",
    "\n",
    "#### Output variable:\n",
    "- **Outcome**: Class variable (0 or 1)\n",
    "\n",
    "Based on medical literature and physiological constraints, the following ranges represent realistic values for each feature:\n",
    "\n",
    "- **Pregnancies: x ≥ 0**: Negative pregnancy counts are impossible.\n",
    "\n",
    "- **Glucose: 50 ≤ x ≤ 500 mg/dL**: Values below 50 mg/dL typically indicate severe hypoglycemia requiring immediate medical intervention, while values above 500 mg/dL represent extreme hyperglycemia that would likely be fatal without treatment. Zero values are impossible for living subjects.\n",
    "\n",
    "- **BloodPressure: 40 ≤ x ≤ 200 mmHg**: Diastolic blood pressure below 40 mmHg or above 200 mmHg represents extreme physiological conditions incompatible with normal life. Zero values are impossible for living subjects.\n",
    "\n",
    "- **SkinThickness: 5 ≤ x ≤ 50 mm**: Triceps skinfold thickness below 5 mm or above 50 mm is extremely rare, even in cases of severe malnutrition or morbid obesity. Zero values are physiologically impossible.\n",
    "\n",
    "- **Insulin: x ≥ 2 μU/ml**: Serum insulin levels cannot be negative. Values below 2 μU/ml are extremely rare even in Type 1 diabetes patients. Zero values likely indicate missing data rather than true measurements.\n",
    "\n",
    "- **BMI: 10 ≤ x ≤ 70**: BMI values below 10 kg/m² are incompatible with life, while values above 70 kg/m² are extraordinarily rare even in cases of extreme obesity. Zero values are impossible.\n",
    "\n",
    "- **DiabetesPedigreeFunction: x ≥ 0**: This is a calculated score representing genetic predisposition to diabetes based on family history. Negative values would be meaningless in this context.\n",
    "\n",
    "- **Age: x ≥ 0**: Age values must be zero or positive integers"
   ]
  },
  {
   "cell_type": "markdown",
   "id": "60ccd834",
   "metadata": {},
   "source": [
    "### Process null values"
   ]
  },
  {
   "cell_type": "markdown",
   "id": "39e6cfb2",
   "metadata": {},
   "source": [
    "#### Check null values"
   ]
  },
  {
   "cell_type": "markdown",
   "id": "f5d00b38",
   "metadata": {},
   "source": [
    "We can see on the df.head() that there are some features contain 0, which does not make any sense. This indicates missing value.\n",
    "\n",
    "Below we replace 0 value by NaN."
   ]
  },
  {
   "cell_type": "code",
   "execution_count": 76,
   "id": "edcb3898",
   "metadata": {},
   "outputs": [
    {
     "name": "stdout",
     "output_type": "stream",
     "text": [
      "Total number of null values in the dataset\n",
      "Pregnancies                   0\n",
      "Glucose                       5\n",
      "BloodPressure                35\n",
      "SkinThickness               227\n",
      "Insulin                     374\n",
      "BMI                          11\n",
      "DiabetesPedigreeFunction      0\n",
      "Age                           0\n",
      "Outcome                       0\n",
      "dtype: int64\n"
     ]
    }
   ],
   "source": [
    "df[['Glucose','BloodPressure','SkinThickness','Insulin','BMI']] = df[['Glucose','BloodPressure','SkinThickness','Insulin','BMI']].replace(0,np.nan)\n",
    "print(f\"Total number of null values in the dataset\")\n",
    "print(df.isnull().sum())"
   ]
  },
  {
   "cell_type": "markdown",
   "id": "65468769",
   "metadata": {},
   "source": [
    "Percentage of missing data"
   ]
  },
  {
   "cell_type": "code",
   "execution_count": 77,
   "id": "8155c9e0",
   "metadata": {},
   "outputs": [
    {
     "name": "stdout",
     "output_type": "stream",
     "text": [
      "Percentage of missing value in each feature\n",
      "Pregnancies                  0.000000\n",
      "Glucose                      0.651042\n",
      "BloodPressure                4.557292\n",
      "SkinThickness               29.557292\n",
      "Insulin                     48.697917\n",
      "BMI                          1.432292\n",
      "DiabetesPedigreeFunction     0.000000\n",
      "Age                          0.000000\n",
      "Outcome                      0.000000\n",
      "dtype: float64\n"
     ]
    }
   ],
   "source": [
    "print(\"Percentage of missing value in each feature\")\n",
    "print(100 * df.isnull().sum() / 768)"
   ]
  },
  {
   "cell_type": "markdown",
   "id": "d3affcc9",
   "metadata": {},
   "source": [
    "Before we deal with missing value, we must understand the data first, after that we could choose which method to deal with missing value:\n",
    "- Delete entire row\n",
    "- Delete entire feature\n",
    "- Imputation:\n",
    "    - Mean, median, mode imputation\n",
    "    - k-Nearest Neighbors imputation (k-NN)\n",
    "    - Hot-deck imputation\n",
    "    - Multiple imputation\n",
    "    - Regression imputation\n",
    "    - ..."
   ]
  },
  {
   "cell_type": "markdown",
   "id": "0bf61cce",
   "metadata": {},
   "source": [
    "#### Understanding dataset"
   ]
  },
  {
   "cell_type": "code",
   "execution_count": 78,
   "id": "6473f585",
   "metadata": {},
   "outputs": [
    {
     "data": {
      "text/html": [
       "<div>\n",
       "<style scoped>\n",
       "    .dataframe tbody tr th:only-of-type {\n",
       "        vertical-align: middle;\n",
       "    }\n",
       "\n",
       "    .dataframe tbody tr th {\n",
       "        vertical-align: top;\n",
       "    }\n",
       "\n",
       "    .dataframe thead th {\n",
       "        text-align: right;\n",
       "    }\n",
       "</style>\n",
       "<table border=\"1\" class=\"dataframe\">\n",
       "  <thead>\n",
       "    <tr style=\"text-align: right;\">\n",
       "      <th></th>\n",
       "      <th>Glucose</th>\n",
       "      <th>BloodPressure</th>\n",
       "      <th>SkinThickness</th>\n",
       "      <th>Insulin</th>\n",
       "      <th>BMI</th>\n",
       "    </tr>\n",
       "  </thead>\n",
       "  <tbody>\n",
       "    <tr>\n",
       "      <th>count</th>\n",
       "      <td>763.00</td>\n",
       "      <td>733.00</td>\n",
       "      <td>541.00</td>\n",
       "      <td>394.00</td>\n",
       "      <td>757.00</td>\n",
       "    </tr>\n",
       "    <tr>\n",
       "      <th>mean</th>\n",
       "      <td>121.69</td>\n",
       "      <td>72.41</td>\n",
       "      <td>29.15</td>\n",
       "      <td>155.55</td>\n",
       "      <td>32.46</td>\n",
       "    </tr>\n",
       "    <tr>\n",
       "      <th>std</th>\n",
       "      <td>30.54</td>\n",
       "      <td>12.38</td>\n",
       "      <td>10.48</td>\n",
       "      <td>118.78</td>\n",
       "      <td>6.92</td>\n",
       "    </tr>\n",
       "    <tr>\n",
       "      <th>min</th>\n",
       "      <td>44.00</td>\n",
       "      <td>24.00</td>\n",
       "      <td>7.00</td>\n",
       "      <td>14.00</td>\n",
       "      <td>18.20</td>\n",
       "    </tr>\n",
       "    <tr>\n",
       "      <th>25%</th>\n",
       "      <td>99.00</td>\n",
       "      <td>64.00</td>\n",
       "      <td>22.00</td>\n",
       "      <td>76.25</td>\n",
       "      <td>27.50</td>\n",
       "    </tr>\n",
       "    <tr>\n",
       "      <th>50%</th>\n",
       "      <td>117.00</td>\n",
       "      <td>72.00</td>\n",
       "      <td>29.00</td>\n",
       "      <td>125.00</td>\n",
       "      <td>32.30</td>\n",
       "    </tr>\n",
       "    <tr>\n",
       "      <th>75%</th>\n",
       "      <td>141.00</td>\n",
       "      <td>80.00</td>\n",
       "      <td>36.00</td>\n",
       "      <td>190.00</td>\n",
       "      <td>36.60</td>\n",
       "    </tr>\n",
       "    <tr>\n",
       "      <th>max</th>\n",
       "      <td>199.00</td>\n",
       "      <td>122.00</td>\n",
       "      <td>99.00</td>\n",
       "      <td>846.00</td>\n",
       "      <td>67.10</td>\n",
       "    </tr>\n",
       "  </tbody>\n",
       "</table>\n",
       "</div>"
      ],
      "text/plain": [
       "      Glucose BloodPressure SkinThickness Insulin     BMI\n",
       "count  763.00        733.00        541.00  394.00  757.00\n",
       "mean   121.69         72.41         29.15  155.55   32.46\n",
       "std     30.54         12.38         10.48  118.78    6.92\n",
       "min     44.00         24.00          7.00   14.00   18.20\n",
       "25%     99.00         64.00         22.00   76.25   27.50\n",
       "50%    117.00         72.00         29.00  125.00   32.30\n",
       "75%    141.00         80.00         36.00  190.00   36.60\n",
       "max    199.00        122.00         99.00  846.00   67.10"
      ]
     },
     "execution_count": 78,
     "metadata": {},
     "output_type": "execute_result"
    }
   ],
   "source": [
    "df[['Glucose','BloodPressure','SkinThickness','Insulin','BMI']].describe().apply(lambda x: x.apply('{:.2f}'.format))"
   ]
  },
  {
   "cell_type": "markdown",
   "id": "16916ccc",
   "metadata": {},
   "source": [
    "Base on the output, we could detect that:\n",
    "- There is a large disparity between mean value and median value (50%), which displays that Insulin's data distribution is skewed\n",
    "- The spread of Glucose, BloodPressure, SkinThickness and BMI data is just slightly skew\n",
    "\n",
    "Since all 5 features do have skewness in it's distribution and the limited ability of the group, we will choose median imputation as a way to replace missing values"
   ]
  },
  {
   "cell_type": "markdown",
   "id": "af385369",
   "metadata": {},
   "source": [
    "#### Replace missing values"
   ]
  },
  {
   "cell_type": "code",
   "execution_count": 79,
   "id": "962ebcfc",
   "metadata": {},
   "outputs": [
    {
     "name": "stdout",
     "output_type": "stream",
     "text": [
      "Totally there are 0 null values in the dataset\n"
     ]
    }
   ],
   "source": [
    "df = df.fillna(df.median())\n",
    "print(\"Totally there are {} null values in the dataset\".format(df.isnull().sum().sum()))"
   ]
  },
  {
   "cell_type": "markdown",
   "id": "39bb3a1a",
   "metadata": {},
   "source": [
    "### Process duplicate rows"
   ]
  },
  {
   "cell_type": "markdown",
   "id": "609987c3",
   "metadata": {},
   "source": [
    "#### Check duplicate rows"
   ]
  },
  {
   "cell_type": "code",
   "execution_count": 80,
   "id": "e8d869ed",
   "metadata": {},
   "outputs": [
    {
     "name": "stdout",
     "output_type": "stream",
     "text": [
      "Rows that have duplicated values: 0\n"
     ]
    }
   ],
   "source": [
    "duplicated_rows = df[df.duplicated()]\n",
    "rows, columns = duplicated_rows.shape\n",
    "print(f\"Rows that have duplicated values: {rows}\")"
   ]
  },
  {
   "cell_type": "markdown",
   "id": "a468b4c1",
   "metadata": {},
   "source": [
    "## Descriptive statistics of numeric variables"
   ]
  },
  {
   "cell_type": "code",
   "execution_count": 81,
   "id": "a75756d6",
   "metadata": {},
   "outputs": [
    {
     "data": {
      "text/html": [
       "<div>\n",
       "<style scoped>\n",
       "    .dataframe tbody tr th:only-of-type {\n",
       "        vertical-align: middle;\n",
       "    }\n",
       "\n",
       "    .dataframe tbody tr th {\n",
       "        vertical-align: top;\n",
       "    }\n",
       "\n",
       "    .dataframe thead th {\n",
       "        text-align: right;\n",
       "    }\n",
       "</style>\n",
       "<table border=\"1\" class=\"dataframe\">\n",
       "  <thead>\n",
       "    <tr style=\"text-align: right;\">\n",
       "      <th></th>\n",
       "      <th>Pregnancies</th>\n",
       "      <th>Glucose</th>\n",
       "      <th>BloodPressure</th>\n",
       "      <th>SkinThickness</th>\n",
       "      <th>Insulin</th>\n",
       "      <th>BMI</th>\n",
       "      <th>DiabetesPedigreeFunction</th>\n",
       "      <th>Age</th>\n",
       "      <th>Outcome</th>\n",
       "    </tr>\n",
       "  </thead>\n",
       "  <tbody>\n",
       "    <tr>\n",
       "      <th>count</th>\n",
       "      <td>768.00</td>\n",
       "      <td>768.00</td>\n",
       "      <td>768.00</td>\n",
       "      <td>768.00</td>\n",
       "      <td>768.00</td>\n",
       "      <td>768.00</td>\n",
       "      <td>768.00</td>\n",
       "      <td>768.00</td>\n",
       "      <td>768.00</td>\n",
       "    </tr>\n",
       "    <tr>\n",
       "      <th>mean</th>\n",
       "      <td>3.85</td>\n",
       "      <td>121.66</td>\n",
       "      <td>72.39</td>\n",
       "      <td>29.11</td>\n",
       "      <td>140.67</td>\n",
       "      <td>32.46</td>\n",
       "      <td>0.47</td>\n",
       "      <td>33.24</td>\n",
       "      <td>0.35</td>\n",
       "    </tr>\n",
       "    <tr>\n",
       "      <th>std</th>\n",
       "      <td>3.37</td>\n",
       "      <td>30.44</td>\n",
       "      <td>12.10</td>\n",
       "      <td>8.79</td>\n",
       "      <td>86.38</td>\n",
       "      <td>6.88</td>\n",
       "      <td>0.33</td>\n",
       "      <td>11.76</td>\n",
       "      <td>0.48</td>\n",
       "    </tr>\n",
       "    <tr>\n",
       "      <th>min</th>\n",
       "      <td>0.00</td>\n",
       "      <td>44.00</td>\n",
       "      <td>24.00</td>\n",
       "      <td>7.00</td>\n",
       "      <td>14.00</td>\n",
       "      <td>18.20</td>\n",
       "      <td>0.08</td>\n",
       "      <td>21.00</td>\n",
       "      <td>0.00</td>\n",
       "    </tr>\n",
       "    <tr>\n",
       "      <th>25%</th>\n",
       "      <td>1.00</td>\n",
       "      <td>99.75</td>\n",
       "      <td>64.00</td>\n",
       "      <td>25.00</td>\n",
       "      <td>121.50</td>\n",
       "      <td>27.50</td>\n",
       "      <td>0.24</td>\n",
       "      <td>24.00</td>\n",
       "      <td>0.00</td>\n",
       "    </tr>\n",
       "    <tr>\n",
       "      <th>50%</th>\n",
       "      <td>3.00</td>\n",
       "      <td>117.00</td>\n",
       "      <td>72.00</td>\n",
       "      <td>29.00</td>\n",
       "      <td>125.00</td>\n",
       "      <td>32.30</td>\n",
       "      <td>0.37</td>\n",
       "      <td>29.00</td>\n",
       "      <td>0.00</td>\n",
       "    </tr>\n",
       "    <tr>\n",
       "      <th>75%</th>\n",
       "      <td>6.00</td>\n",
       "      <td>140.25</td>\n",
       "      <td>80.00</td>\n",
       "      <td>32.00</td>\n",
       "      <td>127.25</td>\n",
       "      <td>36.60</td>\n",
       "      <td>0.63</td>\n",
       "      <td>41.00</td>\n",
       "      <td>1.00</td>\n",
       "    </tr>\n",
       "    <tr>\n",
       "      <th>max</th>\n",
       "      <td>17.00</td>\n",
       "      <td>199.00</td>\n",
       "      <td>122.00</td>\n",
       "      <td>99.00</td>\n",
       "      <td>846.00</td>\n",
       "      <td>67.10</td>\n",
       "      <td>2.42</td>\n",
       "      <td>81.00</td>\n",
       "      <td>1.00</td>\n",
       "    </tr>\n",
       "  </tbody>\n",
       "</table>\n",
       "</div>"
      ],
      "text/plain": [
       "      Pregnancies Glucose BloodPressure SkinThickness Insulin     BMI  \\\n",
       "count      768.00  768.00        768.00        768.00  768.00  768.00   \n",
       "mean         3.85  121.66         72.39         29.11  140.67   32.46   \n",
       "std          3.37   30.44         12.10          8.79   86.38    6.88   \n",
       "min          0.00   44.00         24.00          7.00   14.00   18.20   \n",
       "25%          1.00   99.75         64.00         25.00  121.50   27.50   \n",
       "50%          3.00  117.00         72.00         29.00  125.00   32.30   \n",
       "75%          6.00  140.25         80.00         32.00  127.25   36.60   \n",
       "max         17.00  199.00        122.00         99.00  846.00   67.10   \n",
       "\n",
       "      DiabetesPedigreeFunction     Age Outcome  \n",
       "count                   768.00  768.00  768.00  \n",
       "mean                      0.47   33.24    0.35  \n",
       "std                       0.33   11.76    0.48  \n",
       "min                       0.08   21.00    0.00  \n",
       "25%                       0.24   24.00    0.00  \n",
       "50%                       0.37   29.00    0.00  \n",
       "75%                       0.63   41.00    1.00  \n",
       "max                       2.42   81.00    1.00  "
      ]
     },
     "execution_count": 81,
     "metadata": {},
     "output_type": "execute_result"
    }
   ],
   "source": [
    "df.describe().apply(lambda x: x.apply('{:.2f}'.format))"
   ]
  },
  {
   "cell_type": "markdown",
   "id": "fc36e87d",
   "metadata": {},
   "source": [
    "From the output, we could see there are lots of figures generated:\n",
    "\n",
    "- **Count**: Shows the number of non-null values in each column.\n",
    "- **Mean**: Indicates the average value for each numerical column.\n",
    "- **Std**: The standard deviation, representing how spread out the values are from the mean.\n",
    "- **Min** & **Max**: Show the minimum and maximum values, thus giving the range of the data (range = max - min).\n",
    "- **25%** (Q1), **50%** (Median), **75%** (Q3): These are the quartiles. The 50% is the median. These give insights into how the data is distributed (e.g. symmetric, skewed).\n",
    "\n",
    "Distribution/Spread: If the mean and median (50%) are close, the distribution is fairly symmetric; if not, the data may be skewed."
   ]
  },
  {
   "cell_type": "markdown",
   "id": "4e18e414",
   "metadata": {},
   "source": [
    "# The end"
   ]
  }
 ],
 "metadata": {
  "kernelspec": {
   "display_name": "lab1",
   "language": "python",
   "name": "python3"
  },
  "language_info": {
   "codemirror_mode": {
    "name": "ipython",
    "version": 3
   },
   "file_extension": ".py",
   "mimetype": "text/x-python",
   "name": "python",
   "nbconvert_exporter": "python",
   "pygments_lexer": "ipython3",
   "version": "3.13.7"
  }
 },
 "nbformat": 4,
 "nbformat_minor": 5
}
