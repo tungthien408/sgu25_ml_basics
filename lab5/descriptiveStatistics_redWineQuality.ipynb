{
 "cells": [
  {
   "cell_type": "markdown",
   "id": "f13aa915",
   "metadata": {},
   "source": [
    "# Red Wind Quality - Descriptive Statistics"
   ]
  },
  {
   "cell_type": "markdown",
   "id": "684ce940",
   "metadata": {},
   "source": [
    "## Table of Contents\n",
    "\n",
    "1. [Red Wind Quality - Descriptive Statistics](#red-wind-quality---descriptive-statistics)\n",
    "2. [Importing necessary libraries](#importing-necessary-libraries)\n",
    "3. [Loading Dataset](#loading-dataset)\n",
    "4. [Initial Information About Dataset](#initial-information-about-dataset)\n",
    "    - [Basic information](#basic-information)\n",
    "    - [Process null values](#process-null-values)\n",
    "        - [Check null values](#check-null-values)\n",
    "    - [Process duplicate rows](#process-duplicate-rows)\n",
    "        - [Check duplicate rows](#check-duplicate-rows)\n",
    "        - [Remove duplicate rows](#remove-duplicate-rows)\n",
    "    - [Reformat the column's name](#reformat-the-columns-name)\n",
    "5. [Descriptive statistics of numeric variables](#descriptive-statistics-of-numeric-variables)\n",
    "6. [The End](#the-end)"
   ]
  },
  {
   "cell_type": "markdown",
   "id": "9d4d87c5",
   "metadata": {},
   "source": [
    "## Importing necessary libraries"
   ]
  },
  {
   "cell_type": "code",
   "execution_count": 2,
   "id": "2f22e738",
   "metadata": {},
   "outputs": [],
   "source": [
    "import pandas as pd"
   ]
  },
  {
   "cell_type": "markdown",
   "id": "75146b91",
   "metadata": {},
   "source": [
    "## Loading Dataset"
   ]
  },
  {
   "cell_type": "code",
   "execution_count": 3,
   "id": "96f2d271",
   "metadata": {},
   "outputs": [
    {
     "data": {
      "text/html": [
       "<div>\n",
       "<style scoped>\n",
       "    .dataframe tbody tr th:only-of-type {\n",
       "        vertical-align: middle;\n",
       "    }\n",
       "\n",
       "    .dataframe tbody tr th {\n",
       "        vertical-align: top;\n",
       "    }\n",
       "\n",
       "    .dataframe thead th {\n",
       "        text-align: right;\n",
       "    }\n",
       "</style>\n",
       "<table border=\"1\" class=\"dataframe\">\n",
       "  <thead>\n",
       "    <tr style=\"text-align: right;\">\n",
       "      <th></th>\n",
       "      <th>fixed acidity</th>\n",
       "      <th>volatile acidity</th>\n",
       "      <th>citric acid</th>\n",
       "      <th>residual sugar</th>\n",
       "      <th>chlorides</th>\n",
       "      <th>free sulfur dioxide</th>\n",
       "      <th>total sulfur dioxide</th>\n",
       "      <th>density</th>\n",
       "      <th>pH</th>\n",
       "      <th>sulphates</th>\n",
       "      <th>alcohol</th>\n",
       "      <th>quality</th>\n",
       "    </tr>\n",
       "  </thead>\n",
       "  <tbody>\n",
       "    <tr>\n",
       "      <th>0</th>\n",
       "      <td>7.4</td>\n",
       "      <td>0.70</td>\n",
       "      <td>0.00</td>\n",
       "      <td>1.9</td>\n",
       "      <td>0.076</td>\n",
       "      <td>11.0</td>\n",
       "      <td>34.0</td>\n",
       "      <td>0.9978</td>\n",
       "      <td>3.51</td>\n",
       "      <td>0.56</td>\n",
       "      <td>9.4</td>\n",
       "      <td>5</td>\n",
       "    </tr>\n",
       "    <tr>\n",
       "      <th>1</th>\n",
       "      <td>7.8</td>\n",
       "      <td>0.88</td>\n",
       "      <td>0.00</td>\n",
       "      <td>2.6</td>\n",
       "      <td>0.098</td>\n",
       "      <td>25.0</td>\n",
       "      <td>67.0</td>\n",
       "      <td>0.9968</td>\n",
       "      <td>3.20</td>\n",
       "      <td>0.68</td>\n",
       "      <td>9.8</td>\n",
       "      <td>5</td>\n",
       "    </tr>\n",
       "    <tr>\n",
       "      <th>2</th>\n",
       "      <td>7.8</td>\n",
       "      <td>0.76</td>\n",
       "      <td>0.04</td>\n",
       "      <td>2.3</td>\n",
       "      <td>0.092</td>\n",
       "      <td>15.0</td>\n",
       "      <td>54.0</td>\n",
       "      <td>0.9970</td>\n",
       "      <td>3.26</td>\n",
       "      <td>0.65</td>\n",
       "      <td>9.8</td>\n",
       "      <td>5</td>\n",
       "    </tr>\n",
       "    <tr>\n",
       "      <th>3</th>\n",
       "      <td>11.2</td>\n",
       "      <td>0.28</td>\n",
       "      <td>0.56</td>\n",
       "      <td>1.9</td>\n",
       "      <td>0.075</td>\n",
       "      <td>17.0</td>\n",
       "      <td>60.0</td>\n",
       "      <td>0.9980</td>\n",
       "      <td>3.16</td>\n",
       "      <td>0.58</td>\n",
       "      <td>9.8</td>\n",
       "      <td>6</td>\n",
       "    </tr>\n",
       "    <tr>\n",
       "      <th>4</th>\n",
       "      <td>7.4</td>\n",
       "      <td>0.70</td>\n",
       "      <td>0.00</td>\n",
       "      <td>1.9</td>\n",
       "      <td>0.076</td>\n",
       "      <td>11.0</td>\n",
       "      <td>34.0</td>\n",
       "      <td>0.9978</td>\n",
       "      <td>3.51</td>\n",
       "      <td>0.56</td>\n",
       "      <td>9.4</td>\n",
       "      <td>5</td>\n",
       "    </tr>\n",
       "  </tbody>\n",
       "</table>\n",
       "</div>"
      ],
      "text/plain": [
       "   fixed acidity  volatile acidity  citric acid  residual sugar  chlorides  \\\n",
       "0            7.4              0.70         0.00             1.9      0.076   \n",
       "1            7.8              0.88         0.00             2.6      0.098   \n",
       "2            7.8              0.76         0.04             2.3      0.092   \n",
       "3           11.2              0.28         0.56             1.9      0.075   \n",
       "4            7.4              0.70         0.00             1.9      0.076   \n",
       "\n",
       "   free sulfur dioxide  total sulfur dioxide  density    pH  sulphates  \\\n",
       "0                 11.0                  34.0   0.9978  3.51       0.56   \n",
       "1                 25.0                  67.0   0.9968  3.20       0.68   \n",
       "2                 15.0                  54.0   0.9970  3.26       0.65   \n",
       "3                 17.0                  60.0   0.9980  3.16       0.58   \n",
       "4                 11.0                  34.0   0.9978  3.51       0.56   \n",
       "\n",
       "   alcohol  quality  \n",
       "0      9.4        5  \n",
       "1      9.8        5  \n",
       "2      9.8        5  \n",
       "3      9.8        6  \n",
       "4      9.4        5  "
      ]
     },
     "execution_count": 3,
     "metadata": {},
     "output_type": "execute_result"
    }
   ],
   "source": [
    "wine = pd.read_csv('winequality-red.csv')\n",
    "df = wine.copy()\n",
    "df.head()"
   ]
  },
  {
   "cell_type": "markdown",
   "id": "26ba10ac",
   "metadata": {},
   "source": [
    "## Initial Information About Dataset"
   ]
  },
  {
   "cell_type": "markdown",
   "id": "6a95e895",
   "metadata": {},
   "source": [
    "### Basic information"
   ]
  },
  {
   "cell_type": "code",
   "execution_count": 4,
   "id": "2773746b",
   "metadata": {},
   "outputs": [
    {
     "name": "stdout",
     "output_type": "stream",
     "text": [
      "<class 'pandas.core.frame.DataFrame'>\n",
      "RangeIndex: 1599 entries, 0 to 1598\n",
      "Data columns (total 12 columns):\n",
      " #   Column                Non-Null Count  Dtype  \n",
      "---  ------                --------------  -----  \n",
      " 0   fixed acidity         1599 non-null   float64\n",
      " 1   volatile acidity      1599 non-null   float64\n",
      " 2   citric acid           1599 non-null   float64\n",
      " 3   residual sugar        1599 non-null   float64\n",
      " 4   chlorides             1599 non-null   float64\n",
      " 5   free sulfur dioxide   1599 non-null   float64\n",
      " 6   total sulfur dioxide  1599 non-null   float64\n",
      " 7   density               1599 non-null   float64\n",
      " 8   pH                    1599 non-null   float64\n",
      " 9   sulphates             1599 non-null   float64\n",
      " 10  alcohol               1599 non-null   float64\n",
      " 11  quality               1599 non-null   int64  \n",
      "dtypes: float64(11), int64(1)\n",
      "memory usage: 150.0 KB\n"
     ]
    }
   ],
   "source": [
    "df.info()"
   ]
  },
  {
   "cell_type": "markdown",
   "id": "e8e8162a",
   "metadata": {},
   "source": [
    "Base on the description included in the dataset file, there are 11 input variables and 1 output variable.\n",
    "\n",
    "#### Input variables:\n",
    "- **Fixed acidity**: most acids involved with wine or fixed or nonvolatile\n",
    "- **Valatile acidity**: the amount of acetic acid in wine, which at too high of levels can lead to an unpleasant, vinegar taste\n",
    "- **Citric acid**: found in small quantities, citric acid can add 'freshness' and flavor to wines\n",
    "- **Residual sugar**: the amount of sugar remaining after fermentation stops, it's rare to find wines with less than 1 gram/liter and wines with greater than 45 grams/liter are considered sweet\n",
    "- **Chlorides**: the amount of salt in the wine\n",
    "- **Free sulfur dioxide**: the free form of SO2 exists in equilibrium between molecular SO2 (as a dissolved gas) and bisulfite ion; it prevents microbial growth and the oxidation of wine\n",
    "- **Total sulfur dioxide**: amount of free and bound forms of S02; in low concentrations, SO2 is mostly undetectable in wine, but at free SO2 concentrations over 50 ppm, SO2 becomes evident in the nose and taste of wine\n",
    "- **Density**: the density of water is close to that of water depending on the percent alcohol and sugar content\n",
    "- **pH**: describes how acidic or basic a wine is on a scale from 0 (very acidic) to 14 (very basic); most wines are between 3-4 on the pH scale\n",
    "- **Sulphates**: a wine additive which can contribute to sulfur dioxide gas (S02) levels, wich acts as an antimicrobial and antioxidant\n",
    "- **Alcohol**: the percent alcohol content of the wine\n",
    "\n",
    "#### Output variable\n",
    "- **Quality**: output variable (based on sensory data, score between 0 and 10)"
   ]
  },
  {
   "cell_type": "markdown",
   "id": "b11eeb98",
   "metadata": {},
   "source": [
    "### Process null values"
   ]
  },
  {
   "cell_type": "markdown",
   "id": "9219968c",
   "metadata": {},
   "source": [
    "#### Check null values"
   ]
  },
  {
   "cell_type": "code",
   "execution_count": 5,
   "id": "72c8524e",
   "metadata": {},
   "outputs": [
    {
     "name": "stdout",
     "output_type": "stream",
     "text": [
      "Totally there are 0 null values in the dataset\n"
     ]
    }
   ],
   "source": [
    "print(\"Totally there are {} null values in the dataset\".format(df.isnull().sum().sum()))"
   ]
  },
  {
   "cell_type": "markdown",
   "id": "55260e47",
   "metadata": {},
   "source": [
    "### Process duplicate rows"
   ]
  },
  {
   "cell_type": "markdown",
   "id": "873960ad",
   "metadata": {},
   "source": [
    "#### Check duplicate rows"
   ]
  },
  {
   "cell_type": "code",
   "execution_count": 6,
   "id": "585ab835",
   "metadata": {},
   "outputs": [
    {
     "name": "stdout",
     "output_type": "stream",
     "text": [
      "Rows that have duplicated values: 240\n"
     ]
    }
   ],
   "source": [
    "duplicated_rows = df[df.duplicated()]\n",
    "rows, columns = duplicated_rows.shape\n",
    "print(f\"Rows that have duplicated values: {rows}\")"
   ]
  },
  {
   "cell_type": "markdown",
   "id": "d987ebfb",
   "metadata": {},
   "source": [
    "Since there are 240 duplicated rows in the dataset, it could affect negatively not only on the training time, but also the performance of the model. Because of that, we need to remove duplicated rows."
   ]
  },
  {
   "cell_type": "markdown",
   "id": "cd3c1165",
   "metadata": {},
   "source": [
    "#### Remove duplicate rows"
   ]
  },
  {
   "cell_type": "code",
   "execution_count": 7,
   "id": "5628b86b",
   "metadata": {},
   "outputs": [
    {
     "name": "stdout",
     "output_type": "stream",
     "text": [
      "<class 'pandas.core.frame.DataFrame'>\n",
      "Index: 1359 entries, 0 to 1598\n",
      "Data columns (total 12 columns):\n",
      " #   Column                Non-Null Count  Dtype  \n",
      "---  ------                --------------  -----  \n",
      " 0   fixed acidity         1359 non-null   float64\n",
      " 1   volatile acidity      1359 non-null   float64\n",
      " 2   citric acid           1359 non-null   float64\n",
      " 3   residual sugar        1359 non-null   float64\n",
      " 4   chlorides             1359 non-null   float64\n",
      " 5   free sulfur dioxide   1359 non-null   float64\n",
      " 6   total sulfur dioxide  1359 non-null   float64\n",
      " 7   density               1359 non-null   float64\n",
      " 8   pH                    1359 non-null   float64\n",
      " 9   sulphates             1359 non-null   float64\n",
      " 10  alcohol               1359 non-null   float64\n",
      " 11  quality               1359 non-null   int64  \n",
      "dtypes: float64(11), int64(1)\n",
      "memory usage: 138.0 KB\n"
     ]
    }
   ],
   "source": [
    "df = df.drop_duplicates()\n",
    "df.info()"
   ]
  },
  {
   "cell_type": "markdown",
   "id": "1c15aab8",
   "metadata": {},
   "source": [
    "### Reformat the column's name"
   ]
  },
  {
   "cell_type": "code",
   "execution_count": 8,
   "id": "e34ac125",
   "metadata": {},
   "outputs": [],
   "source": [
    "df.rename(columns = {\"fixed acidity\": \"fixed_acidity\", \"volatile acidity\": \"volatile_acidity\",\n",
    "                    \"citric acid\": \"citric_acid\", \"residual sugar\": \"residual_sugar\",\n",
    "                    \"chlorides\": \"chlorides\", \"free sulfur dioxide\": \"free_sulfur_dioxide\",\n",
    "                    \"total sulfur dioxide\": \"total_sulfur_dioxide\"}, inplace = True)"
   ]
  },
  {
   "cell_type": "markdown",
   "id": "d3620a93",
   "metadata": {},
   "source": [
    "## Descriptive statistics of numeric variables"
   ]
  },
  {
   "cell_type": "code",
   "execution_count": 9,
   "id": "d857157a",
   "metadata": {},
   "outputs": [
    {
     "data": {
      "text/html": [
       "<div>\n",
       "<style scoped>\n",
       "    .dataframe tbody tr th:only-of-type {\n",
       "        vertical-align: middle;\n",
       "    }\n",
       "\n",
       "    .dataframe tbody tr th {\n",
       "        vertical-align: top;\n",
       "    }\n",
       "\n",
       "    .dataframe thead th {\n",
       "        text-align: right;\n",
       "    }\n",
       "</style>\n",
       "<table border=\"1\" class=\"dataframe\">\n",
       "  <thead>\n",
       "    <tr style=\"text-align: right;\">\n",
       "      <th></th>\n",
       "      <th>fixed_acidity</th>\n",
       "      <th>volatile_acidity</th>\n",
       "      <th>citric_acid</th>\n",
       "      <th>residual_sugar</th>\n",
       "      <th>chlorides</th>\n",
       "      <th>free_sulfur_dioxide</th>\n",
       "      <th>total_sulfur_dioxide</th>\n",
       "      <th>density</th>\n",
       "      <th>pH</th>\n",
       "      <th>sulphates</th>\n",
       "      <th>alcohol</th>\n",
       "      <th>quality</th>\n",
       "    </tr>\n",
       "  </thead>\n",
       "  <tbody>\n",
       "    <tr>\n",
       "      <th>count</th>\n",
       "      <td>1359.00</td>\n",
       "      <td>1359.00</td>\n",
       "      <td>1359.00</td>\n",
       "      <td>1359.00</td>\n",
       "      <td>1359.00</td>\n",
       "      <td>1359.00</td>\n",
       "      <td>1359.00</td>\n",
       "      <td>1359.00</td>\n",
       "      <td>1359.00</td>\n",
       "      <td>1359.00</td>\n",
       "      <td>1359.00</td>\n",
       "      <td>1359.00</td>\n",
       "    </tr>\n",
       "    <tr>\n",
       "      <th>mean</th>\n",
       "      <td>8.31</td>\n",
       "      <td>0.53</td>\n",
       "      <td>0.27</td>\n",
       "      <td>2.52</td>\n",
       "      <td>0.09</td>\n",
       "      <td>15.89</td>\n",
       "      <td>46.83</td>\n",
       "      <td>1.00</td>\n",
       "      <td>3.31</td>\n",
       "      <td>0.66</td>\n",
       "      <td>10.43</td>\n",
       "      <td>5.62</td>\n",
       "    </tr>\n",
       "    <tr>\n",
       "      <th>std</th>\n",
       "      <td>1.74</td>\n",
       "      <td>0.18</td>\n",
       "      <td>0.20</td>\n",
       "      <td>1.35</td>\n",
       "      <td>0.05</td>\n",
       "      <td>10.45</td>\n",
       "      <td>33.41</td>\n",
       "      <td>0.00</td>\n",
       "      <td>0.16</td>\n",
       "      <td>0.17</td>\n",
       "      <td>1.08</td>\n",
       "      <td>0.82</td>\n",
       "    </tr>\n",
       "    <tr>\n",
       "      <th>min</th>\n",
       "      <td>4.60</td>\n",
       "      <td>0.12</td>\n",
       "      <td>0.00</td>\n",
       "      <td>0.90</td>\n",
       "      <td>0.01</td>\n",
       "      <td>1.00</td>\n",
       "      <td>6.00</td>\n",
       "      <td>0.99</td>\n",
       "      <td>2.74</td>\n",
       "      <td>0.33</td>\n",
       "      <td>8.40</td>\n",
       "      <td>3.00</td>\n",
       "    </tr>\n",
       "    <tr>\n",
       "      <th>25%</th>\n",
       "      <td>7.10</td>\n",
       "      <td>0.39</td>\n",
       "      <td>0.09</td>\n",
       "      <td>1.90</td>\n",
       "      <td>0.07</td>\n",
       "      <td>7.00</td>\n",
       "      <td>22.00</td>\n",
       "      <td>1.00</td>\n",
       "      <td>3.21</td>\n",
       "      <td>0.55</td>\n",
       "      <td>9.50</td>\n",
       "      <td>5.00</td>\n",
       "    </tr>\n",
       "    <tr>\n",
       "      <th>50%</th>\n",
       "      <td>7.90</td>\n",
       "      <td>0.52</td>\n",
       "      <td>0.26</td>\n",
       "      <td>2.20</td>\n",
       "      <td>0.08</td>\n",
       "      <td>14.00</td>\n",
       "      <td>38.00</td>\n",
       "      <td>1.00</td>\n",
       "      <td>3.31</td>\n",
       "      <td>0.62</td>\n",
       "      <td>10.20</td>\n",
       "      <td>6.00</td>\n",
       "    </tr>\n",
       "    <tr>\n",
       "      <th>75%</th>\n",
       "      <td>9.20</td>\n",
       "      <td>0.64</td>\n",
       "      <td>0.43</td>\n",
       "      <td>2.60</td>\n",
       "      <td>0.09</td>\n",
       "      <td>21.00</td>\n",
       "      <td>63.00</td>\n",
       "      <td>1.00</td>\n",
       "      <td>3.40</td>\n",
       "      <td>0.73</td>\n",
       "      <td>11.10</td>\n",
       "      <td>6.00</td>\n",
       "    </tr>\n",
       "    <tr>\n",
       "      <th>max</th>\n",
       "      <td>15.90</td>\n",
       "      <td>1.58</td>\n",
       "      <td>1.00</td>\n",
       "      <td>15.50</td>\n",
       "      <td>0.61</td>\n",
       "      <td>72.00</td>\n",
       "      <td>289.00</td>\n",
       "      <td>1.00</td>\n",
       "      <td>4.01</td>\n",
       "      <td>2.00</td>\n",
       "      <td>14.90</td>\n",
       "      <td>8.00</td>\n",
       "    </tr>\n",
       "  </tbody>\n",
       "</table>\n",
       "</div>"
      ],
      "text/plain": [
       "      fixed_acidity volatile_acidity citric_acid residual_sugar chlorides  \\\n",
       "count       1359.00          1359.00     1359.00        1359.00   1359.00   \n",
       "mean           8.31             0.53        0.27           2.52      0.09   \n",
       "std            1.74             0.18        0.20           1.35      0.05   \n",
       "min            4.60             0.12        0.00           0.90      0.01   \n",
       "25%            7.10             0.39        0.09           1.90      0.07   \n",
       "50%            7.90             0.52        0.26           2.20      0.08   \n",
       "75%            9.20             0.64        0.43           2.60      0.09   \n",
       "max           15.90             1.58        1.00          15.50      0.61   \n",
       "\n",
       "      free_sulfur_dioxide total_sulfur_dioxide  density       pH sulphates  \\\n",
       "count             1359.00              1359.00  1359.00  1359.00   1359.00   \n",
       "mean                15.89                46.83     1.00     3.31      0.66   \n",
       "std                 10.45                33.41     0.00     0.16      0.17   \n",
       "min                  1.00                 6.00     0.99     2.74      0.33   \n",
       "25%                  7.00                22.00     1.00     3.21      0.55   \n",
       "50%                 14.00                38.00     1.00     3.31      0.62   \n",
       "75%                 21.00                63.00     1.00     3.40      0.73   \n",
       "max                 72.00               289.00     1.00     4.01      2.00   \n",
       "\n",
       "       alcohol  quality  \n",
       "count  1359.00  1359.00  \n",
       "mean     10.43     5.62  \n",
       "std       1.08     0.82  \n",
       "min       8.40     3.00  \n",
       "25%       9.50     5.00  \n",
       "50%      10.20     6.00  \n",
       "75%      11.10     6.00  \n",
       "max      14.90     8.00  "
      ]
     },
     "execution_count": 9,
     "metadata": {},
     "output_type": "execute_result"
    }
   ],
   "source": [
    "df.describe().apply(lambda x: x.apply('{:.2f}'.format))"
   ]
  },
  {
   "cell_type": "markdown",
   "id": "f895e202",
   "metadata": {},
   "source": [
    "From the output, we could see there are lots of figures generated:\n",
    "\n",
    "- **Count**: Shows the number of non-null values in each column.\n",
    "- **Mean**: Indicates the average value for each numerical column.\n",
    "- **Std**: The standard deviation, representing how spread out the values are from the mean.\n",
    "- **Min** & **Max**: Show the minimum and maximum values, thus giving the range of the data (range = max - min).\n",
    "- **25%** (Q1), **50%** (Median), **75%** (Q3): These are the quartiles. The 50% is the median. These give insights into how the data is distributed (e.g. symmetric, skewed).\n",
    "\n",
    "Distribution/Spread: If the mean and median (50%) are close, the distribution is fairly symmetric; if not, the data may be skewed."
   ]
  },
  {
   "cell_type": "markdown",
   "id": "a27f6a24",
   "metadata": {},
   "source": [
    "# The End"
   ]
  }
 ],
 "metadata": {
  "kernelspec": {
   "display_name": "lab1",
   "language": "python",
   "name": "python3"
  },
  "language_info": {
   "codemirror_mode": {
    "name": "ipython",
    "version": 3
   },
   "file_extension": ".py",
   "mimetype": "text/x-python",
   "name": "python",
   "nbconvert_exporter": "python",
   "pygments_lexer": "ipython3",
   "version": "3.13.7"
  }
 },
 "nbformat": 4,
 "nbformat_minor": 5
}
