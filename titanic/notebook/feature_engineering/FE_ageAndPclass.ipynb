{
 "cells": [
  {
   "cell_type": "markdown",
   "id": "e5f4af9f",
   "metadata": {},
   "source": [
    "# Titanic - Feature Engineer - Age and Pclass - 13:20 23/10/2025"
   ]
  },
  {
   "cell_type": "markdown",
   "id": "3f0212e6",
   "metadata": {},
   "source": [
    "## Preparation"
   ]
  },
  {
   "cell_type": "code",
   "execution_count": 5,
   "id": "c1afc294",
   "metadata": {},
   "outputs": [
    {
     "data": {
      "application/vnd.microsoft.datawrangler.viewer.v0+json": {
       "columns": [
        {
         "name": "index",
         "rawType": "int64",
         "type": "integer"
        },
        {
         "name": "PassengerId",
         "rawType": "int64",
         "type": "integer"
        },
        {
         "name": "Survived",
         "rawType": "int64",
         "type": "integer"
        },
        {
         "name": "Pclass",
         "rawType": "int64",
         "type": "integer"
        },
        {
         "name": "Sex",
         "rawType": "int64",
         "type": "integer"
        },
        {
         "name": "Age",
         "rawType": "float64",
         "type": "float"
        },
        {
         "name": "Fare",
         "rawType": "float64",
         "type": "float"
        },
        {
         "name": "Embarked",
         "rawType": "int64",
         "type": "integer"
        },
        {
         "name": "FamilySize",
         "rawType": "int64",
         "type": "integer"
        }
       ],
       "ref": "2a374036-c881-4587-bf38-9365ed841a65",
       "rows": [
        [
         "0",
         "1",
         "0",
         "3",
         "1",
         "22.0",
         "7.25",
         "2",
         "2"
        ],
        [
         "1",
         "2",
         "1",
         "1",
         "0",
         "38.0",
         "71.2833",
         "0",
         "2"
        ],
        [
         "2",
         "3",
         "1",
         "3",
         "0",
         "26.0",
         "7.925",
         "2",
         "1"
        ],
        [
         "3",
         "4",
         "1",
         "1",
         "0",
         "35.0",
         "53.1",
         "2",
         "2"
        ],
        [
         "4",
         "5",
         "0",
         "3",
         "1",
         "35.0",
         "8.05",
         "2",
         "1"
        ]
       ],
       "shape": {
        "columns": 8,
        "rows": 5
       }
      },
      "text/html": [
       "<div>\n",
       "<style scoped>\n",
       "    .dataframe tbody tr th:only-of-type {\n",
       "        vertical-align: middle;\n",
       "    }\n",
       "\n",
       "    .dataframe tbody tr th {\n",
       "        vertical-align: top;\n",
       "    }\n",
       "\n",
       "    .dataframe thead th {\n",
       "        text-align: right;\n",
       "    }\n",
       "</style>\n",
       "<table border=\"1\" class=\"dataframe\">\n",
       "  <thead>\n",
       "    <tr style=\"text-align: right;\">\n",
       "      <th></th>\n",
       "      <th>PassengerId</th>\n",
       "      <th>Survived</th>\n",
       "      <th>Pclass</th>\n",
       "      <th>Sex</th>\n",
       "      <th>Age</th>\n",
       "      <th>Fare</th>\n",
       "      <th>Embarked</th>\n",
       "      <th>FamilySize</th>\n",
       "    </tr>\n",
       "  </thead>\n",
       "  <tbody>\n",
       "    <tr>\n",
       "      <th>0</th>\n",
       "      <td>1</td>\n",
       "      <td>0</td>\n",
       "      <td>3</td>\n",
       "      <td>1</td>\n",
       "      <td>22.0</td>\n",
       "      <td>7.2500</td>\n",
       "      <td>2</td>\n",
       "      <td>2</td>\n",
       "    </tr>\n",
       "    <tr>\n",
       "      <th>1</th>\n",
       "      <td>2</td>\n",
       "      <td>1</td>\n",
       "      <td>1</td>\n",
       "      <td>0</td>\n",
       "      <td>38.0</td>\n",
       "      <td>71.2833</td>\n",
       "      <td>0</td>\n",
       "      <td>2</td>\n",
       "    </tr>\n",
       "    <tr>\n",
       "      <th>2</th>\n",
       "      <td>3</td>\n",
       "      <td>1</td>\n",
       "      <td>3</td>\n",
       "      <td>0</td>\n",
       "      <td>26.0</td>\n",
       "      <td>7.9250</td>\n",
       "      <td>2</td>\n",
       "      <td>1</td>\n",
       "    </tr>\n",
       "    <tr>\n",
       "      <th>3</th>\n",
       "      <td>4</td>\n",
       "      <td>1</td>\n",
       "      <td>1</td>\n",
       "      <td>0</td>\n",
       "      <td>35.0</td>\n",
       "      <td>53.1000</td>\n",
       "      <td>2</td>\n",
       "      <td>2</td>\n",
       "    </tr>\n",
       "    <tr>\n",
       "      <th>4</th>\n",
       "      <td>5</td>\n",
       "      <td>0</td>\n",
       "      <td>3</td>\n",
       "      <td>1</td>\n",
       "      <td>35.0</td>\n",
       "      <td>8.0500</td>\n",
       "      <td>2</td>\n",
       "      <td>1</td>\n",
       "    </tr>\n",
       "  </tbody>\n",
       "</table>\n",
       "</div>"
      ],
      "text/plain": [
       "   PassengerId  Survived  Pclass  Sex   Age     Fare  Embarked  FamilySize\n",
       "0            1         0       3    1  22.0   7.2500         2           2\n",
       "1            2         1       1    0  38.0  71.2833         0           2\n",
       "2            3         1       3    0  26.0   7.9250         2           1\n",
       "3            4         1       1    0  35.0  53.1000         2           2\n",
       "4            5         0       3    1  35.0   8.0500         2           1"
      ]
     },
     "execution_count": 5,
     "metadata": {},
     "output_type": "execute_result"
    }
   ],
   "source": [
    "# import necessary library\n",
    "from os.path import join\n",
    "import pandas as pd\n",
    "import seaborn as sns\n",
    "import matplotlib.pyplot as plt\n",
    "\n",
    "# load feature engineered dataset (FamilySize)\n",
    "path_dir = join(\"..\", \"..\", \"data\")\n",
    "input_dir = join(path_dir, \"feature_engineered\", \"familySize\")\n",
    "df = pd.read_csv(join(input_dir, \"familySize_engineered_train.csv\"))\n",
    "df_test = pd.read_csv(join(input_dir, \"familySize_engineered_test.csv\"))\n",
    "\n",
    "df.head()"
   ]
  },
  {
   "cell_type": "markdown",
   "id": "315d7251",
   "metadata": {},
   "source": [
    "## Data visualization"
   ]
  },
  {
   "cell_type": "code",
   "execution_count": 6,
   "id": "080b63b6",
   "metadata": {},
   "outputs": [
    {
     "data": {
      "text/plain": [
       "<Axes: >"
      ]
     },
     "execution_count": 6,
     "metadata": {},
     "output_type": "execute_result"
    },
    {
     "data": {
      "image/png": "[encoded data removed]",
      "text/plain": [
       "<Figure size 1000x800 with 2 Axes>"
      ]
     },
     "metadata": {},
     "output_type": "display_data"
    }
   ],
   "source": [
    "# Correlation heatmap\n",
    "corr = df.corr()\n",
    "plt.figure(figsize=(10, 8))\n",
    "sns.heatmap(corr, cmap='coolwarm', annot=True)"
   ]
  },
  {
   "cell_type": "markdown",
   "id": "fc46f6e0",
   "metadata": {},
   "source": [
    "Top five highest absolute value of correlation between two features (not count `Survived`):\n",
    "- `Pclass` vs `Fare`: -0.55\n",
    "- `Age` vs `Pclass`: -0.34\n",
    "- `FamilySize` vs `Age`: -0.26\n",
    "- `Fare` vs `FamilySize`: 0.22\n",
    "- `Sex` vs `Fare`: 0.18\n",
    "- `Pclass` vs `Embarked`: 0.16\n",
    "\n",
    "Since Pclass and Fare are highly related to each other, as passengers who are in higher class tend to pay higher price, we think it's no need to have an analysis between these two features. Instead, we focused on `Age` and `Pclass`.\n",
    "\n",
    "We created a new feature called `AgeAndPclass`, it will replace `Age` and `Pclass`.\n",
    "\n",
    "$$\n",
    "\\text{AgeAndPclass} = \\text{Age} * \\text{Pclass}\n",
    "$$\n",
    "\n",
    "The smaller `AgeAndPclass` get, the higher survival chance the passengers have.\n",
    "\n",
    "From the correlation heatmap, we can see that `PassengerId` does not have such high correlation with every other features, because of that, we decided to remove this feature."
   ]
  },
  {
   "cell_type": "code",
   "execution_count": 7,
   "id": "1821b0dd",
   "metadata": {},
   "outputs": [
    {
     "data": {
      "application/vnd.microsoft.datawrangler.viewer.v0+json": {
       "columns": [
        {
         "name": "index",
         "rawType": "int64",
         "type": "integer"
        },
        {
         "name": "Survived",
         "rawType": "int64",
         "type": "integer"
        },
        {
         "name": "Sex",
         "rawType": "int64",
         "type": "integer"
        },
        {
         "name": "Fare",
         "rawType": "float64",
         "type": "float"
        },
        {
         "name": "Embarked",
         "rawType": "int64",
         "type": "integer"
        },
        {
         "name": "FamilySize",
         "rawType": "int64",
         "type": "integer"
        },
        {
         "name": "AgeAndPclass",
         "rawType": "float64",
         "type": "float"
        }
       ],
       "ref": "933d9e45-02fd-49d5-85f6-606202387e99",
       "rows": [
        [
         "0",
         "0",
         "1",
         "7.25",
         "2",
         "2",
         "66.0"
        ],
        [
         "1",
         "1",
         "0",
         "71.2833",
         "0",
         "2",
         "38.0"
        ],
        [
         "2",
         "1",
         "0",
         "7.925",
         "2",
         "1",
         "78.0"
        ],
        [
         "3",
         "1",
         "0",
         "53.1",
         "2",
         "2",
         "35.0"
        ],
        [
         "4",
         "0",
         "1",
         "8.05",
         "2",
         "1",
         "105.0"
        ]
       ],
       "shape": {
        "columns": 6,
        "rows": 5
       }
      },
      "text/html": [
       "<div>\n",
       "<style scoped>\n",
       "    .dataframe tbody tr th:only-of-type {\n",
       "        vertical-align: middle;\n",
       "    }\n",
       "\n",
       "    .dataframe tbody tr th {\n",
       "        vertical-align: top;\n",
       "    }\n",
       "\n",
       "    .dataframe thead th {\n",
       "        text-align: right;\n",
       "    }\n",
       "</style>\n",
       "<table border=\"1\" class=\"dataframe\">\n",
       "  <thead>\n",
       "    <tr style=\"text-align: right;\">\n",
       "      <th></th>\n",
       "      <th>Survived</th>\n",
       "      <th>Sex</th>\n",
       "      <th>Fare</th>\n",
       "      <th>Embarked</th>\n",
       "      <th>FamilySize</th>\n",
       "      <th>AgeAndPclass</th>\n",
       "    </tr>\n",
       "  </thead>\n",
       "  <tbody>\n",
       "    <tr>\n",
       "      <th>0</th>\n",
       "      <td>0</td>\n",
       "      <td>1</td>\n",
       "      <td>7.2500</td>\n",
       "      <td>2</td>\n",
       "      <td>2</td>\n",
       "      <td>66.0</td>\n",
       "    </tr>\n",
       "    <tr>\n",
       "      <th>1</th>\n",
       "      <td>1</td>\n",
       "      <td>0</td>\n",
       "      <td>71.2833</td>\n",
       "      <td>0</td>\n",
       "      <td>2</td>\n",
       "      <td>38.0</td>\n",
       "    </tr>\n",
       "    <tr>\n",
       "      <th>2</th>\n",
       "      <td>1</td>\n",
       "      <td>0</td>\n",
       "      <td>7.9250</td>\n",
       "      <td>2</td>\n",
       "      <td>1</td>\n",
       "      <td>78.0</td>\n",
       "    </tr>\n",
       "    <tr>\n",
       "      <th>3</th>\n",
       "      <td>1</td>\n",
       "      <td>0</td>\n",
       "      <td>53.1000</td>\n",
       "      <td>2</td>\n",
       "      <td>2</td>\n",
       "      <td>35.0</td>\n",
       "    </tr>\n",
       "    <tr>\n",
       "      <th>4</th>\n",
       "      <td>0</td>\n",
       "      <td>1</td>\n",
       "      <td>8.0500</td>\n",
       "      <td>2</td>\n",
       "      <td>1</td>\n",
       "      <td>105.0</td>\n",
       "    </tr>\n",
       "  </tbody>\n",
       "</table>\n",
       "</div>"
      ],
      "text/plain": [
       "   Survived  Sex     Fare  Embarked  FamilySize  AgeAndPclass\n",
       "0         0    1   7.2500         2           2          66.0\n",
       "1         1    0  71.2833         0           2          38.0\n",
       "2         1    0   7.9250         2           1          78.0\n",
       "3         1    0  53.1000         2           2          35.0\n",
       "4         0    1   8.0500         2           1         105.0"
      ]
     },
     "execution_count": 7,
     "metadata": {},
     "output_type": "execute_result"
    }
   ],
   "source": [
    "# Feature engineering: Create new feature `AgeAndPclass`\n",
    "df[\"AgeAndPclass\"] = df[\"Age\"] * df[\"Pclass\"]\n",
    "df_test[\"AgeAndPclass\"] = df_test[\"Age\"] * df_test[\"Pclass\"]\n",
    "\n",
    "df = df.drop(['Age', 'Pclass', 'PassengerId'], axis=1)\n",
    "df_test = df_test.drop(['Age', 'Pclass', 'PassengerId'], axis=1)\n",
    "\n",
    "# Save file\n",
    "df.to_csv(join(path_dir, \"feature_engineered\", \"ageAndPclass\", \"ageAndPclass_engineered_train.csv\"), index=False)\n",
    "df_test.to_csv(join(path_dir, \"feature_engineered\", \"ageAndPclass\", \"ageAndPclass_engineered_test.csv\"), index=False)\n",
    "\n",
    "df.head()"
   ]
  },
  {
   "cell_type": "markdown",
   "id": "050153f9",
   "metadata": {},
   "source": [
    "# The end"
   ]
  }
 ],
 "metadata": {
  "kernelspec": {
   "display_name": "base",
   "language": "python",
   "name": "python3"
  },
  "language_info": {
   "codemirror_mode": {
    "name": "ipython",
    "version": 3
   },
   "file_extension": ".py",
   "mimetype": "text/x-python",
   "name": "python",
   "nbconvert_exporter": "python",
   "pygments_lexer": "ipython3",
   "version": "3.13.5"
  }
 },
 "nbformat": 4,
 "nbformat_minor": 5
}
