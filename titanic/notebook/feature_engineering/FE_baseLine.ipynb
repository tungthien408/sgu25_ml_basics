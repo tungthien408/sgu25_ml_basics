{
 "cells": [
  {
   "cell_type": "markdown",
   "id": "08a32f6b",
   "metadata": {},
   "source": [
    "# Titanic - Feature Engineering Baseline"
   ]
  },
  {
   "cell_type": "markdown",
   "id": "f9fcf711",
   "metadata": {},
   "source": [
    "This time, we will only do basic stuff. We won't do anything fancy here, just remove `Name` and `Ticket` columns since they are not directly useful for modeling.\n",
    "This will serve as a baseline for us to compare with more advanced feature engineering techniques later."
   ]
  },
  {
   "cell_type": "code",
   "execution_count": 3,
   "id": "d55f5b23",
   "metadata": {},
   "outputs": [
    {
     "data": {
      "application/vnd.microsoft.datawrangler.viewer.v0+json": {
       "columns": [
        {
         "name": "index",
         "rawType": "int64",
         "type": "integer"
        },
        {
         "name": "PassengerId",
         "rawType": "int64",
         "type": "integer"
        },
        {
         "name": "Survived",
         "rawType": "int64",
         "type": "integer"
        },
        {
         "name": "Pclass",
         "rawType": "int64",
         "type": "integer"
        },
        {
         "name": "Sex",
         "rawType": "int64",
         "type": "integer"
        },
        {
         "name": "Age",
         "rawType": "float64",
         "type": "float"
        },
        {
         "name": "SibSp",
         "rawType": "int64",
         "type": "integer"
        },
        {
         "name": "Parch",
         "rawType": "int64",
         "type": "integer"
        },
        {
         "name": "Fare",
         "rawType": "float64",
         "type": "float"
        },
        {
         "name": "Embarked",
         "rawType": "int64",
         "type": "integer"
        }
       ],
       "ref": "5fc997bb-ef6f-4711-b909-9d35326c9870",
       "rows": [
        [
         "0",
         "1",
         "0",
         "3",
         "1",
         "22.0",
         "1",
         "0",
         "7.25",
         "2"
        ],
        [
         "1",
         "2",
         "1",
         "1",
         "0",
         "38.0",
         "1",
         "0",
         "71.2833",
         "0"
        ],
        [
         "2",
         "3",
         "1",
         "3",
         "0",
         "26.0",
         "0",
         "0",
         "7.925",
         "2"
        ],
        [
         "3",
         "4",
         "1",
         "1",
         "0",
         "35.0",
         "1",
         "0",
         "53.1",
         "2"
        ],
        [
         "4",
         "5",
         "0",
         "3",
         "1",
         "35.0",
         "0",
         "0",
         "8.05",
         "2"
        ]
       ],
       "shape": {
        "columns": 9,
        "rows": 5
       }
      },
      "text/html": [
       "<div>\n",
       "<style scoped>\n",
       "    .dataframe tbody tr th:only-of-type {\n",
       "        vertical-align: middle;\n",
       "    }\n",
       "\n",
       "    .dataframe tbody tr th {\n",
       "        vertical-align: top;\n",
       "    }\n",
       "\n",
       "    .dataframe thead th {\n",
       "        text-align: right;\n",
       "    }\n",
       "</style>\n",
       "<table border=\"1\" class=\"dataframe\">\n",
       "  <thead>\n",
       "    <tr style=\"text-align: right;\">\n",
       "      <th></th>\n",
       "      <th>PassengerId</th>\n",
       "      <th>Survived</th>\n",
       "      <th>Pclass</th>\n",
       "      <th>Sex</th>\n",
       "      <th>Age</th>\n",
       "      <th>SibSp</th>\n",
       "      <th>Parch</th>\n",
       "      <th>Fare</th>\n",
       "      <th>Embarked</th>\n",
       "    </tr>\n",
       "  </thead>\n",
       "  <tbody>\n",
       "    <tr>\n",
       "      <th>0</th>\n",
       "      <td>1</td>\n",
       "      <td>0</td>\n",
       "      <td>3</td>\n",
       "      <td>1</td>\n",
       "      <td>22.0</td>\n",
       "      <td>1</td>\n",
       "      <td>0</td>\n",
       "      <td>7.2500</td>\n",
       "      <td>2</td>\n",
       "    </tr>\n",
       "    <tr>\n",
       "      <th>1</th>\n",
       "      <td>2</td>\n",
       "      <td>1</td>\n",
       "      <td>1</td>\n",
       "      <td>0</td>\n",
       "      <td>38.0</td>\n",
       "      <td>1</td>\n",
       "      <td>0</td>\n",
       "      <td>71.2833</td>\n",
       "      <td>0</td>\n",
       "    </tr>\n",
       "    <tr>\n",
       "      <th>2</th>\n",
       "      <td>3</td>\n",
       "      <td>1</td>\n",
       "      <td>3</td>\n",
       "      <td>0</td>\n",
       "      <td>26.0</td>\n",
       "      <td>0</td>\n",
       "      <td>0</td>\n",
       "      <td>7.9250</td>\n",
       "      <td>2</td>\n",
       "    </tr>\n",
       "    <tr>\n",
       "      <th>3</th>\n",
       "      <td>4</td>\n",
       "      <td>1</td>\n",
       "      <td>1</td>\n",
       "      <td>0</td>\n",
       "      <td>35.0</td>\n",
       "      <td>1</td>\n",
       "      <td>0</td>\n",
       "      <td>53.1000</td>\n",
       "      <td>2</td>\n",
       "    </tr>\n",
       "    <tr>\n",
       "      <th>4</th>\n",
       "      <td>5</td>\n",
       "      <td>0</td>\n",
       "      <td>3</td>\n",
       "      <td>1</td>\n",
       "      <td>35.0</td>\n",
       "      <td>0</td>\n",
       "      <td>0</td>\n",
       "      <td>8.0500</td>\n",
       "      <td>2</td>\n",
       "    </tr>\n",
       "  </tbody>\n",
       "</table>\n",
       "</div>"
      ],
      "text/plain": [
       "   PassengerId  Survived  Pclass  Sex   Age  SibSp  Parch     Fare  Embarked\n",
       "0            1         0       3    1  22.0      1      0   7.2500         2\n",
       "1            2         1       1    0  38.0      1      0  71.2833         0\n",
       "2            3         1       3    0  26.0      0      0   7.9250         2\n",
       "3            4         1       1    0  35.0      1      0  53.1000         2\n",
       "4            5         0       3    1  35.0      0      0   8.0500         2"
      ]
     },
     "execution_count": 3,
     "metadata": {},
     "output_type": "execute_result"
    }
   ],
   "source": [
    "import os\n",
    "import pandas as pd\n",
    "\n",
    "# Load dataset\n",
    "path_dir = os.path.join(\"..\", \"..\", \"data\")\n",
    "df = pd.read_csv(os.path.join(path_dir, \"preprocessed\", \"preprocessed_train.csv\"))\n",
    "df_test = pd.read_csv(os.path.join(path_dir, \"preprocessed\", \"preprocessed_test.csv\"))\n",
    "\n",
    "# Remove `Name` and `Ticket` features\n",
    "df = df.drop(['Name', 'Ticket'], axis=1)\n",
    "df_test = df_test.drop(['Name', 'Ticket'], axis=1)\n",
    "\n",
    "# Save file\n",
    "df.to_csv(os.path.join(path_dir, \"feature_engineered\", \"baseline\", \"baseline_engineered_train.csv\"), index=False)\n",
    "df_test.to_csv(os.path.join(path_dir, \"feature_engineered\", \"baseline\", \"baseline_engineered_test.csv\"), index=False)\n",
    "\n",
    "df.head()"
   ]
  },
  {
   "cell_type": "markdown",
   "id": "8f0ab943",
   "metadata": {},
   "source": [
    "# The end"
   ]
  }
 ],
 "metadata": {
  "kernelspec": {
   "display_name": "base",
   "language": "python",
   "name": "python3"
  },
  "language_info": {
   "codemirror_mode": {
    "name": "ipython",
    "version": 3
   },
   "file_extension": ".py",
   "mimetype": "text/x-python",
   "name": "python",
   "nbconvert_exporter": "python",
   "pygments_lexer": "ipython3",
   "version": "3.13.5"
  }
 },
 "nbformat": 4,
 "nbformat_minor": 5
}
