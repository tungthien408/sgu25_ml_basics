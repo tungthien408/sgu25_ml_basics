{
  "cells": [
    {
      "cell_type": "markdown",
      "id": "a8ca84fe",
      "metadata": {},
      "source": [
        "# Titanic - Preprocessing Data\n"
      ]
    },
    {
      "cell_type": "markdown",
      "id": "128d7b69",
      "metadata": {},
      "source": [
        "## Preparation"
      ]
    },
    {
      "cell_type": "markdown",
      "id": "c0cf1faf",
      "metadata": {},
      "source": [
        "### Import necessary libraries"
      ]
    },
    {
      "cell_type": "code",
      "execution_count": 1,
      "id": "019628c9",
      "metadata": {
        "execution": {
          "iopub.execute_input": "2025-10-05T15:36:17.074902Z",
          "iopub.status.busy": "2025-10-05T15:36:17.074479Z",
          "iopub.status.idle": "2025-10-05T15:36:17.080831Z",
          "shell.execute_reply": "2025-10-05T15:36:17.079627Z",
          "shell.execute_reply.started": "2025-10-05T15:36:17.074871Z"
        }
      },
      "outputs": [],
      "source": [
        "import os\n",
        "import warnings\n",
        "warnings.filterwarnings(\"ignore\")\n",
        "\n",
        "import pandas as pd\n",
        "import matplotlib.pyplot as plt\n",
        "import seaborn as sns\n"
      ]
    },
    {
      "cell_type": "markdown",
      "id": "8fecad07",
      "metadata": {},
      "source": [
        "### Load train.csv file"
      ]
    },
    {
      "cell_type": "code",
      "execution_count": 2,
      "id": "d49303d7",
      "metadata": {
        "execution": {
          "iopub.execute_input": "2025-10-05T15:36:17.103688Z",
          "iopub.status.busy": "2025-10-05T15:36:17.103211Z",
          "iopub.status.idle": "2025-10-05T15:36:17.124336Z",
          "shell.execute_reply": "2025-10-05T15:36:17.123445Z",
          "shell.execute_reply.started": "2025-10-05T15:36:17.103652Z"
        }
      },
      "outputs": [
        {
          "name": "stdout",
          "output_type": "stream",
          "text": [
            "Successfully load training data.\n"
          ]
        },
        {
          "data": {
            "text/html": [
              "<div>\n",
              "<style scoped>\n",
              "    .dataframe tbody tr th:only-of-type {\n",
              "        vertical-align: middle;\n",
              "    }\n",
              "\n",
              "    .dataframe tbody tr th {\n",
              "        vertical-align: top;\n",
              "    }\n",
              "\n",
              "    .dataframe thead th {\n",
              "        text-align: right;\n",
              "    }\n",
              "</style>\n",
              "<table border=\"1\" class=\"dataframe\">\n",
              "  <thead>\n",
              "    <tr style=\"text-align: right;\">\n",
              "      <th></th>\n",
              "      <th>PassengerId</th>\n",
              "      <th>Survived</th>\n",
              "      <th>Pclass</th>\n",
              "      <th>Name</th>\n",
              "      <th>Sex</th>\n",
              "      <th>Age</th>\n",
              "      <th>SibSp</th>\n",
              "      <th>Parch</th>\n",
              "      <th>Ticket</th>\n",
              "      <th>Fare</th>\n",
              "      <th>Cabin</th>\n",
              "      <th>Embarked</th>\n",
              "    </tr>\n",
              "  </thead>\n",
              "  <tbody>\n",
              "    <tr>\n",
              "      <th>0</th>\n",
              "      <td>1</td>\n",
              "      <td>0</td>\n",
              "      <td>3</td>\n",
              "      <td>Braund, Mr. Owen Harris</td>\n",
              "      <td>male</td>\n",
              "      <td>22.0</td>\n",
              "      <td>1</td>\n",
              "      <td>0</td>\n",
              "      <td>A/5 21171</td>\n",
              "      <td>7.2500</td>\n",
              "      <td>NaN</td>\n",
              "      <td>S</td>\n",
              "    </tr>\n",
              "    <tr>\n",
              "      <th>1</th>\n",
              "      <td>2</td>\n",
              "      <td>1</td>\n",
              "      <td>1</td>\n",
              "      <td>Cumings, Mrs. John Bradley (Florence Briggs Th...</td>\n",
              "      <td>female</td>\n",
              "      <td>38.0</td>\n",
              "      <td>1</td>\n",
              "      <td>0</td>\n",
              "      <td>PC 17599</td>\n",
              "      <td>71.2833</td>\n",
              "      <td>C85</td>\n",
              "      <td>C</td>\n",
              "    </tr>\n",
              "    <tr>\n",
              "      <th>2</th>\n",
              "      <td>3</td>\n",
              "      <td>1</td>\n",
              "      <td>3</td>\n",
              "      <td>Heikkinen, Miss. Laina</td>\n",
              "      <td>female</td>\n",
              "      <td>26.0</td>\n",
              "      <td>0</td>\n",
              "      <td>0</td>\n",
              "      <td>STON/O2. 3101282</td>\n",
              "      <td>7.9250</td>\n",
              "      <td>NaN</td>\n",
              "      <td>S</td>\n",
              "    </tr>\n",
              "    <tr>\n",
              "      <th>3</th>\n",
              "      <td>4</td>\n",
              "      <td>1</td>\n",
              "      <td>1</td>\n",
              "      <td>Futrelle, Mrs. Jacques Heath (Lily May Peel)</td>\n",
              "      <td>female</td>\n",
              "      <td>35.0</td>\n",
              "      <td>1</td>\n",
              "      <td>0</td>\n",
              "      <td>113803</td>\n",
              "      <td>53.1000</td>\n",
              "      <td>C123</td>\n",
              "      <td>S</td>\n",
              "    </tr>\n",
              "    <tr>\n",
              "      <th>4</th>\n",
              "      <td>5</td>\n",
              "      <td>0</td>\n",
              "      <td>3</td>\n",
              "      <td>Allen, Mr. William Henry</td>\n",
              "      <td>male</td>\n",
              "      <td>35.0</td>\n",
              "      <td>0</td>\n",
              "      <td>0</td>\n",
              "      <td>373450</td>\n",
              "      <td>8.0500</td>\n",
              "      <td>NaN</td>\n",
              "      <td>S</td>\n",
              "    </tr>\n",
              "  </tbody>\n",
              "</table>\n",
              "</div>"
            ],
            "text/plain": [
              "   PassengerId  Survived  Pclass  \\\n",
              "0            1         0       3   \n",
              "1            2         1       1   \n",
              "2            3         1       3   \n",
              "3            4         1       1   \n",
              "4            5         0       3   \n",
              "\n",
              "                                                Name     Sex   Age  SibSp  \\\n",
              "0                            Braund, Mr. Owen Harris    male  22.0      1   \n",
              "1  Cumings, Mrs. John Bradley (Florence Briggs Th...  female  38.0      1   \n",
              "2                             Heikkinen, Miss. Laina  female  26.0      0   \n",
              "3       Futrelle, Mrs. Jacques Heath (Lily May Peel)  female  35.0      1   \n",
              "4                           Allen, Mr. William Henry    male  35.0      0   \n",
              "\n",
              "   Parch            Ticket     Fare Cabin Embarked  \n",
              "0      0         A/5 21171   7.2500   NaN        S  \n",
              "1      0          PC 17599  71.2833   C85        C  \n",
              "2      0  STON/O2. 3101282   7.9250   NaN        S  \n",
              "3      0            113803  53.1000  C123        S  \n",
              "4      0            373450   8.0500   NaN        S  "
            ]
          },
          "execution_count": 2,
          "metadata": {},
          "output_type": "execute_result"
        }
      ],
      "source": [
        "\n",
        "data_path = os.path.join(\"..\", \"..\", \"data\")\n",
        "titanic = pd.read_csv(os.path.join(data_path, \"raw\", \"train.csv\"))\n",
        "df = titanic.copy()\n",
        "test_dataset = titanic = pd.read_csv(os.path.join(data_path, \"raw\", \"test.csv\"))\n",
        "df_test = titanic.copy()\n",
        "\n",
        "print(\"Successfully load training data.\")\n",
        "df.head()"
      ]
    },
    {
      "cell_type": "code",
      "execution_count": 3,
      "id": "52dce1d9",
      "metadata": {
        "execution": {
          "iopub.execute_input": "2025-10-05T15:36:17.172707Z",
          "iopub.status.busy": "2025-10-05T15:36:17.172355Z",
          "iopub.status.idle": "2025-10-05T15:36:17.194395Z",
          "shell.execute_reply": "2025-10-05T15:36:17.193570Z",
          "shell.execute_reply.started": "2025-10-05T15:36:17.172679Z"
        }
      },
      "outputs": [],
      "source": [
        "for x in ['Pclass', 'Sex', 'Embarked']:\n",
        "    df[x] = df[x].astype('category')\n",
        "    df_test[x] = df_test[x].astype('category')\n",
        "df['Survived'] = df['Survived'].astype('category')"
      ]
    },
    {
      "cell_type": "code",
      "execution_count": 4,
      "id": "00721111",
      "metadata": {
        "execution": {
          "iopub.execute_input": "2025-10-05T15:36:17.195606Z",
          "iopub.status.busy": "2025-10-05T15:36:17.195278Z",
          "iopub.status.idle": "2025-10-05T15:36:17.215906Z",
          "shell.execute_reply": "2025-10-05T15:36:17.215115Z",
          "shell.execute_reply.started": "2025-10-05T15:36:17.195585Z"
        }
      },
      "outputs": [
        {
          "name": "stdout",
          "output_type": "stream",
          "text": [
            "===== Number of missing values (train dataset) =====\n",
            "\n",
            "Age         177\n",
            "Cabin       687\n",
            "Embarked      2\n",
            "dtype: int64\n",
            "\n",
            "\n",
            "===== Number of missing values (test dataset) =====\n",
            "\n",
            "Age       86\n",
            "Cabin    327\n",
            "Fare       1\n",
            "dtype: int64\n"
          ]
        }
      ],
      "source": [
        "print(\"===== Number of missing values (train dataset) =====\\n\")\n",
        "print(df[['Age', 'Cabin', 'Embarked']].isnull().sum())\n",
        "print('\\n')\n",
        "print(\"===== Number of missing values (test dataset) =====\\n\")\n",
        "print(df_test[['Age', 'Cabin', 'Fare']].isnull().sum())"
      ]
    },
    {
      "cell_type": "code",
      "execution_count": 5,
      "id": "a8a65629",
      "metadata": {
        "execution": {
          "iopub.execute_input": "2025-10-05T15:36:17.217495Z",
          "iopub.status.busy": "2025-10-05T15:36:17.217158Z",
          "iopub.status.idle": "2025-10-05T15:36:17.235961Z",
          "shell.execute_reply": "2025-10-05T15:36:17.235256Z",
          "shell.execute_reply.started": "2025-10-05T15:36:17.217469Z"
        }
      },
      "outputs": [
        {
          "name": "stdout",
          "output_type": "stream",
          "text": [
            "===== Percentage of missing values on train dataset =====\n",
            "\n",
            "Age         19.865320\n",
            "Cabin       77.104377\n",
            "Embarked     0.224467\n",
            "dtype: float64\n",
            "\n",
            "\n",
            "===== Percentage of missing values on test dataset =====\n",
            "\n",
            "Age      20.574163\n",
            "Cabin    78.229665\n",
            "Fare      0.239234\n",
            "dtype: float64\n"
          ]
        }
      ],
      "source": [
        "print(\"===== Percentage of missing values on train dataset =====\\n\")\n",
        "print(df[['Age', 'Cabin', 'Embarked']].isnull().sum() / len(df) * 100)\n",
        "print('\\n')\n",
        "print(\"===== Percentage of missing values on test dataset =====\\n\")\n",
        "print(df_test[['Age', 'Cabin', 'Fare']].isnull().sum() / len(df_test) * 100)"
      ]
    },
    {
      "cell_type": "markdown",
      "id": "15edd9cb",
      "metadata": {},
      "source": [
        "## Handle missing value"
      ]
    },
    {
      "cell_type": "markdown",
      "id": "39b76fe6",
      "metadata": {},
      "source": [
        "We need to find solutions to handle missing value.\n",
        "From the output detecting missing value, here's the proportion of missing value for `Age`, `Cabin`, and `Embarked` in train dataset:\n",
        "\n",
        "- Age: 19.87%\n",
        "- Cabin: 77.10%\n",
        "- Embarked: 0.22%\n",
        "\n",
        "For test dataset, here's the proportion of missing value for `Age`, `Cabin`, and `Fare`:\n",
        "- Age: 20.57%\n",
        "- Cabin: 78.23%\n",
        "- Fare: 0.24%\n",
        "\n",
        "For `Cabin` features, although the missing value percentage are pretty high, it could be a good information to show passenger's room level, which is a really crucial detail related to survivability. Furthermore, we can base on that information to know if the passengers stayed at the front part (bow) of the Titanic, which is the part of the ship that sank first.\n",
        "\n",
        "For `Age` features, it could related to the survivability, as children and elderly usually be prioritized.\n",
        "\n",
        "For `Embarked` features, it could related to passenger's room level (passengers go on the ship first might have room that are in higher level).\n",
        "\n",
        "Because of that, I think that we should not remove these features. We need to handle value instead.\n",
        "\n",
        "For testing dataset, we also have missing value in `Fare` feature. We will handle it."
      ]
    },
    {
      "cell_type": "markdown",
      "id": "8068ed40",
      "metadata": {},
      "source": [
        "### Handle missing age value"
      ]
    },
    {
      "cell_type": "markdown",
      "id": "7ac3aadd",
      "metadata": {},
      "source": [
        "Honorific title inside passengers' name could tell us a little about their age.\n",
        "\n",
        "At first, we splited value `Age` into 5 main groups: Mr, Mrs, Master, Miss, and other in order to not only impute missing values but also capture potential age-related patterns.\n",
        "\n",
        "But after looking at survivability rate of each group, we decided not to complicate things and just impute missing value with median age of the whole dataset. Except for `Master` group, we will impute missing value with median age of this group as title \"Master\" is only for people under 12."
      ]
    },
    {
      "cell_type": "code",
      "execution_count": 6,
      "id": "3f10b214",
      "metadata": {
        "execution": {
          "iopub.execute_input": "2025-10-05T15:36:18.356890Z",
          "iopub.status.busy": "2025-10-05T15:36:18.356580Z",
          "iopub.status.idle": "2025-10-05T15:36:18.391541Z",
          "shell.execute_reply": "2025-10-05T15:36:18.390740Z",
          "shell.execute_reply.started": "2025-10-05T15:36:18.356862Z"
        }
      },
      "outputs": [],
      "source": [
        "master = df['Name'].str.contains(r',\\s*Master.', regex=True)\n",
        "df_master = df[master].copy()\n",
        "\n",
        "mean_age = df['Age'].median()\n",
        "mean_age_master = df_master['Age'].median()\n",
        "\n",
        "df_master['Age'] = df_master['Age'].fillna(mean_age_master)\n",
        "df[master] = df_master\n",
        "\n",
        "df['Age'] = df['Age'].fillna(mean_age)\n",
        "df_test['Age'] = df_test['Age'].fillna(mean_age)"
      ]
    },
    {
      "cell_type": "markdown",
      "id": "138b614b",
      "metadata": {},
      "source": [
        "### Handle missing values from Cabin, Embarked (train dataset) and Fare (test dataset)"
      ]
    },
    {
      "cell_type": "markdown",
      "id": "b3f7e6e0",
      "metadata": {},
      "source": [
        "Perhaps the only features that we could use to guess people's cabin is Ticket number, but since there are no ticket number system, we could not conclude anything from that.\n",
        "\n",
        "At first, I thought it would be possible to fill missing `Cabin` value by looking at passengers' ticket class, fare, and embarked point, but after some research, I found out that there is no clear relationship between these features and `Cabin` value.\n",
        "\n",
        "Therefore, I will just remove the `Cabin` feature, as it has too many missing values and we could not find a way to fill them.\n",
        "\n",
        "As for Embarked value, I will choose \"S\" to fill that, as the primary embarked point was Southampton (Titanic trip started from there)\n",
        "\n",
        "As for Fare value in testing dataset, I will fill it with median of Fare value."
      ]
    },
    {
      "cell_type": "code",
      "execution_count": 7,
      "id": "683fbf1f",
      "metadata": {
        "execution": {
          "iopub.execute_input": "2025-10-05T15:36:18.392728Z",
          "iopub.status.busy": "2025-10-05T15:36:18.392433Z",
          "iopub.status.idle": "2025-10-05T15:36:18.399257Z",
          "shell.execute_reply": "2025-10-05T15:36:18.398462Z",
          "shell.execute_reply.started": "2025-10-05T15:36:18.392703Z"
        }
      },
      "outputs": [],
      "source": [
        "df = df.drop(['Cabin'], axis=1)\n",
        "df_test = df_test.drop(['Cabin'], axis=1)\n",
        "\n",
        "df['Embarked'] = df['Embarked'].fillna(\"S\")\n",
        "df_test['Embarked'] = df_test['Embarked'].fillna(\"S\")\n",
        "\n",
        "fare_mean = df['Fare'].median()\n",
        "df_test['Fare'] = df_test['Fare'].fillna(fare_mean)"
      ]
    },
    {
      "cell_type": "code",
      "execution_count": 8,
      "id": "90abbc11",
      "metadata": {
        "execution": {
          "iopub.execute_input": "2025-10-05T15:36:18.401072Z",
          "iopub.status.busy": "2025-10-05T15:36:18.400467Z",
          "iopub.status.idle": "2025-10-05T15:36:18.422622Z",
          "shell.execute_reply": "2025-10-05T15:36:18.421632Z",
          "shell.execute_reply.started": "2025-10-05T15:36:18.401043Z"
        }
      },
      "outputs": [
        {
          "name": "stdout",
          "output_type": "stream",
          "text": [
            "===== Quantity of missing values =====\n",
            "Age         0\n",
            "Embarked    0\n",
            "dtype: int64\n",
            "Fare    0\n",
            "dtype: int64\n",
            "\n",
            "===== Percentage of missing values =====\n",
            "Age         0.0\n",
            "Embarked    0.0\n",
            "dtype: float64\n",
            "Fare    0.0\n",
            "dtype: float64\n"
          ]
        }
      ],
      "source": [
        "\n",
        "print(\"===== Quantity of missing values =====\")\n",
        "print(df[['Age', 'Embarked']].isnull().sum())\n",
        "print(df_test[['Fare']].isnull().sum())\n",
        "print(\"\\n===== Percentage of missing values =====\")\n",
        "print(df[['Age', 'Embarked']].isnull().sum() / len(df) * 100)\n",
        "print(df_test[['Fare']].isnull().sum() / len(df_test) * 100)"
      ]
    },
    {
      "cell_type": "markdown",
      "id": "aeadd225",
      "metadata": {},
      "source": [
        "## Detecting outliers"
      ]
    },
    {
      "cell_type": "markdown",
      "id": "8b6d986a",
      "metadata": {},
      "source": [
        "This section will mainly focus on addressing outlier values in numeric features.\n",
        "\n",
        "Based on the outputs from the boxplot from EDA Analysis, we could see that `Age`, `Fare`, `SibSp`, and `Parch` features have outlier values. However, since `SibSp` and `Parch` features are not continuous (both features have a limited number of unique values), we will not handle outlier values in these two features, as it could affect negatively on the model.\n",
        "\n",
        "To handle outlier values, IQR method is used to find the lower bound and upper bound, then replace outlier values with values within these bounds using techniques such as capping or imputation."
      ]
    },
    {
      "cell_type": "code",
      "execution_count": 9,
      "id": "9f61c91c",
      "metadata": {},
      "outputs": [
        {
          "name": "stdout",
          "output_type": "stream",
          "text": [
            "Total outliers in Age: 66\n",
            "Total outliers in Fare: 116\n"
          ]
        }
      ],
      "source": [
        "num_cols = ['Age', 'Fare']\n",
        "def detect_outliers_iqr(df, col, factor=1.5):\n",
        "    Q1 = df[col].quantile(0.25)\n",
        "    Q3 = df[col].quantile(0.75)\n",
        "    IQR = Q3 - Q1\n",
        "    lower_bound = max(Q1 - factor * IQR, 0)  # Age cannot be negative\n",
        "    upper_bound = Q3 + factor * IQR\n",
        "    outliers = df[(df[col] < lower_bound) | (df[col] > upper_bound)]\n",
        "    # print(f'{col} - Outliers (IQR): {len(outliers)}, Lower: {lower_bound:.2f}, Upper: {upper_bound:.2f}')\n",
        "    return outliers, lower_bound, upper_bound\n",
        "\n",
        "\n",
        "for col in num_cols:\n",
        "    outliers, lower_bound, upper_bound = detect_outliers_iqr(df, col)\n",
        "    print(f'Total outliers in {col}: {len(outliers)}')"
      ]
    },
    {
      "cell_type": "markdown",
      "id": "46a929c7",
      "metadata": {},
      "source": [
        "Base on the outcome, we could see that:\n",
        "- Total outliers in Age: 66\n",
        "- Total outliers in Fare: 116\n",
        "\n",
        "The number of outliers in `Fare` is quite high, we will have to handle it carefully in the next part."
      ]
    },
    {
      "cell_type": "markdown",
      "id": "29a6cbbc",
      "metadata": {},
      "source": [
        "## Feature encoding"
      ]
    },
    {
      "cell_type": "code",
      "execution_count": 10,
      "id": "fb1c85bf",
      "metadata": {},
      "outputs": [
        {
          "name": "stdout",
          "output_type": "stream",
          "text": [
            "<class 'pandas.core.frame.DataFrame'>\n",
            "RangeIndex: 891 entries, 0 to 890\n",
            "Data columns (total 11 columns):\n",
            " #   Column       Non-Null Count  Dtype   \n",
            "---  ------       --------------  -----   \n",
            " 0   PassengerId  891 non-null    int64   \n",
            " 1   Survived     891 non-null    category\n",
            " 2   Pclass       891 non-null    category\n",
            " 3   Name         891 non-null    object  \n",
            " 4   Sex          891 non-null    category\n",
            " 5   Age          891 non-null    float64 \n",
            " 6   SibSp        891 non-null    int64   \n",
            " 7   Parch        891 non-null    int64   \n",
            " 8   Ticket       891 non-null    object  \n",
            " 9   Fare         891 non-null    float64 \n",
            " 10  Embarked     891 non-null    category\n",
            "dtypes: category(4), float64(2), int64(3), object(2)\n",
            "memory usage: 52.8+ KB\n"
          ]
        },
        {
          "data": {
            "text/html": [
              "<div>\n",
              "<style scoped>\n",
              "    .dataframe tbody tr th:only-of-type {\n",
              "        vertical-align: middle;\n",
              "    }\n",
              "\n",
              "    .dataframe tbody tr th {\n",
              "        vertical-align: top;\n",
              "    }\n",
              "\n",
              "    .dataframe thead th {\n",
              "        text-align: right;\n",
              "    }\n",
              "</style>\n",
              "<table border=\"1\" class=\"dataframe\">\n",
              "  <thead>\n",
              "    <tr style=\"text-align: right;\">\n",
              "      <th></th>\n",
              "      <th>PassengerId</th>\n",
              "      <th>Survived</th>\n",
              "      <th>Pclass</th>\n",
              "      <th>Name</th>\n",
              "      <th>Sex</th>\n",
              "      <th>Age</th>\n",
              "      <th>SibSp</th>\n",
              "      <th>Parch</th>\n",
              "      <th>Ticket</th>\n",
              "      <th>Fare</th>\n",
              "      <th>Embarked</th>\n",
              "    </tr>\n",
              "  </thead>\n",
              "  <tbody>\n",
              "    <tr>\n",
              "      <th>0</th>\n",
              "      <td>1</td>\n",
              "      <td>0</td>\n",
              "      <td>3</td>\n",
              "      <td>Braund, Mr. Owen Harris</td>\n",
              "      <td>male</td>\n",
              "      <td>22.0</td>\n",
              "      <td>1</td>\n",
              "      <td>0</td>\n",
              "      <td>A/5 21171</td>\n",
              "      <td>7.2500</td>\n",
              "      <td>S</td>\n",
              "    </tr>\n",
              "    <tr>\n",
              "      <th>1</th>\n",
              "      <td>2</td>\n",
              "      <td>1</td>\n",
              "      <td>1</td>\n",
              "      <td>Cumings, Mrs. John Bradley (Florence Briggs Th...</td>\n",
              "      <td>female</td>\n",
              "      <td>38.0</td>\n",
              "      <td>1</td>\n",
              "      <td>0</td>\n",
              "      <td>PC 17599</td>\n",
              "      <td>71.2833</td>\n",
              "      <td>C</td>\n",
              "    </tr>\n",
              "    <tr>\n",
              "      <th>2</th>\n",
              "      <td>3</td>\n",
              "      <td>1</td>\n",
              "      <td>3</td>\n",
              "      <td>Heikkinen, Miss. Laina</td>\n",
              "      <td>female</td>\n",
              "      <td>26.0</td>\n",
              "      <td>0</td>\n",
              "      <td>0</td>\n",
              "      <td>STON/O2. 3101282</td>\n",
              "      <td>7.9250</td>\n",
              "      <td>S</td>\n",
              "    </tr>\n",
              "    <tr>\n",
              "      <th>3</th>\n",
              "      <td>4</td>\n",
              "      <td>1</td>\n",
              "      <td>1</td>\n",
              "      <td>Futrelle, Mrs. Jacques Heath (Lily May Peel)</td>\n",
              "      <td>female</td>\n",
              "      <td>35.0</td>\n",
              "      <td>1</td>\n",
              "      <td>0</td>\n",
              "      <td>113803</td>\n",
              "      <td>53.1000</td>\n",
              "      <td>S</td>\n",
              "    </tr>\n",
              "    <tr>\n",
              "      <th>4</th>\n",
              "      <td>5</td>\n",
              "      <td>0</td>\n",
              "      <td>3</td>\n",
              "      <td>Allen, Mr. William Henry</td>\n",
              "      <td>male</td>\n",
              "      <td>35.0</td>\n",
              "      <td>0</td>\n",
              "      <td>0</td>\n",
              "      <td>373450</td>\n",
              "      <td>8.0500</td>\n",
              "      <td>S</td>\n",
              "    </tr>\n",
              "  </tbody>\n",
              "</table>\n",
              "</div>"
            ],
            "text/plain": [
              "   PassengerId Survived Pclass  \\\n",
              "0            1        0      3   \n",
              "1            2        1      1   \n",
              "2            3        1      3   \n",
              "3            4        1      1   \n",
              "4            5        0      3   \n",
              "\n",
              "                                                Name     Sex   Age  SibSp  \\\n",
              "0                            Braund, Mr. Owen Harris    male  22.0      1   \n",
              "1  Cumings, Mrs. John Bradley (Florence Briggs Th...  female  38.0      1   \n",
              "2                             Heikkinen, Miss. Laina  female  26.0      0   \n",
              "3       Futrelle, Mrs. Jacques Heath (Lily May Peel)  female  35.0      1   \n",
              "4                           Allen, Mr. William Henry    male  35.0      0   \n",
              "\n",
              "   Parch            Ticket     Fare Embarked  \n",
              "0      0         A/5 21171   7.2500        S  \n",
              "1      0          PC 17599  71.2833        C  \n",
              "2      0  STON/O2. 3101282   7.9250        S  \n",
              "3      0            113803  53.1000        S  \n",
              "4      0            373450   8.0500        S  "
            ]
          },
          "execution_count": 10,
          "metadata": {},
          "output_type": "execute_result"
        }
      ],
      "source": [
        "df.info()\n",
        "df.head()"
      ]
    },
    {
      "cell_type": "code",
      "execution_count": 11,
      "id": "852810a8",
      "metadata": {},
      "outputs": [
        {
          "data": {
            "text/html": [
              "<div>\n",
              "<style scoped>\n",
              "    .dataframe tbody tr th:only-of-type {\n",
              "        vertical-align: middle;\n",
              "    }\n",
              "\n",
              "    .dataframe tbody tr th {\n",
              "        vertical-align: top;\n",
              "    }\n",
              "\n",
              "    .dataframe thead th {\n",
              "        text-align: right;\n",
              "    }\n",
              "</style>\n",
              "<table border=\"1\" class=\"dataframe\">\n",
              "  <thead>\n",
              "    <tr style=\"text-align: right;\">\n",
              "      <th></th>\n",
              "      <th>PassengerId</th>\n",
              "      <th>Survived</th>\n",
              "      <th>Pclass</th>\n",
              "      <th>Name</th>\n",
              "      <th>Sex</th>\n",
              "      <th>Age</th>\n",
              "      <th>SibSp</th>\n",
              "      <th>Parch</th>\n",
              "      <th>Ticket</th>\n",
              "      <th>Fare</th>\n",
              "      <th>Embarked</th>\n",
              "    </tr>\n",
              "  </thead>\n",
              "  <tbody>\n",
              "    <tr>\n",
              "      <th>0</th>\n",
              "      <td>1</td>\n",
              "      <td>0</td>\n",
              "      <td>3</td>\n",
              "      <td>Braund, Mr. Owen Harris</td>\n",
              "      <td>1</td>\n",
              "      <td>22.0</td>\n",
              "      <td>1</td>\n",
              "      <td>0</td>\n",
              "      <td>A/5 21171</td>\n",
              "      <td>7.2500</td>\n",
              "      <td>2</td>\n",
              "    </tr>\n",
              "    <tr>\n",
              "      <th>1</th>\n",
              "      <td>2</td>\n",
              "      <td>1</td>\n",
              "      <td>1</td>\n",
              "      <td>Cumings, Mrs. John Bradley (Florence Briggs Th...</td>\n",
              "      <td>0</td>\n",
              "      <td>38.0</td>\n",
              "      <td>1</td>\n",
              "      <td>0</td>\n",
              "      <td>PC 17599</td>\n",
              "      <td>71.2833</td>\n",
              "      <td>0</td>\n",
              "    </tr>\n",
              "    <tr>\n",
              "      <th>2</th>\n",
              "      <td>3</td>\n",
              "      <td>1</td>\n",
              "      <td>3</td>\n",
              "      <td>Heikkinen, Miss. Laina</td>\n",
              "      <td>0</td>\n",
              "      <td>26.0</td>\n",
              "      <td>0</td>\n",
              "      <td>0</td>\n",
              "      <td>STON/O2. 3101282</td>\n",
              "      <td>7.9250</td>\n",
              "      <td>2</td>\n",
              "    </tr>\n",
              "    <tr>\n",
              "      <th>3</th>\n",
              "      <td>4</td>\n",
              "      <td>1</td>\n",
              "      <td>1</td>\n",
              "      <td>Futrelle, Mrs. Jacques Heath (Lily May Peel)</td>\n",
              "      <td>0</td>\n",
              "      <td>35.0</td>\n",
              "      <td>1</td>\n",
              "      <td>0</td>\n",
              "      <td>113803</td>\n",
              "      <td>53.1000</td>\n",
              "      <td>2</td>\n",
              "    </tr>\n",
              "    <tr>\n",
              "      <th>4</th>\n",
              "      <td>5</td>\n",
              "      <td>0</td>\n",
              "      <td>3</td>\n",
              "      <td>Allen, Mr. William Henry</td>\n",
              "      <td>1</td>\n",
              "      <td>35.0</td>\n",
              "      <td>0</td>\n",
              "      <td>0</td>\n",
              "      <td>373450</td>\n",
              "      <td>8.0500</td>\n",
              "      <td>2</td>\n",
              "    </tr>\n",
              "  </tbody>\n",
              "</table>\n",
              "</div>"
            ],
            "text/plain": [
              "   PassengerId Survived Pclass  \\\n",
              "0            1        0      3   \n",
              "1            2        1      1   \n",
              "2            3        1      3   \n",
              "3            4        1      1   \n",
              "4            5        0      3   \n",
              "\n",
              "                                                Name  Sex   Age  SibSp  Parch  \\\n",
              "0                            Braund, Mr. Owen Harris    1  22.0      1      0   \n",
              "1  Cumings, Mrs. John Bradley (Florence Briggs Th...    0  38.0      1      0   \n",
              "2                             Heikkinen, Miss. Laina    0  26.0      0      0   \n",
              "3       Futrelle, Mrs. Jacques Heath (Lily May Peel)    0  35.0      1      0   \n",
              "4                           Allen, Mr. William Henry    1  35.0      0      0   \n",
              "\n",
              "             Ticket     Fare  Embarked  \n",
              "0         A/5 21171   7.2500         2  \n",
              "1          PC 17599  71.2833         0  \n",
              "2  STON/O2. 3101282   7.9250         2  \n",
              "3            113803  53.1000         2  \n",
              "4            373450   8.0500         2  "
            ]
          },
          "execution_count": 11,
          "metadata": {},
          "output_type": "execute_result"
        }
      ],
      "source": [
        "df['Sex'] = df['Sex'].cat.codes\n",
        "df['Embarked'] = df['Embarked'].cat.codes\n",
        "df_test['Sex'] = df_test['Sex'].cat.codes\n",
        "df_test['Embarked'] = df_test['Embarked'].cat.codes\n",
        "df.head()"
      ]
    },
    {
      "cell_type": "markdown",
      "id": "0e547dda",
      "metadata": {},
      "source": [
        "## Save file"
      ]
    },
    {
      "cell_type": "markdown",
      "id": "0a6422ea",
      "metadata": {},
      "source": [
        "We will save train and test files to use for the future"
      ]
    },
    {
      "cell_type": "code",
      "execution_count": 12,
      "id": "a4662d39",
      "metadata": {},
      "outputs": [
        {
          "name": "stdout",
          "output_type": "stream",
          "text": [
            "Successfully saved preprocessed data.\n"
          ]
        }
      ],
      "source": [
        "df.to_csv(os.path.join(data_path, \"preprocessed\", \"preprocessed_train.csv\"), index=False)\n",
        "df_test.to_csv(os.path.join(data_path, \"preprocessed\", \"preprocessed_test.csv\"), index=False)\n",
        "print(\"Successfully saved preprocessed data.\")"
      ]
    },
    {
      "cell_type": "markdown",
      "id": "d3d15741",
      "metadata": {},
      "source": [
        "# The end"
      ]
    }
  ],
  "metadata": {
    "kernelspec": {
      "display_name": "lab1",
      "language": "python",
      "name": "python3"
    },
    "language_info": {
      "codemirror_mode": {
        "name": "ipython",
        "version": 3
      },
      "file_extension": ".py",
      "mimetype": "text/x-python",
      "name": "python",
      "nbconvert_exporter": "python",
      "pygments_lexer": "ipython3",
      "version": "3.13.7"
    }
  },
  "nbformat": 4,
  "nbformat_minor": 5
}
