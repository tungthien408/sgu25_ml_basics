{
  "cells": [
    {
      "cell_type": "markdown",
      "id": "a8ca84fe",
      "metadata": {},
      "source": [
        "# Titanic - Preprocessing Data\n"
      ]
    },
    {
      "cell_type": "markdown",
      "id": "8a30c9ca",
      "metadata": {
        "vscode": {
          "languageId": "bat"
        }
      },
      "source": [
        "## Introduction"
      ]
    },
    {
      "cell_type": "markdown",
      "id": "69b8a948",
      "metadata": {},
      "source": [
        "> The sinking of the RMS Titanic is one of the most infamous shipwrecks in history. On April 15, 1912, during her maiden voyage, the Titanic sank after colliding with an iceberg, killing 1502 out of 2224 passengers and crew. This sensational tragedy shocked the international community and led to better safety regulations for ships.\n",
        "\n",
        "> One of the reasons that the shipwreck led to such loss of life was that there were not enough lifeboats for the passengers and crew. Although there was some element of luck involved in surviving the sinking, some groups of people were more likely to survive than others, such as women, children, and the upper-class.\n",
        "\n",
        "> In this contest, we ask you to complete the analysis of what sorts of people were likely to survive. In particular, we ask you to apply the tools of machine learning to predict which passengers survived the tragedy.\n",
        "\n",
        "> This Kaggle Getting Started Competition provides an ideal starting place for people who may not have a lot of experience in data science and machine learning.\"\n",
        "\n",
        "From the competition homepage: https://www.kaggle.com/competitions/titanic\n",
        "\n",
        "#### The ultimate goal: \n",
        "- Detecting all of the error values (missing values, outlier values)"
      ]
    },
    {
      "cell_type": "markdown",
      "id": "128d7b69",
      "metadata": {},
      "source": [
        "## Preparation"
      ]
    },
    {
      "cell_type": "markdown",
      "id": "c0cf1faf",
      "metadata": {},
      "source": [
        "### Import necessary libraries"
      ]
    },
    {
      "cell_type": "code",
      "execution_count": 1,
      "id": "019628c9",
      "metadata": {
        "execution": {
          "iopub.execute_input": "2025-10-05T15:36:17.074902Z",
          "iopub.status.busy": "2025-10-05T15:36:17.074479Z",
          "iopub.status.idle": "2025-10-05T15:36:17.080831Z",
          "shell.execute_reply": "2025-10-05T15:36:17.079627Z",
          "shell.execute_reply.started": "2025-10-05T15:36:17.074871Z"
        }
      },
      "outputs": [],
      "source": [
        "# turn off warning\n",
        "import warnings\n",
        "warnings.filterwarnings(\"ignore\")\n",
        "\n",
        "import pandas as pd\n",
        "import matplotlib.pyplot as plt\n",
        "import seaborn as sns"
      ]
    },
    {
      "cell_type": "markdown",
      "id": "8fecad07",
      "metadata": {},
      "source": [
        "### Load train.csv file"
      ]
    },
    {
      "cell_type": "code",
      "execution_count": 2,
      "id": "d49303d7",
      "metadata": {
        "execution": {
          "iopub.execute_input": "2025-10-05T15:36:17.103688Z",
          "iopub.status.busy": "2025-10-05T15:36:17.103211Z",
          "iopub.status.idle": "2025-10-05T15:36:17.124336Z",
          "shell.execute_reply": "2025-10-05T15:36:17.123445Z",
          "shell.execute_reply.started": "2025-10-05T15:36:17.103652Z"
        }
      },
      "outputs": [
        {
          "name": "stdout",
          "output_type": "stream",
          "text": [
            "Successfully load training data.\n"
          ]
        }
      ],
      "source": [
        "# titanic = pd.read_csv('/kaggle/input/titanic/train.csv')\n",
        "titanic = pd.read_csv('../../../../input/train.csv')\n",
        "df = titanic.copy()\n",
        "test_dataset = pd.read_csv('../../../../input/test.csv')\n",
        "df_test = test_dataset.copy()\n",
        "print(\"Successfully load training data.\")"
      ]
    },
    {
      "cell_type": "markdown",
      "id": "592809fc",
      "metadata": {},
      "source": [
        "## Have a look at the dataset"
      ]
    },
    {
      "cell_type": "code",
      "execution_count": 3,
      "id": "e8242c52",
      "metadata": {
        "execution": {
          "iopub.execute_input": "2025-10-05T15:36:17.126934Z",
          "iopub.status.busy": "2025-10-05T15:36:17.126486Z",
          "iopub.status.idle": "2025-10-05T15:36:17.148763Z",
          "shell.execute_reply": "2025-10-05T15:36:17.147752Z",
          "shell.execute_reply.started": "2025-10-05T15:36:17.126914Z"
        }
      },
      "outputs": [
        {
          "data": {
            "text/html": [
              "<div>\n",
              "<style scoped>\n",
              "    .dataframe tbody tr th:only-of-type {\n",
              "        vertical-align: middle;\n",
              "    }\n",
              "\n",
              "    .dataframe tbody tr th {\n",
              "        vertical-align: top;\n",
              "    }\n",
              "\n",
              "    .dataframe thead th {\n",
              "        text-align: right;\n",
              "    }\n",
              "</style>\n",
              "<table border=\"1\" class=\"dataframe\">\n",
              "  <thead>\n",
              "    <tr style=\"text-align: right;\">\n",
              "      <th></th>\n",
              "      <th>PassengerId</th>\n",
              "      <th>Survived</th>\n",
              "      <th>Pclass</th>\n",
              "      <th>Name</th>\n",
              "      <th>Sex</th>\n",
              "      <th>Age</th>\n",
              "      <th>SibSp</th>\n",
              "      <th>Parch</th>\n",
              "      <th>Ticket</th>\n",
              "      <th>Fare</th>\n",
              "      <th>Cabin</th>\n",
              "      <th>Embarked</th>\n",
              "    </tr>\n",
              "  </thead>\n",
              "  <tbody>\n",
              "    <tr>\n",
              "      <th>0</th>\n",
              "      <td>1</td>\n",
              "      <td>0</td>\n",
              "      <td>3</td>\n",
              "      <td>Braund, Mr. Owen Harris</td>\n",
              "      <td>male</td>\n",
              "      <td>22.0</td>\n",
              "      <td>1</td>\n",
              "      <td>0</td>\n",
              "      <td>A/5 21171</td>\n",
              "      <td>7.2500</td>\n",
              "      <td>NaN</td>\n",
              "      <td>S</td>\n",
              "    </tr>\n",
              "    <tr>\n",
              "      <th>1</th>\n",
              "      <td>2</td>\n",
              "      <td>1</td>\n",
              "      <td>1</td>\n",
              "      <td>Cumings, Mrs. John Bradley (Florence Briggs Th...</td>\n",
              "      <td>female</td>\n",
              "      <td>38.0</td>\n",
              "      <td>1</td>\n",
              "      <td>0</td>\n",
              "      <td>PC 17599</td>\n",
              "      <td>71.2833</td>\n",
              "      <td>C85</td>\n",
              "      <td>C</td>\n",
              "    </tr>\n",
              "    <tr>\n",
              "      <th>2</th>\n",
              "      <td>3</td>\n",
              "      <td>1</td>\n",
              "      <td>3</td>\n",
              "      <td>Heikkinen, Miss. Laina</td>\n",
              "      <td>female</td>\n",
              "      <td>26.0</td>\n",
              "      <td>0</td>\n",
              "      <td>0</td>\n",
              "      <td>STON/O2. 3101282</td>\n",
              "      <td>7.9250</td>\n",
              "      <td>NaN</td>\n",
              "      <td>S</td>\n",
              "    </tr>\n",
              "    <tr>\n",
              "      <th>3</th>\n",
              "      <td>4</td>\n",
              "      <td>1</td>\n",
              "      <td>1</td>\n",
              "      <td>Futrelle, Mrs. Jacques Heath (Lily May Peel)</td>\n",
              "      <td>female</td>\n",
              "      <td>35.0</td>\n",
              "      <td>1</td>\n",
              "      <td>0</td>\n",
              "      <td>113803</td>\n",
              "      <td>53.1000</td>\n",
              "      <td>C123</td>\n",
              "      <td>S</td>\n",
              "    </tr>\n",
              "    <tr>\n",
              "      <th>4</th>\n",
              "      <td>5</td>\n",
              "      <td>0</td>\n",
              "      <td>3</td>\n",
              "      <td>Allen, Mr. William Henry</td>\n",
              "      <td>male</td>\n",
              "      <td>35.0</td>\n",
              "      <td>0</td>\n",
              "      <td>0</td>\n",
              "      <td>373450</td>\n",
              "      <td>8.0500</td>\n",
              "      <td>NaN</td>\n",
              "      <td>S</td>\n",
              "    </tr>\n",
              "    <tr>\n",
              "      <th>...</th>\n",
              "      <td>...</td>\n",
              "      <td>...</td>\n",
              "      <td>...</td>\n",
              "      <td>...</td>\n",
              "      <td>...</td>\n",
              "      <td>...</td>\n",
              "      <td>...</td>\n",
              "      <td>...</td>\n",
              "      <td>...</td>\n",
              "      <td>...</td>\n",
              "      <td>...</td>\n",
              "      <td>...</td>\n",
              "    </tr>\n",
              "    <tr>\n",
              "      <th>886</th>\n",
              "      <td>887</td>\n",
              "      <td>0</td>\n",
              "      <td>2</td>\n",
              "      <td>Montvila, Rev. Juozas</td>\n",
              "      <td>male</td>\n",
              "      <td>27.0</td>\n",
              "      <td>0</td>\n",
              "      <td>0</td>\n",
              "      <td>211536</td>\n",
              "      <td>13.0000</td>\n",
              "      <td>NaN</td>\n",
              "      <td>S</td>\n",
              "    </tr>\n",
              "    <tr>\n",
              "      <th>887</th>\n",
              "      <td>888</td>\n",
              "      <td>1</td>\n",
              "      <td>1</td>\n",
              "      <td>Graham, Miss. Margaret Edith</td>\n",
              "      <td>female</td>\n",
              "      <td>19.0</td>\n",
              "      <td>0</td>\n",
              "      <td>0</td>\n",
              "      <td>112053</td>\n",
              "      <td>30.0000</td>\n",
              "      <td>B42</td>\n",
              "      <td>S</td>\n",
              "    </tr>\n",
              "    <tr>\n",
              "      <th>888</th>\n",
              "      <td>889</td>\n",
              "      <td>0</td>\n",
              "      <td>3</td>\n",
              "      <td>Johnston, Miss. Catherine Helen \"Carrie\"</td>\n",
              "      <td>female</td>\n",
              "      <td>NaN</td>\n",
              "      <td>1</td>\n",
              "      <td>2</td>\n",
              "      <td>W./C. 6607</td>\n",
              "      <td>23.4500</td>\n",
              "      <td>NaN</td>\n",
              "      <td>S</td>\n",
              "    </tr>\n",
              "    <tr>\n",
              "      <th>889</th>\n",
              "      <td>890</td>\n",
              "      <td>1</td>\n",
              "      <td>1</td>\n",
              "      <td>Behr, Mr. Karl Howell</td>\n",
              "      <td>male</td>\n",
              "      <td>26.0</td>\n",
              "      <td>0</td>\n",
              "      <td>0</td>\n",
              "      <td>111369</td>\n",
              "      <td>30.0000</td>\n",
              "      <td>C148</td>\n",
              "      <td>C</td>\n",
              "    </tr>\n",
              "    <tr>\n",
              "      <th>890</th>\n",
              "      <td>891</td>\n",
              "      <td>0</td>\n",
              "      <td>3</td>\n",
              "      <td>Dooley, Mr. Patrick</td>\n",
              "      <td>male</td>\n",
              "      <td>32.0</td>\n",
              "      <td>0</td>\n",
              "      <td>0</td>\n",
              "      <td>370376</td>\n",
              "      <td>7.7500</td>\n",
              "      <td>NaN</td>\n",
              "      <td>Q</td>\n",
              "    </tr>\n",
              "  </tbody>\n",
              "</table>\n",
              "<p>891 rows × 12 columns</p>\n",
              "</div>"
            ],
            "text/plain": [
              "     PassengerId  Survived  Pclass  \\\n",
              "0              1         0       3   \n",
              "1              2         1       1   \n",
              "2              3         1       3   \n",
              "3              4         1       1   \n",
              "4              5         0       3   \n",
              "..           ...       ...     ...   \n",
              "886          887         0       2   \n",
              "887          888         1       1   \n",
              "888          889         0       3   \n",
              "889          890         1       1   \n",
              "890          891         0       3   \n",
              "\n",
              "                                                  Name     Sex   Age  SibSp  \\\n",
              "0                              Braund, Mr. Owen Harris    male  22.0      1   \n",
              "1    Cumings, Mrs. John Bradley (Florence Briggs Th...  female  38.0      1   \n",
              "2                               Heikkinen, Miss. Laina  female  26.0      0   \n",
              "3         Futrelle, Mrs. Jacques Heath (Lily May Peel)  female  35.0      1   \n",
              "4                             Allen, Mr. William Henry    male  35.0      0   \n",
              "..                                                 ...     ...   ...    ...   \n",
              "886                              Montvila, Rev. Juozas    male  27.0      0   \n",
              "887                       Graham, Miss. Margaret Edith  female  19.0      0   \n",
              "888           Johnston, Miss. Catherine Helen \"Carrie\"  female   NaN      1   \n",
              "889                              Behr, Mr. Karl Howell    male  26.0      0   \n",
              "890                                Dooley, Mr. Patrick    male  32.0      0   \n",
              "\n",
              "     Parch            Ticket     Fare Cabin Embarked  \n",
              "0        0         A/5 21171   7.2500   NaN        S  \n",
              "1        0          PC 17599  71.2833   C85        C  \n",
              "2        0  STON/O2. 3101282   7.9250   NaN        S  \n",
              "3        0            113803  53.1000  C123        S  \n",
              "4        0            373450   8.0500   NaN        S  \n",
              "..     ...               ...      ...   ...      ...  \n",
              "886      0            211536  13.0000   NaN        S  \n",
              "887      0            112053  30.0000   B42        S  \n",
              "888      2        W./C. 6607  23.4500   NaN        S  \n",
              "889      0            111369  30.0000  C148        C  \n",
              "890      0            370376   7.7500   NaN        Q  \n",
              "\n",
              "[891 rows x 12 columns]"
            ]
          },
          "execution_count": 3,
          "metadata": {},
          "output_type": "execute_result"
        }
      ],
      "source": [
        "df"
      ]
    },
    {
      "cell_type": "code",
      "execution_count": 4,
      "id": "cd6ecafb",
      "metadata": {
        "execution": {
          "iopub.execute_input": "2025-10-05T15:36:17.149861Z",
          "iopub.status.busy": "2025-10-05T15:36:17.149605Z",
          "iopub.status.idle": "2025-10-05T15:36:17.171275Z",
          "shell.execute_reply": "2025-10-05T15:36:17.170283Z",
          "shell.execute_reply.started": "2025-10-05T15:36:17.149839Z"
        }
      },
      "outputs": [
        {
          "name": "stdout",
          "output_type": "stream",
          "text": [
            "<class 'pandas.core.frame.DataFrame'>\n",
            "RangeIndex: 891 entries, 0 to 890\n",
            "Data columns (total 12 columns):\n",
            " #   Column       Non-Null Count  Dtype  \n",
            "---  ------       --------------  -----  \n",
            " 0   PassengerId  891 non-null    int64  \n",
            " 1   Survived     891 non-null    int64  \n",
            " 2   Pclass       891 non-null    int64  \n",
            " 3   Name         891 non-null    object \n",
            " 4   Sex          891 non-null    object \n",
            " 5   Age          714 non-null    float64\n",
            " 6   SibSp        891 non-null    int64  \n",
            " 7   Parch        891 non-null    int64  \n",
            " 8   Ticket       891 non-null    object \n",
            " 9   Fare         891 non-null    float64\n",
            " 10  Cabin        204 non-null    object \n",
            " 11  Embarked     889 non-null    object \n",
            "dtypes: float64(2), int64(5), object(5)\n",
            "memory usage: 83.7+ KB\n",
            "<class 'pandas.core.frame.DataFrame'>\n",
            "RangeIndex: 418 entries, 0 to 417\n",
            "Data columns (total 11 columns):\n",
            " #   Column       Non-Null Count  Dtype  \n",
            "---  ------       --------------  -----  \n",
            " 0   PassengerId  418 non-null    int64  \n",
            " 1   Pclass       418 non-null    int64  \n",
            " 2   Name         418 non-null    object \n",
            " 3   Sex          418 non-null    object \n",
            " 4   Age          332 non-null    float64\n",
            " 5   SibSp        418 non-null    int64  \n",
            " 6   Parch        418 non-null    int64  \n",
            " 7   Ticket       418 non-null    object \n",
            " 8   Fare         417 non-null    float64\n",
            " 9   Cabin        91 non-null     object \n",
            " 10  Embarked     418 non-null    object \n",
            "dtypes: float64(2), int64(4), object(5)\n",
            "memory usage: 36.1+ KB\n"
          ]
        }
      ],
      "source": [
        "df.info()\n",
        "df_test.info()"
      ]
    },
    {
      "cell_type": "markdown",
      "id": "2c60fd0c",
      "metadata": {},
      "source": [
        "We can see that `Age`, `Cabin` and `Embarked` in train dataset and `Age`, `Cabin` and `Fare` in test dataset have missing values, we will explore number of missing value and it's proportion.\n",
        "\n",
        "Look at the features information, there are four categorical variables, we will convert it into `category` type to implement analysis better."
      ]
    },
    {
      "cell_type": "code",
      "execution_count": 5,
      "id": "52dce1d9",
      "metadata": {
        "execution": {
          "iopub.execute_input": "2025-10-05T15:36:17.172707Z",
          "iopub.status.busy": "2025-10-05T15:36:17.172355Z",
          "iopub.status.idle": "2025-10-05T15:36:17.194395Z",
          "shell.execute_reply": "2025-10-05T15:36:17.193570Z",
          "shell.execute_reply.started": "2025-10-05T15:36:17.172679Z"
        }
      },
      "outputs": [],
      "source": [
        "for x in ['Pclass', 'Sex', 'Embarked']:\n",
        "    df[x] = df[x].astype('category')\n",
        "    df_test[x] = df_test[x].astype('category')\n",
        "df['Survived'] = df['Survived'].astype('category')"
      ]
    },
    {
      "cell_type": "code",
      "execution_count": 6,
      "id": "00721111",
      "metadata": {
        "execution": {
          "iopub.execute_input": "2025-10-05T15:36:17.195606Z",
          "iopub.status.busy": "2025-10-05T15:36:17.195278Z",
          "iopub.status.idle": "2025-10-05T15:36:17.215906Z",
          "shell.execute_reply": "2025-10-05T15:36:17.215115Z",
          "shell.execute_reply.started": "2025-10-05T15:36:17.195585Z"
        }
      },
      "outputs": [
        {
          "name": "stdout",
          "output_type": "stream",
          "text": [
            "===== Number of missing values (train dataset) =====\n",
            "\n",
            "Age         177\n",
            "Cabin       687\n",
            "Embarked      2\n",
            "dtype: int64\n",
            "\n",
            "\n",
            "===== Number of missing values (test dataset) =====\n",
            "\n",
            "Age       86\n",
            "Cabin    327\n",
            "Fare       1\n",
            "dtype: int64\n"
          ]
        }
      ],
      "source": [
        "print(\"===== Number of missing values (train dataset) =====\\n\")\n",
        "print(df[['Age', 'Cabin', 'Embarked']].isnull().sum())\n",
        "print('\\n')\n",
        "print(\"===== Number of missing values (test dataset) =====\\n\")\n",
        "print(df_test[['Age', 'Cabin', 'Fare']].isnull().sum())"
      ]
    },
    {
      "cell_type": "code",
      "execution_count": 7,
      "id": "a8a65629",
      "metadata": {
        "execution": {
          "iopub.execute_input": "2025-10-05T15:36:17.217495Z",
          "iopub.status.busy": "2025-10-05T15:36:17.217158Z",
          "iopub.status.idle": "2025-10-05T15:36:17.235961Z",
          "shell.execute_reply": "2025-10-05T15:36:17.235256Z",
          "shell.execute_reply.started": "2025-10-05T15:36:17.217469Z"
        }
      },
      "outputs": [
        {
          "name": "stdout",
          "output_type": "stream",
          "text": [
            "===== Percentage of missing values on train dataset =====\n",
            "\n",
            "Age         19.865320\n",
            "Cabin       77.104377\n",
            "Embarked     0.224467\n",
            "dtype: float64\n",
            "\n",
            "\n",
            "===== Percentage of missing values on test dataset =====\n",
            "\n",
            "Age      20.574163\n",
            "Cabin    78.229665\n",
            "Fare      0.239234\n",
            "dtype: float64\n"
          ]
        }
      ],
      "source": [
        "print(\"===== Percentage of missing values on train dataset =====\\n\")\n",
        "print(df[['Age', 'Cabin', 'Embarked']].isnull().sum() / len(df) * 100)\n",
        "print('\\n')\n",
        "print(\"===== Percentage of missing values on test dataset =====\\n\")\n",
        "print(df_test[['Age', 'Cabin', 'Fare']].isnull().sum() / len(df_test) * 100)"
      ]
    },
    {
      "cell_type": "markdown",
      "id": "7861ba90",
      "metadata": {},
      "source": [
        "The `Cabin` has lots of missing data, so we might need to find a way to handle it later.\n",
        "\n",
        "We should also check if any rows inside the dataset duplicate each other in order to deal with it as these could affect negatively on training length."
      ]
    },
    {
      "cell_type": "code",
      "execution_count": 8,
      "id": "d06a41be",
      "metadata": {
        "execution": {
          "iopub.execute_input": "2025-10-05T15:36:17.237059Z",
          "iopub.status.busy": "2025-10-05T15:36:17.236771Z",
          "iopub.status.idle": "2025-10-05T15:36:17.257488Z",
          "shell.execute_reply": "2025-10-05T15:36:17.256319Z",
          "shell.execute_reply.started": "2025-10-05T15:36:17.237032Z"
        }
      },
      "outputs": [
        {
          "name": "stdout",
          "output_type": "stream",
          "text": [
            "Empty DataFrame\n",
            "Columns: [PassengerId, Survived, Pclass, Name, Sex, Age, SibSp, Parch, Ticket, Fare, Cabin, Embarked]\n",
            "Index: []\n"
          ]
        }
      ],
      "source": [
        "print(df[df.duplicated()])"
      ]
    },
    {
      "cell_type": "markdown",
      "id": "d75884da",
      "metadata": {},
      "source": [
        "There are no duplicate rows in the dataset, which is good.\n",
        "\n",
        "We want to check it's uniqueness of each column."
      ]
    },
    {
      "cell_type": "code",
      "execution_count": 9,
      "id": "94f37ccf",
      "metadata": {
        "execution": {
          "iopub.execute_input": "2025-10-05T15:36:17.260530Z",
          "iopub.status.busy": "2025-10-05T15:36:17.259847Z",
          "iopub.status.idle": "2025-10-05T15:36:17.277137Z",
          "shell.execute_reply": "2025-10-05T15:36:17.276197Z",
          "shell.execute_reply.started": "2025-10-05T15:36:17.260499Z"
        }
      },
      "outputs": [
        {
          "data": {
            "text/plain": [
              "PassengerId    891\n",
              "Survived         2\n",
              "Pclass           3\n",
              "Name           891\n",
              "Sex              2\n",
              "Age             88\n",
              "SibSp            7\n",
              "Parch            7\n",
              "Ticket         681\n",
              "Fare           248\n",
              "Cabin          147\n",
              "Embarked         3\n",
              "dtype: int64"
            ]
          },
          "execution_count": 9,
          "metadata": {},
          "output_type": "execute_result"
        }
      ],
      "source": [
        "df.nunique()"
      ]
    },
    {
      "cell_type": "markdown",
      "id": "ac252c52",
      "metadata": {},
      "source": [
        "From the result, we could see that some features do have lots of unique values, but some features (`Survived`, `Pclass`, `Sex`, `Embarked`) only have 2 - 3 different values, as it is categorical (we don't count `SibSp`, `Parch` here because it makes sense)."
      ]
    },
    {
      "cell_type": "markdown",
      "id": "15edd9cb",
      "metadata": {},
      "source": [
        "## Handle missing value"
      ]
    },
    {
      "cell_type": "markdown",
      "id": "39b76fe6",
      "metadata": {},
      "source": [
        "We need to find solutions to handle missing value.\n",
        "From the output detecting missing value, here's the proportion of missing value for `Age`, `Cabin`, and `Embarked` in train dataset:\n",
        "\n",
        "- Age: 19.87%\n",
        "- Cabin: 77.10%\n",
        "- Embarked: 0.22%\n",
        "\n",
        "For test dataset, here's the proportion of missing value for `Age`, `Cabin`, and `Fare`:\n",
        "- Age: 20.57%\n",
        "- Cabin: 78.23%\n",
        "- Fare: 0.24%\n",
        "\n",
        "For `Cabin` features, although the missing value percentage are pretty high, it could be a good information to show passenger's room level, which is a really crucial detail related to survivability. Furthermore, we can base on that information to know if the passengers stayed at the front part (bow) of the Titanic, which is the part of the ship that sank first.\n",
        "\n",
        "For `Age` features, it could related to the survivability, as children and elderly usually be prioritized.\n",
        "\n",
        "For `Embarked` features, it could related to passenger's room level (passengers go on the ship first might have room that are in higher level).\n",
        "\n",
        "Because of that, I think that we should not remove these features. We need to handle value instead.\n",
        "\n",
        "For testing dataset, we also have missing value in `Fare` feature. We will handle it."
      ]
    },
    {
      "cell_type": "markdown",
      "id": "8068ed40",
      "metadata": {},
      "source": [
        "### Handle missing age value"
      ]
    },
    {
      "cell_type": "markdown",
      "id": "7ac3aadd",
      "metadata": {},
      "source": [
        "Honorific title inside passengers' name could tell us a little about their age.\n",
        "\n",
        "At first, we splited value `Age` into 5 main groups: Mr, Mrs, Master, Miss, and other in order to not only impute missing values but also capture potential age-related patterns.\n",
        "\n",
        "But after looking at survivability rate of each group, we decided not to complicate things and just impute missing value with median age of the whole dataset. Except for `Master` group, we will impute missing value with median age of this group as title \"Master\" is only for people under 12."
      ]
    },
    {
      "cell_type": "code",
      "execution_count": 10,
      "id": "3f10b214",
      "metadata": {
        "execution": {
          "iopub.execute_input": "2025-10-05T15:36:18.356890Z",
          "iopub.status.busy": "2025-10-05T15:36:18.356580Z",
          "iopub.status.idle": "2025-10-05T15:36:18.391541Z",
          "shell.execute_reply": "2025-10-05T15:36:18.390740Z",
          "shell.execute_reply.started": "2025-10-05T15:36:18.356862Z"
        }
      },
      "outputs": [],
      "source": [
        "master = df['Name'].str.contains(r',\\s*Master.', regex=True)\n",
        "df_master = df[master].copy()\n",
        "\n",
        "mean_age = df['Age'].mean()\n",
        "mean_age_master = df_master['Age'].mean()\n",
        "\n",
        "df_master['Age'] = df_master['Age'].fillna(mean_age_master)\n",
        "df[master] = df_master\n",
        "\n",
        "df['Age'] = df['Age'].fillna(mean_age)\n",
        "df_test['Age'] = df_test['Age'].fillna(mean_age)"
      ]
    },
    {
      "cell_type": "markdown",
      "id": "138b614b",
      "metadata": {},
      "source": [
        "### Handle missing values from Cabin, Embarked (train dataset) and Fare (test dataset)"
      ]
    },
    {
      "cell_type": "markdown",
      "id": "b3f7e6e0",
      "metadata": {},
      "source": [
        "Perhaps the only features that we could use to guess people's cabin is Ticket number, but since there are no ticket number system, we could not conclude anything from that.\n",
        "\n",
        "At first, I thought it would be possible to fill missing `Cabin` value by looking at passengers' ticket class, fare, and embarked point, but after some research, I found out that there is no clear relationship between these features and `Cabin` value.\n",
        "\n",
        "Therefore, I will just remove the `Cabin` feature, as it has too many missing values and we could not find a way to fill them.\n",
        "\n",
        "As for Embarked value, I will choose \"S\" to fill that, as the primary embarked point was Southampton (Titanic trip started from there)\n",
        "\n",
        "As for Fare value in testing dataset, I will fill it with median of Fare value."
      ]
    },
    {
      "cell_type": "code",
      "execution_count": 11,
      "id": "683fbf1f",
      "metadata": {
        "execution": {
          "iopub.execute_input": "2025-10-05T15:36:18.392728Z",
          "iopub.status.busy": "2025-10-05T15:36:18.392433Z",
          "iopub.status.idle": "2025-10-05T15:36:18.399257Z",
          "shell.execute_reply": "2025-10-05T15:36:18.398462Z",
          "shell.execute_reply.started": "2025-10-05T15:36:18.392703Z"
        }
      },
      "outputs": [],
      "source": [
        "df = df.drop(['Cabin'], axis=1)\n",
        "df_test = df_test.drop(['Cabin'], axis=1)\n",
        "\n",
        "df['Embarked'] = df['Embarked'].fillna(\"S\")\n",
        "df_test['Embarked'] = df_test['Embarked'].fillna(\"S\")\n",
        "\n",
        "fare_mean = df['Fare'].mean()\n",
        "df_test['Fare'] = df_test['Fare'].fillna(fare_mean)"
      ]
    },
    {
      "cell_type": "code",
      "execution_count": 12,
      "id": "90abbc11",
      "metadata": {
        "execution": {
          "iopub.execute_input": "2025-10-05T15:36:18.401072Z",
          "iopub.status.busy": "2025-10-05T15:36:18.400467Z",
          "iopub.status.idle": "2025-10-05T15:36:18.422622Z",
          "shell.execute_reply": "2025-10-05T15:36:18.421632Z",
          "shell.execute_reply.started": "2025-10-05T15:36:18.401043Z"
        }
      },
      "outputs": [
        {
          "name": "stdout",
          "output_type": "stream",
          "text": [
            "===== Percentage of missing values =====\n"
          ]
        },
        {
          "data": {
            "text/plain": [
              "Age         0.0\n",
              "Embarked    0.0\n",
              "dtype: float64"
            ]
          },
          "execution_count": 12,
          "metadata": {},
          "output_type": "execute_result"
        }
      ],
      "source": [
        "print(\"===== Percentage of missing values =====\")\n",
        "df[['Age', 'Embarked']].isnull().sum() / len(df) * 100"
      ]
    },
    {
      "cell_type": "markdown",
      "id": "aeadd225",
      "metadata": {},
      "source": [
        "## Detecting outliers"
      ]
    },
    {
      "cell_type": "markdown",
      "id": "8b6d986a",
      "metadata": {},
      "source": [
        "This section will mainly focus on addressing outlier values in numeric features.\n",
        "\n",
        "Based on the outputs from the boxplot from EDA Analysis, we could see that `Age`, `Fare`, `SibSp`, and `Parch` features have outlier values. However, since `SibSp` and `Parch` features are not continuous (both features have a limited number of unique values), we will not handle outlier values in these two features, as it could affect negatively on the model.\n",
        "\n",
        "To handle outlier values, IQR method is used to find the lower bound and upper bound, then replace outlier values with values within these bounds using techniques such as capping or imputation."
      ]
    },
    {
      "cell_type": "code",
      "execution_count": 13,
      "id": "9f61c91c",
      "metadata": {},
      "outputs": [
        {
          "name": "stdout",
          "output_type": "stream",
          "text": [
            "Total outliers in Age: 66\n",
            "Total outliers in Fare: 116\n"
          ]
        }
      ],
      "source": [
        "num_cols = ['Age', 'Fare']\n",
        "def detect_outliers_iqr(df, col, factor=1.5):\n",
        "    Q1 = df[col].quantile(0.25)\n",
        "    Q3 = df[col].quantile(0.75)\n",
        "    IQR = Q3 - Q1\n",
        "    lower_bound = max(Q1 - factor * IQR, 0)  # Age cannot be negative\n",
        "    upper_bound = Q3 + factor * IQR\n",
        "    outliers = df[(df[col] < lower_bound) | (df[col] > upper_bound)]\n",
        "    # print(f'{col} - Outliers (IQR): {len(outliers)}, Lower: {lower_bound:.2f}, Upper: {upper_bound:.2f}')\n",
        "    return outliers, lower_bound, upper_bound\n",
        "\n",
        "\n",
        "for col in num_cols:\n",
        "    outliers, lower_bound, upper_bound = detect_outliers_iqr(df, col)\n",
        "    print(f'Total outliers in {col}: {len(outliers)}')"
      ]
    },
    {
      "cell_type": "markdown",
      "id": "46a929c7",
      "metadata": {},
      "source": [
        "Base on the outcome, we could see that:\n",
        "- Total outliers in Age: 66\n",
        "- Total outliers in Fare: 116\n",
        "\n",
        "The number of outliers in `Fare` is quite high, we will have to handle it carefully in the next part."
      ]
    },
    {
      "cell_type": "markdown",
      "id": "0e547dda",
      "metadata": {},
      "source": [
        "## Save file"
      ]
    },
    {
      "cell_type": "markdown",
      "id": "0a6422ea",
      "metadata": {},
      "source": [
        "We will save train and test files to use for the future"
      ]
    },
    {
      "cell_type": "code",
      "execution_count": 14,
      "id": "a4662d39",
      "metadata": {},
      "outputs": [
        {
          "name": "stdout",
          "output_type": "stream",
          "text": [
            "Successfully saved preprocessed data.\n"
          ]
        }
      ],
      "source": [
        "df.to_csv('./data/exp1_train.csv', index=False)\n",
        "df_test.to_csv('./data/exp1_test.csv', index=False)\n",
        "print(\"Successfully saved preprocessed data.\")"
      ]
    },
    {
      "cell_type": "markdown",
      "id": "d3d15741",
      "metadata": {},
      "source": [
        "# The end"
      ]
    }
  ],
  "metadata": {
    "kernelspec": {
      "display_name": "Python 3",
      "language": "python",
      "name": "python3"
    },
    "language_info": {
      "codemirror_mode": {
        "name": "ipython",
        "version": 3
      },
      "file_extension": ".py",
      "mimetype": "text/x-python",
      "name": "python",
      "nbconvert_exporter": "python",
      "pygments_lexer": "ipython3",
      "version": "3.13.7"
    }
  },
  "nbformat": 4,
  "nbformat_minor": 5
}
