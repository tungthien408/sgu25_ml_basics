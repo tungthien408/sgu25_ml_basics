{
 "cells": [
  {
   "cell_type": "markdown",
   "source": [
    "# GIỚI THIỆU CƠ BẢN NGÔN NGỮ PYTHON\n"
   ],
   "metadata": {
    "collapsed": false,
    "pycharm": {
     "name": "#%% md\n"
    }
   }
  },
  {
   "cell_type": "markdown",
   "source": [
    "## Khai báo thư viện (Import Libraries)"
   ],
   "metadata": {
    "collapsed": false,
    "pycharm": {
     "name": "#%% md\n"
    }
   }
  },
  {
   "cell_type": "code",
   "execution_count": null,
   "outputs": [],
   "source": [
    "# 'generic import' of math module\n",
    "import math\n",
    "math.sqrt(25)\n",
    "\n",
    "# import a function\n",
    "from math import sqrt\n",
    "sqrt(25)    # no longer have to reference the module\n",
    "\n",
    "# import multiple functions at once\n",
    "from math import cos, floor\n",
    "\n",
    "# import all functions in a module (generally discouraged)\n",
    "# from os import *\n",
    "\n",
    "# define an alias\n",
    "import numpy as np\n",
    "\n",
    "# show all functions in math module\n",
    "content = dir(math)"
   ],
   "metadata": {
    "collapsed": false,
    "pycharm": {
     "name": "#%%\n"
    }
   }
  },
  {
   "cell_type": "markdown",
   "source": [
    "## Toán tử cơ bản (Basic Operators)"
   ],
   "metadata": {
    "collapsed": false,
    "pycharm": {
     "name": "#%% md\n"
    }
   }
  },
  {
   "cell_type": "code",
   "execution_count": null,
   "outputs": [],
   "source": [
    "# Numbers\n",
    "10 + 4          # add (returns 14)\n",
    "10 - 4          # subtract (returns 6)\n",
    "10 * 4          # multiply (returns 40)\n",
    "10 ** 4         # exponent (returns 10000)\n",
    "10 / 4          # divide (returns 2 because both types are 'int')\n",
    "10 / float(4)   # divide (returns 2.5)\n",
    "5 % 4           # modulo (returns 1) - also known as the remainder\n",
    "\n",
    "10 / 4          # true division (returns 2.5)\n",
    "10 // 4         # floor division (returns 2)\n",
    "\n",
    "\n",
    "# Boolean operations\n",
    "# comparisons (these return True)\n",
    "5 > 3\n",
    "5 >= 3\n",
    "5 != 3\n",
    "5 == 5\n",
    "\n",
    "# boolean operations (these return True)\n",
    "5 > 3 and 6 > 3\n",
    "5 > 3 or 5 < 3\n",
    "not False\n",
    "False or not False and True     # evaluation order: not, and, or"
   ],
   "metadata": {
    "collapsed": false,
    "pycharm": {
     "name": "#%%\n"
    }
   }
  },
  {
   "cell_type": "markdown",
   "source": [
    "## Kiểu dữ liệu (Data Types)"
   ],
   "metadata": {
    "collapsed": false,
    "pycharm": {
     "name": "#%% md\n"
    }
   }
  },
  {
   "cell_type": "code",
   "execution_count": null,
   "outputs": [],
   "source": [
    "# determine the type of an object\n",
    "type(2)         # returns 'int'\n",
    "type(2.0)       # returns 'float'\n",
    "type('two')     # returns 'str'\n",
    "type(True)      # returns 'bool'\n",
    "type(None)      # returns 'NoneType'\n",
    "\n",
    "type(('a','b')) # returns 'tuple'\n",
    "type(['a','b']) # returns 'list'\n",
    "type({'a', 'b'})# returns 'set'\n",
    "type({'a': 10}) # returns 'dict'\n",
    "\n",
    "# check if an object is of a given type\n",
    "isinstance(2.0, int)            # returns False\n",
    "isinstance(2.0, (int, float))   # returns True\n",
    "\n",
    "# convert an object to a given type\n",
    "float(2)\n",
    "int(2.9)\n",
    "str(2.9)\n",
    "\n",
    "# zero, None, and empty containers are converted to False\n",
    "bool(0)\n",
    "bool(None)\n",
    "bool('')    # empty string\n",
    "bool(())    # empty tuple\n",
    "bool([])    # empty list\n",
    "bool({})    # empty dictionary\n",
    "\n",
    "# non-empty containers and non-zeros are converted to True\n",
    "bool(2)\n",
    "bool('two')\n",
    "bool([2])\n",
    "bool((2,3))"
   ],
   "metadata": {
    "collapsed": false,
    "pycharm": {
     "name": "#%%\n"
    }
   }
  },
  {
   "cell_type": "markdown",
   "source": [
    "### Danh sách (List)\n",
    "Chứa ncác đối tượng khác loại nhau, có thứ tự (ordered), khả duyệt (iterable),\n",
    "thay đổi kích thước (mutuable)"
   ],
   "metadata": {
    "collapsed": false,
    "pycharm": {
     "name": "#%% md\n"
    }
   }
  },
  {
   "cell_type": "code",
   "execution_count": null,
   "outputs": [],
   "source": [
    "# create an empty list (two ways)\n",
    "empty_list = []\n",
    "empty_list = list()\n",
    "\n",
    "# create a list\n",
    "simpsons = ['homer', 'marge', 'bart']\n",
    "\n",
    "# examine a list\n",
    "simpsons[0]     # print element 0 ('homer')\n",
    "len(simpsons)   # returns the length (3)\n",
    "\n",
    "# modify a list (does not return the list)\n",
    "simpsons.append('lisa')                 # append element to end\n",
    "simpsons.extend(['itchy', 'scratchy'])  # append multiple elements to end\n",
    "simpsons.insert(0, 'maggie')            # insert element at index 0 (shifts everything right)\n",
    "simpsons.remove('bart')                 # searches for first instance and removes it\n",
    "simpsons.pop(0)                         # removes element 0 and returns it\n",
    "del simpsons[0]                         # removes element 0 (does not return it)\n",
    "simpsons[0] = 'krusty'                  # replace element 0\n",
    "\n",
    "# concatenate lists (slower than 'extend' method)\n",
    "neighbors = simpsons + ['ned','rod','todd']\n",
    "\n",
    "# find elements in a list\n",
    "'lisa' in simpsons\n",
    "simpsons.count('lisa')      # counts the number of instances\n",
    "simpsons.index('itchy')     # returns index of first instance\n",
    "\n",
    "# list slicing [start:end:stride]\n",
    "weekdays = ['mon','tues','wed','thurs','fri']\n",
    "weekdays[0]         # element 0\n",
    "weekdays[0:3]       # elements 0, 1, 2\n",
    "weekdays[:3]        # elements 0, 1, 2\n",
    "weekdays[3:]        # elements 3, 4\n",
    "weekdays[-1]        # last element (element 4)\n",
    "weekdays[::2]       # every 2nd element (0, 2, 4)\n",
    "weekdays[::-1]      # backwards (4, 3, 2, 1, 0)\n",
    "\n",
    "# alternative method for returning the list backwards\n",
    "list(reversed(weekdays))\n",
    "\n",
    "# sort a list in place (modifies but does not return the list)\n",
    "simpsons.sort()\n",
    "simpsons.sort(reverse=True)     # sort in reverse\n",
    "simpsons.sort(key=len)          # sort by a key\n",
    "\n",
    "# return a sorted list (but does not modify the original list)\n",
    "sorted(simpsons)\n",
    "sorted(simpsons, reverse=True)\n",
    "sorted(simpsons, key=len)\n",
    "\n",
    "# create a second reference to the same list\n",
    "num = [1, 2, 3]\n",
    "same_num = num\n",
    "same_num[0] = 0         # modifies both 'num' and 'same_num'\n",
    "\n",
    "# copy a list (three ways)\n",
    "new_num = num.copy()\n",
    "new_num = num[:]\n",
    "new_num = list(num)\n",
    "\n",
    "# examine objects\n",
    "id(num) == id(same_num) # returns True\n",
    "id(num) == id(new_num)  # returns False\n",
    "num is same_num         # returns True\n",
    "num is new_num          # returns False\n",
    "num == same_num         # returns True\n",
    "num == new_num          # returns True (their contents are equivalent)\n",
    "\n",
    "# conatenate +, replicate *\n",
    "[1, 2, 3] + [4, 5, 6] # [1, 2, 3, 4, 5, 6]\n",
    "[\"a\"] * 2 + [\"b\"] * 3 # ['a', 'a', 'b', 'b', 'b']"
   ],
   "metadata": {
    "collapsed": false,
    "pycharm": {
     "name": "#%%\n"
    }
   }
  },
  {
   "cell_type": "markdown",
   "source": [
    "### Tuples\n",
    "\n",
    "Chứa các đối tượng khác kiểu, có thứ tự (ordered), không thay đổi kích thước (immutable)"
   ],
   "metadata": {
    "collapsed": false,
    "pycharm": {
     "name": "#%% md\n"
    }
   }
  },
  {
   "cell_type": "code",
   "execution_count": null,
   "outputs": [],
   "source": [
    "# create a tuple\n",
    "digits = (0, 1, 'two')          # create a tuple directly\n",
    "digits = tuple([0, 1, 'two'])   # create a tuple from a list\n",
    "zero = (0,)                     # trailing comma is required to indicate it's a tuple\n",
    "\n",
    "# examine a tuple\n",
    "digits[2]           # returns 'two'\n",
    "len(digits)         # returns 3\n",
    "digits.count(0)     # counts the number of instances of that value (1)\n",
    "digits.index(1)     # returns the index of the first instance of that value (1)\n",
    "\n",
    "# elements of a tuple cannot be modified\n",
    "# digits[2] = 2       # throws an error\n",
    "\n",
    "# concatenate tuples\n",
    "digits = digits + (3, 4)\n",
    "\n",
    "# create a single tuple with elements repeated (also works with lists)\n",
    "(3, 4) * 2          # returns (3, 4, 3, 4)\n",
    "\n",
    "# tuple unpacking\n",
    "bart = ('male', 10, 'simpson')  # create a tuple"
   ],
   "metadata": {
    "collapsed": false,
    "pycharm": {
     "name": "#%%\n"
    }
   }
  },
  {
   "cell_type": "markdown",
   "source": [
    "### Chuỗi (Strings)\n",
    "\n",
    "Một dãy các ký tự có thứ tự (ordered), khả duyệt (iterable), không thay đổi kích thước (immutable)"
   ],
   "metadata": {
    "collapsed": false,
    "pycharm": {
     "name": "#%% md\n"
    }
   }
  },
  {
   "cell_type": "code",
   "execution_count": null,
   "outputs": [],
   "source": [
    "# create a string\n",
    "s = str(42)         # convert another data type into a string\n",
    "s = 'I like you'\n",
    "\n",
    "# examine a string\n",
    "s[0]                # returns 'I'\n",
    "len(s)              # returns 10\n",
    "\n",
    "# string slicing like lists\n",
    "s[:6]               # returns 'I like'\n",
    "s[7:]               # returns 'you'\n",
    "s[-1]               # returns 'u'\n",
    "\n",
    "# basic string methods (does not modify the original string)\n",
    "s.lower()           # returns 'i like you'\n",
    "s.upper()           # returns 'I LIKE YOU'\n",
    "s.startswith('I')   # returns True\n",
    "s.endswith('you')   # returns True\n",
    "s.isdigit()         # returns False (returns True if every character in the string is a digit)\n",
    "s.find('like')      # returns index of first occurrence (2), but doesn't support regex\n",
    "s.find('hate')      # returns -1 since not found\n",
    "s.replace('like','love')    # replaces all instances of 'like' with 'love'\n",
    "\n",
    "# split a string into a list of substrings separated by a delimiter\n",
    "s.split(' ')        # returns ['I','like','you']\n",
    "s.split()           # same thing\n",
    "s2 = 'a, an, the'\n",
    "s2.split(',')       # returns ['a',' an',' the']\n",
    "\n",
    "# join a list of strings into one string using a delimiter\n",
    "stooges = ['larry','curly','moe']\n",
    "' '.join(stooges)   # returns 'larry curly moe'\n",
    "\n",
    "# concatenate strings\n",
    "s3 = 'The meaning of life is'\n",
    "s4 = '42'\n",
    "s3 + ' ' + s4       # returns 'The meaning of life is 42'\n",
    "s3 + ' ' + str(42)  # same thing\n",
    "\n",
    "# remove whitespace from start and end of a string\n",
    "s5 = '  ham and cheese  '\n",
    "s5.strip()          # returns 'ham and cheese'\n",
    "\n",
    "# string substitutions: all of these return 'raining cats and dogs'\n",
    "'raining %s and %s' % ('cats','dogs')                       # old way\n",
    "'raining {} and {}'.format('cats','dogs')                   # new way\n",
    "'raining {arg1} and {arg2}'.format(arg1='cats',arg2='dogs') # named arguments\n",
    "\n",
    "# string formatting\n",
    "# more examples: http://mkaz.com/2012/10/10/python-string-format/\n",
    "'pi is {:.2f}'.format(3.14159)      # returns 'pi is 3.14'\n",
    "\n",
    "# f-string\n",
    "a = 10\n",
    "b = 20\n",
    "f'{a} + {b} = {a + b}' # '10 + 20 = 30'"
   ],
   "metadata": {
    "collapsed": false,
    "pycharm": {
     "name": "#%%\n"
    }
   }
  },
  {
   "cell_type": "markdown",
   "source": [
    "### Từ điển (Dictionary)\n",
    "\n",
    "**Từ điển** là kiểu dữ liệu chứa nhiều loại dữ liệu:\n",
    "+ **Mỗi phần** tử có dạng **(key, value)** với key là duy nhất\n",
    "+ **Key** có thể là chuỗi, số, tuple\n",
    "+ **Value** có thể là bất cứ kiểu gì của Python\n",
    "+ **Có tính chất**: không thứ tự (unordered), khả duyệt (iterable), có thể thay đổi kích thước (mutable)"
   ],
   "metadata": {
    "collapsed": false,
    "pycharm": {
     "name": "#%% md\n"
    }
   }
  },
  {
   "cell_type": "code",
   "execution_count": null,
   "outputs": [],
   "source": [
    "# create an empty dictionary (two ways)\n",
    "empty_dict = {}\n",
    "empty_dict = dict()\n",
    "\n",
    "# create a dictionary (two ways)\n",
    "family = {'dad':'homer', 'mom':'marge', 'size':6}\n",
    "family = dict(dad='homer', mom='marge', size=6)\n",
    "\n",
    "# convert a list of tuples into a dictionary\n",
    "list_of_tuples = [('dad','homer'), ('mom','marge'), ('size', 6)]\n",
    "family = dict(list_of_tuples)\n",
    "\n",
    "# examine a dictionary\n",
    "family['dad']       # returns 'homer'\n",
    "len(family)         # returns 3\n",
    "family.keys()       # returns list: ['dad', 'mom', 'size']\n",
    "family.values()     # returns list: ['homer', 'marge', 6]\n",
    "family.items()      # returns list of tuples:\n",
    "                    #   [('dad', 'homer'), ('mom', 'marge'), ('size', 6)]\n",
    "'mom' in family     # returns True\n",
    "'marge' in family   # returns False (only checks keys)\n",
    "\n",
    "# modify a dictionary (does not return the dictionary)\n",
    "family['cat'] = 'snowball'              # add a new entry\n",
    "family['cat'] = 'snowball ii'           # edit an existing entry\n",
    "del family['cat']                       # delete an entry\n",
    "family['kids'] = ['bart', 'lisa']       # value can be a list\n",
    "family.pop('dad')                       # removes an entry and returns the value ('homer')\n",
    "family.update({'baby':'maggie', 'grandpa':'abe'})   # add multiple entries\n",
    "\n",
    "# accessing values more safely with 'get'\n",
    "family['mom']                       # returns 'marge'\n",
    "family.get('mom')                   # same thing\n",
    "try:\n",
    "    family['grandma']               # throws an error\n",
    "except  KeyError as e:\n",
    "    print(\"Error\", e)\n",
    "\n",
    "family.get('grandma')               # returns None\n",
    "family.get('grandma', 'not found')  # returns 'not found' (the default)\n",
    "\n",
    "# accessing a list element within a dictionary\n",
    "family['kids'][0]                   # returns 'bart'\n",
    "family['kids'].remove('lisa')       # removes 'lisa'\n",
    "\n",
    "# string substitution using a dictionary\n",
    "'youngest child is %(baby)s' % family   # returns 'youngest child is maggie'"
   ],
   "metadata": {
    "collapsed": false,
    "pycharm": {
     "name": "#%%\n"
    }
   }
  },
  {
   "cell_type": "markdown",
   "source": [
    "### Tập hợp (Set)\n",
    "\n",
    "Như từ điển nhưng chỉ chứa key (không có value tương ứng).\n",
    "\n",
    "Có tính chất: chứa nhiều loại dữ liệu duy nhất (chuỗi, số, tuple),\n",
    "không thứ tự (unordered), khả duyệt (iterable), có thể thay đổi kích thước (mutable)"
   ],
   "metadata": {
    "collapsed": false,
    "pycharm": {
     "name": "#%% md\n"
    }
   }
  },
  {
   "cell_type": "code",
   "execution_count": null,
   "outputs": [],
   "source": [
    "# create an empty set\n",
    "empty_set = set()\n",
    "\n",
    "# create a set\n",
    "languages = {'python', 'r', 'java'}         # create a set directly\n",
    "snakes = set(['cobra', 'viper', 'python'])  # create a set from a list\n",
    "\n",
    "# examine a set\n",
    "len(languages)              # returns 3\n",
    "'python' in languages       # returns True\n",
    "\n",
    "# set operations\n",
    "languages & snakes          # returns intersection: {'python'}\n",
    "languages | snakes          # returns union: {'cobra', 'r', 'java', 'viper', 'python'}\n",
    "languages - snakes          # returns set difference: {'r', 'java'}\n",
    "snakes - languages          # returns set difference: {'cobra', 'viper'}\n",
    "\n",
    "# modify a set (does not return the set)\n",
    "languages.add('sql')        # add a new element\n",
    "languages.add('r')          # try to add an existing element (ignored, no error)\n",
    "languages.remove('java')    # remove an element\n",
    "\n",
    "try:\n",
    "    languages.remove('c')       # try to remove a non-existing element (throws an error)\n",
    "except  KeyError as e:\n",
    "    print(\"Error\", e)\n",
    "\n",
    "languages.discard('c')      # removes an element if present, but ignored otherwise\n",
    "languages.pop()             # removes and returns an arbitrary element\n",
    "languages.clear()           # removes all elements\n",
    "languages.update('go', 'spark') # add multiple elements (can also pass a list or set)\n",
    "\n",
    "# get a sorted list of unique elements from a list\n",
    "sorted(set([9, 0, 2, 1, 0]))    # returns [0, 1, 2, 9]"
   ],
   "metadata": {
    "collapsed": false,
    "pycharm": {
     "name": "#%%\n"
    }
   }
  },
  {
   "cell_type": "markdown",
   "source": [
    "## Nhập / xuất dữ liệu (Input/Output)"
   ],
   "metadata": {
    "collapsed": false,
    "pycharm": {
     "name": "#%% md\n"
    }
   }
  },
  {
   "cell_type": "code",
   "execution_count": null,
   "outputs": [],
   "source": [
    "# Số nguyên\n",
    "a = int(input(\"Mời bạn nhập số a: \")) # Mời bạn nhập số a: 100\n",
    "print(f'Giá trị vừa nhập: {a}')       # Giá trị vừa nhập: 100\n",
    "\n",
    "# Số thực\n",
    "b = float(input(\"Mời bạn nhập số b: \")) # Mời bạn nhập số b: 3.12345\n",
    "print(f'Giá trị vừa nhập: {b: .2f}')   # Giá trị vừa nhập: 3.12\n",
    "\n",
    "# Nhập nhiều giá trị\n",
    "s = input(\"Mời bạn nhập 3 số a, b, c: \") # 1.5, 2.6, 7.8\n",
    "s = s.split(',')\n",
    "a, b, c = float(s[0]), float(s[1]), float(s[2])\n",
    "print(f'Giá trị: a = {a}, b = {b}, c = {c}') # Giá trị: a = 1.5, b = 2.6, c = 7.8\n",
    "\n",
    "# Nhập mảng giá trị\n",
    "s = input(\"Mời bạn nhập dãy số a: \") # 1, 4, 5, 6\n",
    "a = [int(si) for si in s.split(',')]\n",
    "print('Dãy số vừa nhập: ', a) # Dãy số vừa nhập:  [1, 2, 3, 5, 6]"
   ],
   "metadata": {
    "collapsed": false,
    "pycharm": {
     "name": "#%%\n"
    }
   }
  },
  {
   "cell_type": "markdown",
   "source": [
    "## Cấu trúc điều khiển (Control Statements)"
   ],
   "metadata": {
    "collapsed": false,
    "pycharm": {
     "name": "#%% md\n"
    }
   }
  },
  {
   "cell_type": "markdown",
   "source": [
    "### Cấu trúc điều kiện (Conditional statements)"
   ],
   "metadata": {
    "collapsed": false,
    "pycharm": {
     "name": "#%% md\n"
    }
   }
  },
  {
   "cell_type": "code",
   "execution_count": null,
   "outputs": [],
   "source": [
    "x = 3\n",
    "# if statement\n",
    "if x > 0:\n",
    "    print('positive')\n",
    "\n",
    "# if/else statement\n",
    "if x > 0:\n",
    "    print('positive')\n",
    "else:\n",
    "    print('zero or negative')\n",
    "\n",
    "# if/elif/else statement\n",
    "if x > 0:\n",
    "    print('positive')\n",
    "elif x == 0:\n",
    "    print('zero')\n",
    "else:\n",
    "    print('negative')\n",
    "\n",
    "# single-line if statement (sometimes discouraged)\n",
    "if x > 0: print('positive')\n",
    "\n",
    "# single-line if/else statement (sometimes discouraged)\n",
    "# known as a 'ternary operator'\n",
    "sign = 'positive' if x > 0 else 'zero or negative'"
   ],
   "metadata": {
    "collapsed": false,
    "pycharm": {
     "name": "#%%\n"
    }
   }
  },
  {
   "cell_type": "markdown",
   "source": [
    "### Cấu trúc lặp (Loop)"
   ],
   "metadata": {
    "collapsed": false,
    "pycharm": {
     "name": "#%% md\n"
    }
   }
  },
  {
   "cell_type": "code",
   "execution_count": null,
   "outputs": [],
   "source": [
    "# Duyệt mảng (for)\n",
    "for letter in 'Python': # First Example\n",
    "    print('Current Letter :', letter)\n",
    "\n",
    "\n",
    "fruits = ['banana', 'apple',  'mango']\n",
    "for fruit in fruits: # Second Example\n",
    "   print('Current fruit :', fruit)\n",
    "\n",
    "# Lặp dựa vào range\n",
    "for i in range(1,21):\n",
    "    if i%2==0:\n",
    "        print(i)\n",
    "\n",
    "fruits = ['banana', 'apple',  'mango']\n",
    "for index in range(len(fruits)):\n",
    "   print('Current fruit :', fruits[index])\n",
    "\n",
    "# Duyệt mảng (while) với break, continue\n",
    "var = 10                    # Second Example\n",
    "while var > 0:\n",
    "   print('Current variable value :', var)\n",
    "   var = var -1\n",
    "   if var == 5:\n",
    "      break\n",
    "\n",
    "for letter in 'Python':     # First Example\n",
    "   if letter == 'h':\n",
    "      continue\n",
    "   print('Current Letter :', letter)\n",
    "\n",
    "# pass: toán tử null, nghĩa là không có gì được thực thi\n",
    "# sử dụng tại những nơi mà nội dung chưa được viết (function, if, for, class)\n",
    "for letter in 'Python':\n",
    "   if letter == 'h':\n",
    "      pass\n",
    "      print('This is pass block')\n",
    "   print('Current Letter :', letter)"
   ],
   "metadata": {
    "collapsed": false,
    "pycharm": {
     "name": "#%%\n"
    }
   }
  },
  {
   "cell_type": "markdown",
   "source": [
    "### List comprehensions\n",
    "\n",
    "Xử lý danh sách mà không cần khối lệnh lặp"
   ],
   "metadata": {
    "collapsed": false,
    "pycharm": {
     "name": "#%% md\n"
    }
   }
  },
  {
   "cell_type": "code",
   "execution_count": null,
   "outputs": [],
   "source": [
    "# for loop to create a list of cubes\n",
    "nums = [1, 2, 3, 4, 5]\n",
    "cubes = []\n",
    "for num in nums:\n",
    "    cubes.append(num**3)\n",
    "\n",
    "# equivalent list comprehension\n",
    "cubes = [num**3 for num in nums]    # [1, 8, 27, 64, 125]\n",
    "\n",
    "# for loop to create a list of cubes of even numbers\n",
    "cubes_of_even = []\n",
    "for num in nums:\n",
    "    if num % 2 == 0:\n",
    "        cubes_of_even.append(num**3)\n",
    "\n",
    "# equivalent list comprehension\n",
    "# syntax: [expression for variable in iterable if condition]\n",
    "cubes_of_even = [num**3 for num in nums if num % 2 == 0]    # [8, 64]\n",
    "\n",
    "# for loop to cube even numbers and square odd numbers\n",
    "cubes_and_squares = []\n",
    "for num in nums:\n",
    "    if num % 2 == 0:\n",
    "        cubes_and_squares.append(num**3)\n",
    "    else:\n",
    "        cubes_and_squares.append(num**2)\n",
    "\n",
    "# equivalent list comprehension (using a ternary expression)\n",
    "# syntax: [true_condition if condition else false_condition for variable in iterable]\n",
    "cubes_and_squares = [num**3 if num % 2 == 0 else num**2 for num in nums]    # [1, 8, 9, 64, 25]\n",
    "\n",
    "# for loop to flatten a 2d-matrix\n",
    "matrix = [[1, 2], [3, 4]]\n",
    "items = []\n",
    "for row in matrix:\n",
    "    for item in row:\n",
    "        items.append(item)\n",
    "\n",
    "# equivalent list comprehension\n",
    "items = [item for row in matrix\n",
    "              for item in row] # [1, 2, 3, 4]\n",
    "\n",
    "# set comprehension\n",
    "fruits = ['apple', 'banana', 'cherry']\n",
    "unique_lengths = {len(fruit) for fruit in fruits}   # {5, 6}\n",
    "\n",
    "# dictionary comprehension\n",
    "fruit_lengths = {fruit:len(fruit) for fruit in fruits} # {'apple': 5, 'banana': 6, 'cherry': 6}"
   ],
   "metadata": {
    "collapsed": false,
    "pycharm": {
     "name": "#%%\n"
    }
   }
  },
  {
   "cell_type": "markdown",
   "source": [
    "## Xử lý ngoại lệ (Exception)"
   ],
   "metadata": {
    "collapsed": false,
    "pycharm": {
     "name": "#%% md\n"
    }
   }
  },
  {
   "cell_type": "code",
   "execution_count": null,
   "outputs": [],
   "source": [
    "dct = dict(a=[1, 2], b=[4, 5])\n",
    "key = 'c'\n",
    "try:\n",
    "    dct[key]\n",
    "except:\n",
    "    print(\"Key %s is missing. Add it with empty value\" % key)\n",
    "    dct['c'] = []\n",
    "print(dct)"
   ],
   "metadata": {
    "collapsed": false,
    "pycharm": {
     "name": "#%%\n"
    }
   }
  },
  {
   "cell_type": "markdown",
   "source": [
    "## Hàm (function)"
   ],
   "metadata": {
    "collapsed": false,
    "pycharm": {
     "name": "#%% md\n"
    }
   }
  },
  {
   "cell_type": "code",
   "execution_count": null,
   "outputs": [],
   "source": [
    "# định nghĩa hàm không tham số, không giá trị trở về và gọi hàm\n",
    "def print_text():\n",
    "    print('this is text')\n",
    "\n",
    "print_text()\n",
    "\n",
    "# định nghĩa hàm 1 tham số, không có giá trị trả về\n",
    "def print_this(x):\n",
    "    print(x)\n",
    "\n",
    "print_this(3)       # in 3\n",
    "n = print_this(3)   # in 3, nhưng không gán giá trị đến n\n",
    "\n",
    "# định nghĩa hàm có giá trị trả về\n",
    "def add(a, b):\n",
    "    return a + b\n",
    "\n",
    "add(2, 3) # 5\n",
    "add(\"deux\", \"trois\") # 'deuxtrois'\n",
    "add([\"deux\", \"trois\"], [2, 3]) # ['deux', 'trois', 2, 3]\n",
    "\n",
    "# khai báo docstring mô tả cho hàm\n",
    "def square_this(x):\n",
    "    \"\"\"Return the square of a number.\"\"\"\n",
    "    return x ** 2\n",
    "\n",
    "var = square_this(3)      # assigns 9 to var\n",
    "\n",
    "# hàm có giá trị mặc định\n",
    "def power_this(x, power=2):\n",
    "    return x ** power\n",
    "\n",
    "power_this(2)    # 4 - x = 2, power có giá trị mặc định 2\n",
    "power_this(2, 3) # 8 - theo thứ tự x = 2, power = 3\n",
    "power_this(x = 2, power = 3) # gọi tường minh tham số\n",
    "\n",
    "# sử dụng pass cho những nơi chưa viết nội dung\n",
    "def stub():\n",
    "    pass\n",
    "\n",
    "# hàm trả về nhiều giá trị\n",
    "def min_max(nums):\n",
    "    return min(nums), max(nums)\n",
    "\n",
    "nums = [1, 2, 3]\n",
    "min_max_num = min_max(nums) # min_max_num = (1, 3)\n",
    "min_num, max_num = min_max(nums)    # min_num = 1, max_num = 3"
   ],
   "metadata": {
    "collapsed": false,
    "pycharm": {
     "name": "#%%\n"
    }
   }
  },
  {
   "cell_type": "code",
   "execution_count": null,
   "outputs": [],
   "source": [
    "# Hàm có tham số biến động (truyền vào dạng từ khóa)\n",
    "def in_diem(name, **diem_thi):\n",
    "    print('Tên SV: ', name)\n",
    "    for key in diem_thi:\n",
    "        print(f'Môn [{key}] có điểm [{diem_thi[key]}]')\n",
    "\n",
    "in_diem('A', toan = 10, ly = 5, hoa = 3)\n",
    "in_diem('B', ly = 5, van = 3)\n",
    "\n",
    "# Hàm có tham số biến động (truyền vào dạng thứ tự)\n",
    "def tim_kiem(x, *mang_so):\n",
    "    found = 0\n",
    "    for i in range(len(mang_so)):\n",
    "        if x == mang_so[i]:\n",
    "            print(f'{x} nằm trong mảng tại vị trí {i}')\n",
    "            found = 1\n",
    "    if found == 0:\n",
    "        print(f'{x} không nằm trong mảng')\n",
    "\n",
    "tim_kiem(10, 3, 4, 5)\n",
    "tim_kiem(10, 3, 10, 5, 10, 20)\n",
    "\n",
    "# Hàm nặc danh (biểu thức lambda)\n",
    "sum = lambda arg1, arg2: arg1 + arg2;\n",
    "print(\"Value of total : \", sum( 20, 20 ))"
   ],
   "metadata": {
    "collapsed": false,
    "pycharm": {
     "name": "#%%\n"
    }
   }
  },
  {
   "cell_type": "markdown",
   "source": [
    "# Kết thúc"
   ],
   "metadata": {
    "collapsed": false,
    "pycharm": {
     "name": "#%% md\n"
    }
   }
  }
 ],
 "metadata": {
  "kernelspec": {
   "name": "cur37",
   "language": "python",
   "display_name": "cur37"
  },
  "language_info": {
   "codemirror_mode": {
    "name": "ipython",
    "version": 2
   },
   "file_extension": ".py",
   "mimetype": "text/x-python",
   "name": "python",
   "nbconvert_exporter": "python",
   "pygments_lexer": "ipython2",
   "version": "2.7.6"
  }
 },
 "nbformat": 4,
 "nbformat_minor": 0
}