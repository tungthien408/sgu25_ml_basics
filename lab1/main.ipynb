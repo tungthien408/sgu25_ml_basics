{
 "cells": [
  {
   "cell_type": "markdown",
   "id": "f33ddf09",
   "metadata": {},
   "source": [
    "# main.ipynb"
   ]
  },
  {
   "cell_type": "markdown",
   "id": "3ecbec7d",
   "metadata": {},
   "source": [
    "## Nội dung bài"
   ]
  },
  {
   "cell_type": "markdown",
   "id": "dd469090",
   "metadata": {},
   "source": [
    "Thực hiện phép cộng giữa hai số thực do người dùng nhập vào bằng cách chạy file `ex1_calc.py`"
   ]
  },
  {
   "cell_type": "markdown",
   "id": "3297b2ee",
   "metadata": {},
   "source": [
    "## Bài làm"
   ]
  },
  {
   "cell_type": "markdown",
   "id": "fa13c95e",
   "metadata": {},
   "source": [
    "### Chạy file ex1_calc.py"
   ]
  },
  {
   "cell_type": "code",
   "execution_count": 3,
   "id": "62217ea8",
   "metadata": {
    "vscode": {
     "languageId": "plaintext"
    }
   },
   "outputs": [
    {
     "name": "stdout",
     "output_type": "stream",
     "text": [
      "Calculator Basic\n"
     ]
    },
    {
     "name": "stdout",
     "output_type": "stream",
     "text": [
      "Moi ban nhap so a:  2\n",
      "Moi ban nhap so b:  4\n"
     ]
    },
    {
     "name": "stdout",
     "output_type": "stream",
     "text": [
      "c = 2 + 4 = 6\n"
     ]
    }
   ],
   "source": [
    "run ex1_calc.py"
   ]
  },
  {
   "cell_type": "markdown",
   "id": "799dc4b4",
   "metadata": {},
   "source": [
    "## Kết thúc"
   ]
  }
 ],
 "metadata": {
  "kernelspec": {
   "display_name": "Python 3 (ipykernel)",
   "language": "python",
   "name": "python3"
  },
  "language_info": {
   "codemirror_mode": {
    "name": "ipython",
    "version": 3
   },
   "file_extension": ".py",
   "mimetype": "text/x-python",
   "name": "python",
   "nbconvert_exporter": "python",
   "pygments_lexer": "ipython3",
   "version": "3.13.7"
  }
 },
 "nbformat": 4,
 "nbformat_minor": 5
}
