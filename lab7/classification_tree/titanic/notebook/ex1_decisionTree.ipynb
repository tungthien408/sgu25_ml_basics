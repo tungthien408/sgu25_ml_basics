{
 "cells": [
  {
   "cell_type": "markdown",
   "id": "f397c022",
   "metadata": {},
   "source": [
    "# Titanic - Decision Tree"
   ]
  },
  {
   "cell_type": "markdown",
   "id": "9c52149a",
   "metadata": {},
   "source": [
    "We will join Titanic challenge using Decision tree model."
   ]
  },
  {
   "cell_type": "markdown",
   "id": "1e3e884d",
   "metadata": {},
   "source": [
    "## Preparation"
   ]
  },
  {
   "cell_type": "code",
   "execution_count": 1,
   "id": "c1ee7efb",
   "metadata": {},
   "outputs": [],
   "source": [
    "import warnings\n",
    "warnings.filterwarnings(\"ignore\")\n",
    "from os.path import join\n",
    "import pandas as pd\n",
    "import numpy as np\n",
    "import re\n",
    "import matplotlib.pyplot as plt\n",
    "import seaborn as sns\n",
    "import joblib\n",
    "\n",
    "# %matplotlib inline\n",
    "\n",
    "from sklearn import tree\n",
    "from sklearn.metrics import accuracy_score\n",
    "from sklearn.model_selection import KFold"
   ]
  },
  {
   "cell_type": "code",
   "execution_count": 2,
   "id": "16aa9324",
   "metadata": {},
   "outputs": [
    {
     "data": {
      "text/html": [
       "<div>\n",
       "<style scoped>\n",
       "    .dataframe tbody tr th:only-of-type {\n",
       "        vertical-align: middle;\n",
       "    }\n",
       "\n",
       "    .dataframe tbody tr th {\n",
       "        vertical-align: top;\n",
       "    }\n",
       "\n",
       "    .dataframe thead th {\n",
       "        text-align: right;\n",
       "    }\n",
       "</style>\n",
       "<table border=\"1\" class=\"dataframe\">\n",
       "  <thead>\n",
       "    <tr style=\"text-align: right;\">\n",
       "      <th></th>\n",
       "      <th>PassengerId</th>\n",
       "      <th>Survived</th>\n",
       "      <th>Pclass</th>\n",
       "      <th>Name</th>\n",
       "      <th>Sex</th>\n",
       "      <th>Age</th>\n",
       "      <th>SibSp</th>\n",
       "      <th>Parch</th>\n",
       "      <th>Ticket</th>\n",
       "      <th>Fare</th>\n",
       "      <th>Cabin</th>\n",
       "      <th>Embarked</th>\n",
       "    </tr>\n",
       "  </thead>\n",
       "  <tbody>\n",
       "    <tr>\n",
       "      <th>0</th>\n",
       "      <td>1</td>\n",
       "      <td>0</td>\n",
       "      <td>3</td>\n",
       "      <td>Braund, Mr. Owen Harris</td>\n",
       "      <td>male</td>\n",
       "      <td>22.0</td>\n",
       "      <td>1</td>\n",
       "      <td>0</td>\n",
       "      <td>A/5 21171</td>\n",
       "      <td>7.2500</td>\n",
       "      <td>NaN</td>\n",
       "      <td>S</td>\n",
       "    </tr>\n",
       "    <tr>\n",
       "      <th>1</th>\n",
       "      <td>2</td>\n",
       "      <td>1</td>\n",
       "      <td>1</td>\n",
       "      <td>Cumings, Mrs. John Bradley (Florence Briggs Th...</td>\n",
       "      <td>female</td>\n",
       "      <td>38.0</td>\n",
       "      <td>1</td>\n",
       "      <td>0</td>\n",
       "      <td>PC 17599</td>\n",
       "      <td>71.2833</td>\n",
       "      <td>C85</td>\n",
       "      <td>C</td>\n",
       "    </tr>\n",
       "    <tr>\n",
       "      <th>2</th>\n",
       "      <td>3</td>\n",
       "      <td>1</td>\n",
       "      <td>3</td>\n",
       "      <td>Heikkinen, Miss. Laina</td>\n",
       "      <td>female</td>\n",
       "      <td>26.0</td>\n",
       "      <td>0</td>\n",
       "      <td>0</td>\n",
       "      <td>STON/O2. 3101282</td>\n",
       "      <td>7.9250</td>\n",
       "      <td>NaN</td>\n",
       "      <td>S</td>\n",
       "    </tr>\n",
       "  </tbody>\n",
       "</table>\n",
       "</div>"
      ],
      "text/plain": [
       "   PassengerId  Survived  Pclass  \\\n",
       "0            1         0       3   \n",
       "1            2         1       1   \n",
       "2            3         1       3   \n",
       "\n",
       "                                                Name     Sex   Age  SibSp  \\\n",
       "0                            Braund, Mr. Owen Harris    male  22.0      1   \n",
       "1  Cumings, Mrs. John Bradley (Florence Briggs Th...  female  38.0      1   \n",
       "2                             Heikkinen, Miss. Laina  female  26.0      0   \n",
       "\n",
       "   Parch            Ticket     Fare Cabin Embarked  \n",
       "0      0         A/5 21171   7.2500   NaN        S  \n",
       "1      0          PC 17599  71.2833   C85        C  \n",
       "2      0  STON/O2. 3101282   7.9250   NaN        S  "
      ]
     },
     "execution_count": 2,
     "metadata": {},
     "output_type": "execute_result"
    }
   ],
   "source": [
    "input_dir = join(\"..\", 'data', 'raw')\n",
    "output_dir = join('..', 'data', 'result')\n",
    "log_dir = join('..', 'log')\n",
    "train = pd.read_csv(join(input_dir, 'train.csv'))\n",
    "test = pd.read_csv(join(input_dir, 'test.csv'))\n",
    "\n",
    "train.head(3)"
   ]
  },
  {
   "cell_type": "markdown",
   "id": "d9a36ba0",
   "metadata": {},
   "source": [
    "As we can see, there are so many things we have to deal with in order to clean the dataset in a way that machine could understand. We have cleaned Titanic dataset as well as create new features in the past experiments, we would love to apply that into this experiment."
   ]
  },
  {
   "cell_type": "code",
   "execution_count": 3,
   "id": "6d6c2311",
   "metadata": {},
   "outputs": [
    {
     "data": {
      "text/html": [
       "<div>\n",
       "<style scoped>\n",
       "    .dataframe tbody tr th:only-of-type {\n",
       "        vertical-align: middle;\n",
       "    }\n",
       "\n",
       "    .dataframe tbody tr th {\n",
       "        vertical-align: top;\n",
       "    }\n",
       "\n",
       "    .dataframe thead th {\n",
       "        text-align: right;\n",
       "    }\n",
       "</style>\n",
       "<table border=\"1\" class=\"dataframe\">\n",
       "  <thead>\n",
       "    <tr style=\"text-align: right;\">\n",
       "      <th></th>\n",
       "      <th>Survived</th>\n",
       "      <th>Name</th>\n",
       "      <th>Sex</th>\n",
       "      <th>Embarked</th>\n",
       "      <th>FamilySize</th>\n",
       "      <th>AgeAndPclass</th>\n",
       "      <th>FareTransformed</th>\n",
       "    </tr>\n",
       "  </thead>\n",
       "  <tbody>\n",
       "    <tr>\n",
       "      <th>0</th>\n",
       "      <td>0</td>\n",
       "      <td>Braund, Mr. Owen Harris</td>\n",
       "      <td>1</td>\n",
       "      <td>0</td>\n",
       "      <td>2</td>\n",
       "      <td>66.0</td>\n",
       "      <td>0.916454</td>\n",
       "    </tr>\n",
       "    <tr>\n",
       "      <th>1</th>\n",
       "      <td>1</td>\n",
       "      <td>Cumings, Mrs. John Bradley (Florence Briggs Th...</td>\n",
       "      <td>0</td>\n",
       "      <td>1</td>\n",
       "      <td>2</td>\n",
       "      <td>38.0</td>\n",
       "      <td>1.859038</td>\n",
       "    </tr>\n",
       "    <tr>\n",
       "      <th>2</th>\n",
       "      <td>1</td>\n",
       "      <td>Heikkinen, Miss. Laina</td>\n",
       "      <td>0</td>\n",
       "      <td>0</td>\n",
       "      <td>1</td>\n",
       "      <td>78.0</td>\n",
       "      <td>0.950608</td>\n",
       "    </tr>\n",
       "  </tbody>\n",
       "</table>\n",
       "</div>"
      ],
      "text/plain": [
       "   Survived                                               Name  Sex  Embarked  \\\n",
       "0         0                            Braund, Mr. Owen Harris    1         0   \n",
       "1         1  Cumings, Mrs. John Bradley (Florence Briggs Th...    0         1   \n",
       "2         1                             Heikkinen, Miss. Laina    0         0   \n",
       "\n",
       "   FamilySize  AgeAndPclass  FareTransformed  \n",
       "0           2          66.0         0.916454  \n",
       "1           2          38.0         1.859038  \n",
       "2           1          78.0         0.950608  "
      ]
     },
     "execution_count": 3,
     "metadata": {},
     "output_type": "execute_result"
    }
   ],
   "source": [
    "# Get a copy of df_train and df_test dataset\n",
    "df_train = train.copy()\n",
    "df_test = test.copy()\n",
    "\n",
    "# ===== Preprocessing =====\n",
    "df_train = df_train.drop(['Ticket'], axis=1)\n",
    "df_test = df_test.drop(['Ticket'], axis=1)\n",
    "\n",
    "# Handle missing value for Age\n",
    "master_train = df_train['Name'].str.contains(r',\\s*Master.', regex=True)\n",
    "df_master_train = df_train[master_train].copy()\n",
    "\n",
    "master_test = df_test['Name'].str.contains(r',\\s*Master.', regex=True)\n",
    "df_master_test = df_test[master_test].copy()\n",
    "\n",
    "median_age_train = df_train['Age'].median()\n",
    "median_age_master_train = df_master_train['Age'].median()\n",
    "median_age_test = df_test['Age'].median()\n",
    "median_age_master_test = df_master_test['Age'].median()\n",
    "\n",
    "df_master_train['Age'] = df_master_train['Age'].fillna(median_age_master_train)\n",
    "df_train[master_train] = df_master_train\n",
    "df_master_test['Age'] = df_master_test['Age'].fillna(median_age_master_test)\n",
    "df_test[master_test] = df_master_test\n",
    "\n",
    "df_train['Age'] = df_train['Age'].fillna(median_age_train)\n",
    "df_test['Age'] = df_test['Age'].fillna(median_age_test)\n",
    "\n",
    "# Handle missing value for Cabin, Embarked\n",
    "df_train = df_train.drop(['Cabin'], axis=1)\n",
    "df_test = df_test.drop(['Cabin'], axis=1)\n",
    "\n",
    "df_train['Embarked'] = df_train['Embarked'].fillna(\"S\")\n",
    "df_test['Embarked'] = df_test['Embarked'].fillna(\"S\")\n",
    "\n",
    "fare_mean = df_train['Fare'].median()\n",
    "df_test['Fare'] = df_test['Fare'].fillna(fare_mean)\n",
    "\n",
    "\n",
    "# Feature encoding\n",
    "df_train['Sex'] = df_train['Sex'].map( {'female': 0, 'male': 1} ).astype(int)\n",
    "df_test['Sex'] = df_test['Sex'].map( {'female': 0, 'male': 1} ).astype(int)\n",
    "df_train['Embarked'] = df_train['Embarked'].map( {'S': 0, 'C': 1, 'Q': 2} ).astype(int)\n",
    "df_test['Embarked'] = df_test['Embarked'].map( {'S': 0, 'C': 1, 'Q': 2} ).astype(int)\n",
    "\n",
    "# ===== Feature Engineering =====\n",
    "\n",
    "# Familysize\n",
    "df_train[\"FamilySize\"] = df_train[\"SibSp\"] + df_train[\"Parch\"] + 1\n",
    "df_test[\"FamilySize\"] = df_test[\"SibSp\"] + df_test[\"Parch\"] + 1\n",
    "\n",
    "df_train = df_train.drop(['Parch','SibSp'], axis=1)\n",
    "df_test = df_test.drop(['Parch', 'SibSp'], axis=1)\n",
    "\n",
    "# ageAndPclass\n",
    "df_train[\"AgeAndPclass\"] = df_train[\"Age\"] * df_train[\"Pclass\"]\n",
    "df_test[\"AgeAndPclass\"] = df_test[\"Age\"] * df_test[\"Pclass\"]\n",
    "\n",
    "df_train = df_train.drop(['Age', 'Pclass', 'PassengerId'], axis=1)\n",
    "df_test = df_test.drop(['Age', 'Pclass', 'PassengerId'], axis=1)\n",
    "\n",
    "# Scale Fare feature using log transformation\n",
    "df_train[\"FareTransformed\"] = np.log10(df_train[\"Fare\"] + 1)\n",
    "df_test[\"FareTransformed\"] = np.log10(df_test[\"Fare\"] + 1)\n",
    "df_train = df_train.drop([\"Fare\"], axis=1)\n",
    "df_test = df_test.drop([\"Fare\"], axis=1)\n",
    "\n",
    "df_train.head(3)"
   ]
  },
  {
   "cell_type": "markdown",
   "id": "3bc90637",
   "metadata": {},
   "source": [
    "## `Title` feature"
   ]
  },
  {
   "cell_type": "markdown",
   "id": "3330ecf0",
   "metadata": {},
   "source": [
    "The dataset looks cleaner than the original. In our previous experiment, we did remove `Name` feature. However, as we saw interesting result from the experiment by Diego Milla (https://www.kaggle.com/code/dmilla/introduction-to-decision-trees-titanic-dataset), we decided to not remove `Name` feauture, and try to analyse it instead.\n",
    "\n",
    "Now we will extract `Title` from `Name` feature like what Diego Milla did."
   ]
  },
  {
   "cell_type": "code",
   "execution_count": 4,
   "id": "9891b83b",
   "metadata": {},
   "outputs": [
    {
     "data": {
      "text/html": [
       "<div>\n",
       "<style scoped>\n",
       "    .dataframe tbody tr th:only-of-type {\n",
       "        vertical-align: middle;\n",
       "    }\n",
       "\n",
       "    .dataframe tbody tr th {\n",
       "        vertical-align: top;\n",
       "    }\n",
       "\n",
       "    .dataframe thead th {\n",
       "        text-align: right;\n",
       "    }\n",
       "</style>\n",
       "<table border=\"1\" class=\"dataframe\">\n",
       "  <thead>\n",
       "    <tr style=\"text-align: right;\">\n",
       "      <th></th>\n",
       "      <th>Survived</th>\n",
       "      <th>Sex</th>\n",
       "      <th>Embarked</th>\n",
       "      <th>FamilySize</th>\n",
       "      <th>AgeAndPclass</th>\n",
       "      <th>FareTransformed</th>\n",
       "      <th>Title</th>\n",
       "    </tr>\n",
       "  </thead>\n",
       "  <tbody>\n",
       "    <tr>\n",
       "      <th>0</th>\n",
       "      <td>0</td>\n",
       "      <td>1</td>\n",
       "      <td>0</td>\n",
       "      <td>2</td>\n",
       "      <td>66.0</td>\n",
       "      <td>0.916454</td>\n",
       "      <td>1</td>\n",
       "    </tr>\n",
       "    <tr>\n",
       "      <th>1</th>\n",
       "      <td>1</td>\n",
       "      <td>0</td>\n",
       "      <td>1</td>\n",
       "      <td>2</td>\n",
       "      <td>38.0</td>\n",
       "      <td>1.859038</td>\n",
       "      <td>3</td>\n",
       "    </tr>\n",
       "    <tr>\n",
       "      <th>2</th>\n",
       "      <td>1</td>\n",
       "      <td>0</td>\n",
       "      <td>0</td>\n",
       "      <td>1</td>\n",
       "      <td>78.0</td>\n",
       "      <td>0.950608</td>\n",
       "      <td>4</td>\n",
       "    </tr>\n",
       "  </tbody>\n",
       "</table>\n",
       "</div>"
      ],
      "text/plain": [
       "   Survived  Sex  Embarked  FamilySize  AgeAndPclass  FareTransformed  Title\n",
       "0         0    1         0           2          66.0         0.916454      1\n",
       "1         1    0         1           2          38.0         1.859038      3\n",
       "2         1    0         0           1          78.0         0.950608      4"
      ]
     },
     "execution_count": 4,
     "metadata": {},
     "output_type": "execute_result"
    }
   ],
   "source": [
    "full_data = [df_train, df_test]\n",
    "def get_title(name):\n",
    "    title_search = re.search(' ([A-Za-z]+)\\.', name)\n",
    "    # If the title exists, extract and return it.\n",
    "    if title_search:\n",
    "        return title_search.group(1)\n",
    "    return \"\"\n",
    "\n",
    "for dataset in full_data:\n",
    "    dataset['Title'] = dataset['Name'].apply(get_title)\n",
    "# Group all non-common titles into one single grouping \"Rare\"\n",
    "for dataset in full_data:\n",
    "    dataset['Title'] = dataset['Title'].replace(['Lady', 'Countess','Capt', 'Col','Don', 'Dr', 'Major', 'Rev', 'Sir', 'Jonkheer', 'Dona'], 'Rare')\n",
    "\n",
    "    dataset['Title'] = dataset['Title'].replace('Mlle', 'Miss')\n",
    "    dataset['Title'] = dataset['Title'].replace('Ms', 'Miss')\n",
    "    dataset['Title'] = dataset['Title'].replace('Mme', 'Mrs')\n",
    "    # Mapping titles\n",
    "    title_mapping = {\"Mr\": 1, \"Master\": 2, \"Mrs\": 3, \"Miss\": 4, \"Rare\": 5}\n",
    "    dataset['Title'] = dataset['Title'].map(title_mapping)\n",
    "    dataset['Title'] = dataset['Title'].fillna(0)\n",
    "\n",
    "df_train = df_train.drop(['Name'], axis=1)\n",
    "df_test = df_test.drop(['Name'], axis=1)\n",
    "    \n",
    "df_train.head(3)"
   ]
  },
  {
   "cell_type": "code",
   "execution_count": 5,
   "id": "8e8bb316",
   "metadata": {},
   "outputs": [
    {
     "data": {
      "text/plain": [
       "<Axes: title={'center': 'Pearson Correlation of Features'}>"
      ]
     },
     "execution_count": 5,
     "metadata": {},
     "output_type": "execute_result"
    },
    {
     "data": {
      "image/png": "[encoded data removed]",
      "text/plain": [
       "<Figure size 1200x1200 with 2 Axes>"
      ]
     },
     "metadata": {},
     "output_type": "display_data"
    }
   ],
   "source": [
    "colormap = plt.cm.viridis\n",
    "plt.figure(figsize=(12,12))\n",
    "plt.title('Pearson Correlation of Features', y=1.05, size=15)\n",
    "sns.heatmap(df_train.astype(float).corr(),linewidths=0.1,vmax=1.0, square=True, cmap=colormap, linecolor='white', annot=True)"
   ]
  },
  {
   "cell_type": "markdown",
   "id": "d084cded",
   "metadata": {},
   "source": [
    "As we can see here, correlation between `Sex` and `Title` is quite high, it fact, it's the highest correlation figure in the heatmap. Which means that `Title` could contain some information of `Sex` or most of it. \n",
    "\n",
    "Base on Diego Milla's experiment, we can see that all of the titles share the same Sex, except for a single observation (a female with 'Dr' title). Therefore, `Title` may be more valuable to our task by capturing other characteristics of the individuals like age, social class, personality,..."
   ]
  },
  {
   "cell_type": "markdown",
   "id": "2b4b2763",
   "metadata": {},
   "source": [
    "## Gini impurity"
   ]
  },
  {
   "cell_type": "markdown",
   "id": "1a8cc285",
   "metadata": {},
   "source": [
    "We will check feature `Sex` and `Title` as a conditional point to see if the dataset could do the good job at splitting dataset by calculating Gini impurity for each feature."
   ]
  },
  {
   "cell_type": "code",
   "execution_count": 6,
   "id": "e470ba4f",
   "metadata": {},
   "outputs": [],
   "source": [
    "# Define function to calculate Gini Impurity\n",
    "def get_gini_impurity(survived_count, total_count):\n",
    "    survival_prob = survived_count/total_count\n",
    "    not_survival_prob = (1 - survival_prob)\n",
    "    random_observation_survived_prob = survival_prob\n",
    "    random_observation_not_survived_prob = (1 - random_observation_survived_prob)\n",
    "    mislabelling_survided_prob = not_survival_prob * random_observation_survived_prob\n",
    "    mislabelling_not_survided_prob = survival_prob * random_observation_not_survived_prob\n",
    "    gini_impurity = mislabelling_survided_prob + mislabelling_not_survided_prob\n",
    "    return gini_impurity"
   ]
  },
  {
   "cell_type": "code",
   "execution_count": 7,
   "id": "119c0088",
   "metadata": {},
   "outputs": [
    {
     "name": "stdout",
     "output_type": "stream",
     "text": [
      "===== Split by Sex =====\n",
      "Total male survived: 109\n",
      "Total male not survived: 468\n",
      "\n",
      "Total female survived: 233\n",
      "Total female not survived: 81\n",
      "\n",
      "===== Split by Mr =====\n",
      "Total Mr survived: 81\n",
      "Total Mr not survived: 436\n",
      "Total other than Mr survived: 261\n",
      "Total other than Mr not survived: 113\n",
      "\n"
     ]
    }
   ],
   "source": [
    "# Count number of passengers who did not survive (Survived == 0)\n",
    "total_passenger = (df_train['Survived'] == 1).sum() + (df_train['Survived'] == 0).sum()\n",
    "num_not_survived = (df_train['Survived'] == 0).sum()\n",
    "\n",
    "# Male\n",
    "total_male = (df_train['Sex'] == 1).sum()\n",
    "total_male_survived = ((df_train['Sex'] == 1) & (df_train['Survived'] == 1)).sum()\n",
    "\n",
    "# Female\n",
    "total_female = total_passenger - total_male\n",
    "total_female_survived = ((df_train['Sex'] == 0) & (df_train['Survived'] == 1)).sum()\n",
    "\n",
    "# Title: title_mapping = {\"Mr\": 1, \"Master\": 2, \"Mrs\": 3, \"Miss\": 4, \"Rare\": 5}\n",
    "total_mr = (df_train['Title'] == 1).sum()\n",
    "total_master = (df_train['Title'] == 2).sum()\n",
    "total_mrs = (df_train['Title'] == 3).sum()\n",
    "total_miss = (df_train['Title'] == 4).sum()\n",
    "total_rare = (df_train['Title'] == 5).sum()\n",
    "\n",
    "total_mr_survived = ((df_train['Title'] == 1) & (df_train['Survived'] == 1)).sum()\n",
    "total_other_mr_survived = ((df_train['Title'] != 1) & (df_train['Survived'] == 1)).sum()\n",
    "\n",
    "print(\"===== Split by Sex =====\")\n",
    "print(f\"Total male survived: {total_male_survived}\")\n",
    "print(f\"Total male not survived: {total_male - total_male_survived}\\n\")\n",
    "\n",
    "print(f\"Total female survived: {total_female_survived}\")\n",
    "print(f\"Total female not survived: {total_female - total_female_survived}\\n\")\n",
    "\n",
    "print(\"===== Split by Mr =====\")\n",
    "print(f\"Total Mr survived: {total_mr_survived}\")\n",
    "print(f\"Total Mr not survived: {total_mr - total_mr_survived}\")\n",
    "print(f'Total other than Mr survived: {total_other_mr_survived}')\n",
    "print(f'Total other than Mr not survived: {total_passenger - total_mr - total_other_mr_survived}\\n')"
   ]
  },
  {
   "cell_type": "code",
   "execution_count": 8,
   "id": "cef34ae2",
   "metadata": {},
   "outputs": [
    {
     "name": "stdout",
     "output_type": "stream",
     "text": [
      "Gini Impurity of Titanic dataset if not split: 0.47301295786144265\n"
     ]
    }
   ],
   "source": [
    "gini_baseline = get_gini_impurity(total_passenger - num_not_survived, total_passenger)\n",
    "print(f'Gini Impurity of Titanic dataset if not split: {gini_baseline}')"
   ]
  },
  {
   "cell_type": "code",
   "execution_count": 9,
   "id": "9c0a4579",
   "metadata": {},
   "outputs": [
    {
     "data": {
      "text/plain": [
       "np.float64(0.3064437162277843)"
      ]
     },
     "execution_count": 9,
     "metadata": {},
     "output_type": "execute_result"
    }
   ],
   "source": [
    "gini_male = get_gini_impurity(total_male_survived, total_male)\n",
    "gini_male"
   ]
  },
  {
   "cell_type": "code",
   "execution_count": 10,
   "id": "8f7c8d6d",
   "metadata": {},
   "outputs": [
    {
     "data": {
      "text/plain": [
       "np.float64(0.3828350034484158)"
      ]
     },
     "execution_count": 10,
     "metadata": {},
     "output_type": "execute_result"
    }
   ],
   "source": [
    "gini_female = get_gini_impurity(total_female_survived, total_female)\n",
    "gini_female"
   ]
  },
  {
   "cell_type": "code",
   "execution_count": 11,
   "id": "b03010c8",
   "metadata": {},
   "outputs": [
    {
     "name": "stdout",
     "output_type": "stream",
     "text": [
      "Gini Impurity of Titanic dataset if split by Sex: 0.3333650003885905\n"
     ]
    }
   ],
   "source": [
    "male_weight = total_male / total_passenger\n",
    "female_weight = total_female / total_passenger\n",
    "weight_gini_sex = male_weight * gini_male + female_weight * gini_female\n",
    "print(f'Gini Impurity of Titanic dataset if split by Sex: {weight_gini_sex}')"
   ]
  },
  {
   "cell_type": "code",
   "execution_count": 12,
   "id": "c3a66454",
   "metadata": {},
   "outputs": [
    {
     "data": {
      "text/plain": [
       "np.float64(0.26425329886377663)"
      ]
     },
     "execution_count": 12,
     "metadata": {},
     "output_type": "execute_result"
    }
   ],
   "source": [
    "gini_mr = get_gini_impurity(total_mr_survived, total_mr)\n",
    "gini_mr"
   ]
  },
  {
   "cell_type": "code",
   "execution_count": 13,
   "id": "e7a44f36",
   "metadata": {},
   "outputs": [
    {
     "data": {
      "text/plain": [
       "np.float64(0.42170207898424317)"
      ]
     },
     "execution_count": 13,
     "metadata": {},
     "output_type": "execute_result"
    }
   ],
   "source": [
    "gini_not_mr = get_gini_impurity(total_other_mr_survived, total_passenger - total_mr)\n",
    "gini_not_mr"
   ]
  },
  {
   "cell_type": "code",
   "execution_count": 14,
   "id": "3fb9ecf7",
   "metadata": {},
   "outputs": [
    {
     "name": "stdout",
     "output_type": "stream",
     "text": [
      "Gini Impurity of Titanic dataset if split by Title (Mr): 0.3303429102723675\n"
     ]
    }
   ],
   "source": [
    "mr_weight = total_mr / total_passenger\n",
    "not_mr_weight = (total_passenger - total_mr) / total_passenger\n",
    "weight_mr_gini = mr_weight * gini_mr + not_mr_weight * gini_not_mr\n",
    "weight_mr_gini\n",
    "print(f'Gini Impurity of Titanic dataset if split by Title (Mr): {weight_mr_gini}')"
   ]
  },
  {
   "cell_type": "markdown",
   "id": "57a490aa",
   "metadata": {
    "vscode": {
     "languageId": "bat"
    }
   },
   "source": [
    "From this df_test we could see that splitting tree using `Title` as the first conditional node would be better than `Sex` as Gini Impurity of title `Mr` is lower than that of `Sex`."
   ]
  },
  {
   "cell_type": "markdown",
   "id": "968d4494",
   "metadata": {},
   "source": [
    "## Modelling"
   ]
  },
  {
   "cell_type": "markdown",
   "id": "c325ade5",
   "metadata": {},
   "source": [
    "### Find the best depth for decision tree"
   ]
  },
  {
   "cell_type": "code",
   "execution_count": 15,
   "id": "8bd3534e",
   "metadata": {},
   "outputs": [
    {
     "name": "stdout",
     "output_type": "stream",
     "text": [
      " Max Depth  Average Accuracy\n",
      "         1          0.782285\n",
      "         2          0.817066\n",
      "         3          0.821548\n",
      "         4          0.831660\n",
      "         5          0.823883\n",
      "         6          0.830562\n"
     ]
    }
   ],
   "source": [
    "cv = KFold(n_splits=10)            # Desired number of Cross Validation folds\n",
    "accuracies = list()\n",
    "max_attributes = len(list(df_test))\n",
    "depth_range = range(1, max_attributes + 1)\n",
    "\n",
    "# Testing max_depths from 1 to max attributes\n",
    "# Uncomment prints for details about each Cross Validation pass\n",
    "for depth in depth_range:\n",
    "    fold_accuracy = []\n",
    "    tree_model = tree.DecisionTreeClassifier(max_depth = depth)\n",
    "    # print(\"Current max depth: \", depth, \"\\n\")\n",
    "    for train_fold, valid_fold in cv.split(df_train):\n",
    "        f_train = df_train.loc[train_fold] # Extract df_train data with cv indices\n",
    "        f_valid = df_train.loc[valid_fold] # Extract valid data with cv indices\n",
    "\n",
    "        model = tree_model.fit(X = f_train.drop(['Survived'], axis=1), \n",
    "                               y = f_train[\"Survived\"]) # We fit the model with the fold df_train data\n",
    "        valid_acc = model.score(X = f_valid.drop(['Survived'], axis=1), \n",
    "                                y = f_valid[\"Survived\"])# We calculate accuracy with the fold validation data\n",
    "        fold_accuracy.append(valid_acc)\n",
    "\n",
    "    avg = sum(fold_accuracy)/len(fold_accuracy)\n",
    "    accuracies.append(avg)\n",
    "    # print(\"Accuracy per fold: \", fold_accuracy, \"\\n\")\n",
    "    # print(\"Average accuracy: \", avg)\n",
    "    # print(\"\\n\")\n",
    "    \n",
    "# Just to show results conveniently\n",
    "df = pd.DataFrame({\"Max Depth\": depth_range, \"Average Accuracy\": accuracies})\n",
    "df = df[[\"Max Depth\", \"Average Accuracy\"]]\n",
    "print(df.to_string(index=False))"
   ]
  },
  {
   "cell_type": "markdown",
   "id": "ec79dd73",
   "metadata": {},
   "source": [
    "### Create submission file"
   ]
  },
  {
   "cell_type": "code",
   "execution_count": 16,
   "id": "9a7ebe66",
   "metadata": {},
   "outputs": [
    {
     "data": {
      "text/plain": [
       "['..\\\\log\\\\decision_tree_model.pkl']"
      ]
     },
     "execution_count": 16,
     "metadata": {},
     "output_type": "execute_result"
    }
   ],
   "source": [
    "# Create Numpy arrays of df_train, df_test and target (Survived) dataframes to feed into our models\n",
    "y_train = df_train['Survived']\n",
    "x_train = df_train.drop(['Survived'], axis=1).values \n",
    "x_test = df_test.values\n",
    "\n",
    "# Create Decision Tree with max_depth = 6\n",
    "decision_tree = tree.DecisionTreeClassifier(max_depth = 6)\n",
    "decision_tree.fit(x_train, y_train)\n",
    "\n",
    "# Predicting results for df_test dataset\n",
    "y_pred = decision_tree.predict(x_test)\n",
    "submission = pd.DataFrame({\n",
    "        \"PassengerId\": test['PassengerId'],\n",
    "        \"Survived\": y_pred\n",
    "    })\n",
    "submission.to_csv(join(output_dir, 'submission.csv'), index=False)\n",
    "\n",
    "joblib.dump(decision_tree, join('..', 'log', 'decision_tree_model.pkl'))"
   ]
  },
  {
   "cell_type": "code",
   "execution_count": 17,
   "id": "336af9fa",
   "metadata": {},
   "outputs": [
    {
     "data": {
      "text/plain": [
       "86.64"
      ]
     },
     "execution_count": 17,
     "metadata": {},
     "output_type": "execute_result"
    }
   ],
   "source": [
    "acc_decision_tree = round(decision_tree.score(x_train, y_train) * 100, 2)\n",
    "acc_decision_tree"
   ]
  },
  {
   "cell_type": "markdown",
   "id": "0a2cf1a9",
   "metadata": {},
   "source": [
    "# The end"
   ]
  }
 ],
 "metadata": {
  "kernelspec": {
   "display_name": "lab1",
   "language": "python",
   "name": "python3"
  },
  "language_info": {
   "codemirror_mode": {
    "name": "ipython",
    "version": 3
   },
   "file_extension": ".py",
   "mimetype": "text/x-python",
   "name": "python",
   "nbconvert_exporter": "python",
   "pygments_lexer": "ipython3",
   "version": "3.13.7"
  }
 },
 "nbformat": 4,
 "nbformat_minor": 5
}
